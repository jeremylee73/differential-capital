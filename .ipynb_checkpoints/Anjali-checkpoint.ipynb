{
 "cells": [
  {
   "cell_type": "code",
   "execution_count": 1,
   "metadata": {},
   "outputs": [],
   "source": [
    "#library imports\n",
    "import pandas as pd\n",
    "import numpy as np\n",
    "import seaborn as sns\n",
    "import matplotlib.pyplot as plt\n",
    "import sklearn\n",
    "import talib\n",
    "import warnings\n",
    "warnings.filterwarnings('ignore')"
   ]
  },
  {
   "cell_type": "code",
   "execution_count": 2,
   "metadata": {},
   "outputs": [],
   "source": [
    "#data imports\n",
    "volumes = pd.read_csv('Data/stock_volumes.csv', index_col = 'date', parse_dates = True)\n",
    "prices = pd.read_csv('Data/stock_prices.csv', index_col = 'date', parse_dates = True)\n",
    "info = pd.read_csv('Data/stock_info.csv')\n",
    "sp_listings = pd.read_csv('Data/sp500_listings.csv', index_col = 'date', parse_dates = True)"
   ]
  },
  {
   "cell_type": "markdown",
   "metadata": {},
   "source": [
    "# Sample Stock"
   ]
  },
  {
   "cell_type": "code",
   "execution_count": 3,
   "metadata": {},
   "outputs": [],
   "source": [
    "#select one stock\n",
    "stock1 = prices[['905270']]\n",
    "stock1.rename(columns = {'905270':'Price'}, inplace = True)"
   ]
  },
  {
   "cell_type": "code",
   "execution_count": 4,
   "metadata": {},
   "outputs": [
    {
     "data": {
      "text/html": [
       "<div>\n",
       "<style scoped>\n",
       "    .dataframe tbody tr th:only-of-type {\n",
       "        vertical-align: middle;\n",
       "    }\n",
       "\n",
       "    .dataframe tbody tr th {\n",
       "        vertical-align: top;\n",
       "    }\n",
       "\n",
       "    .dataframe thead th {\n",
       "        text-align: right;\n",
       "    }\n",
       "</style>\n",
       "<table border=\"1\" class=\"dataframe\">\n",
       "  <thead>\n",
       "    <tr style=\"text-align: right;\">\n",
       "      <th></th>\n",
       "      <th>Price</th>\n",
       "    </tr>\n",
       "    <tr>\n",
       "      <th>date</th>\n",
       "      <th></th>\n",
       "    </tr>\n",
       "  </thead>\n",
       "  <tbody>\n",
       "    <tr>\n",
       "      <th>1990-01-02</th>\n",
       "      <td>22.75</td>\n",
       "    </tr>\n",
       "    <tr>\n",
       "      <th>1990-01-03</th>\n",
       "      <td>22.56</td>\n",
       "    </tr>\n",
       "    <tr>\n",
       "      <th>1990-01-04</th>\n",
       "      <td>22.38</td>\n",
       "    </tr>\n",
       "    <tr>\n",
       "      <th>1990-01-05</th>\n",
       "      <td>21.81</td>\n",
       "    </tr>\n",
       "    <tr>\n",
       "      <th>1990-01-08</th>\n",
       "      <td>22.25</td>\n",
       "    </tr>\n",
       "  </tbody>\n",
       "</table>\n",
       "</div>"
      ],
      "text/plain": [
       "            Price\n",
       "date             \n",
       "1990-01-02  22.75\n",
       "1990-01-03  22.56\n",
       "1990-01-04  22.38\n",
       "1990-01-05  21.81\n",
       "1990-01-08  22.25"
      ]
     },
     "execution_count": 4,
     "metadata": {},
     "output_type": "execute_result"
    }
   ],
   "source": [
    "stock1.head()"
   ]
  },
  {
   "cell_type": "code",
   "execution_count": 5,
   "metadata": {},
   "outputs": [],
   "source": [
    "#find when stock was delisted\n",
    "delist_date = sp_listings.where(sp_listings['stock'] == '905270').last_valid_index() + pd.DateOffset(1)"
   ]
  },
  {
   "cell_type": "code",
   "execution_count": 6,
   "metadata": {},
   "outputs": [
    {
     "data": {
      "text/html": [
       "<div>\n",
       "<style scoped>\n",
       "    .dataframe tbody tr th:only-of-type {\n",
       "        vertical-align: middle;\n",
       "    }\n",
       "\n",
       "    .dataframe tbody tr th {\n",
       "        vertical-align: top;\n",
       "    }\n",
       "\n",
       "    .dataframe thead th {\n",
       "        text-align: right;\n",
       "    }\n",
       "</style>\n",
       "<table border=\"1\" class=\"dataframe\">\n",
       "  <thead>\n",
       "    <tr style=\"text-align: right;\">\n",
       "      <th></th>\n",
       "      <th>stock</th>\n",
       "    </tr>\n",
       "    <tr>\n",
       "      <th>date</th>\n",
       "      <th></th>\n",
       "    </tr>\n",
       "  </thead>\n",
       "  <tbody>\n",
       "    <tr>\n",
       "      <th>1990-01-01</th>\n",
       "      <td>905270</td>\n",
       "    </tr>\n",
       "    <tr>\n",
       "      <th>1990-01-01</th>\n",
       "      <td>921795</td>\n",
       "    </tr>\n",
       "    <tr>\n",
       "      <th>1990-01-01</th>\n",
       "      <td>904261</td>\n",
       "    </tr>\n",
       "    <tr>\n",
       "      <th>1990-01-01</th>\n",
       "      <td>905261</td>\n",
       "    </tr>\n",
       "    <tr>\n",
       "      <th>1990-01-01</th>\n",
       "      <td>916328</td>\n",
       "    </tr>\n",
       "  </tbody>\n",
       "</table>\n",
       "</div>"
      ],
      "text/plain": [
       "             stock\n",
       "date              \n",
       "1990-01-01  905270\n",
       "1990-01-01  921795\n",
       "1990-01-01  904261\n",
       "1990-01-01  905261\n",
       "1990-01-01  916328"
      ]
     },
     "execution_count": 6,
     "metadata": {},
     "output_type": "execute_result"
    }
   ],
   "source": [
    "sp_listings.head()"
   ]
  },
  {
   "cell_type": "code",
   "execution_count": 7,
   "metadata": {},
   "outputs": [],
   "source": [
    "#set all values after delist date to NaN\n",
    "stock1.loc[delist_date:]['Price'] = np.nan"
   ]
  },
  {
   "cell_type": "code",
   "execution_count": 8,
   "metadata": {},
   "outputs": [],
   "source": [
    "#drop missing values\n",
    "stock1.dropna(inplace = True)"
   ]
  },
  {
   "cell_type": "code",
   "execution_count": 9,
   "metadata": {},
   "outputs": [
    {
     "data": {
      "image/png": "[encoded data removed]",
      "text/plain": [
       "<Figure size 432x288 with 1 Axes>"
      ]
     },
     "metadata": {
      "needs_background": "light"
     },
     "output_type": "display_data"
    }
   ],
   "source": [
    "#EDA\n",
    "stock1['Price'].plot()\n",
    "plt.ylabel('Price ($)')\n",
    "plt.show()"
   ]
  },
  {
   "cell_type": "code",
   "execution_count": 10,
   "metadata": {},
   "outputs": [],
   "source": [
    "#Create target\n",
    "stock1['10d_future_price'] = stock1['Price'].shift(-10)"
   ]
  },
  {
   "cell_type": "code",
   "execution_count": 11,
   "metadata": {},
   "outputs": [],
   "source": [
    "#Create features\n",
    "feature_names = []\n",
    "for n in [14, 50, 200]:\n",
    "    stock1['ma' + str(n)] = talib.SMA(stock1['Price'].values, timeperiod = n)/stock1['Price']\n",
    "    stock1['rsi' + str(n)] = talib.RSI(stock1['Price'].values, timeperiod = n)\n",
    "    feature_names += ['ma' + str(n), 'rsi' + str(n)]"
   ]
  },
  {
   "cell_type": "code",
   "execution_count": 12,
   "metadata": {},
   "outputs": [
    {
     "data": {
      "text/html": [
       "<div>\n",
       "<style scoped>\n",
       "    .dataframe tbody tr th:only-of-type {\n",
       "        vertical-align: middle;\n",
       "    }\n",
       "\n",
       "    .dataframe tbody tr th {\n",
       "        vertical-align: top;\n",
       "    }\n",
       "\n",
       "    .dataframe thead th {\n",
       "        text-align: right;\n",
       "    }\n",
       "</style>\n",
       "<table border=\"1\" class=\"dataframe\">\n",
       "  <thead>\n",
       "    <tr style=\"text-align: right;\">\n",
       "      <th></th>\n",
       "      <th>10d_future_price</th>\n",
       "    </tr>\n",
       "  </thead>\n",
       "  <tbody>\n",
       "    <tr>\n",
       "      <th>10d_future_price</th>\n",
       "      <td>1.000000</td>\n",
       "    </tr>\n",
       "    <tr>\n",
       "      <th>Price</th>\n",
       "      <td>0.970540</td>\n",
       "    </tr>\n",
       "    <tr>\n",
       "      <th>rsi50</th>\n",
       "      <td>0.289926</td>\n",
       "    </tr>\n",
       "    <tr>\n",
       "      <th>rsi200</th>\n",
       "      <td>0.266427</td>\n",
       "    </tr>\n",
       "    <tr>\n",
       "      <th>rsi14</th>\n",
       "      <td>0.199373</td>\n",
       "    </tr>\n",
       "    <tr>\n",
       "      <th>ma14</th>\n",
       "      <td>-0.098546</td>\n",
       "    </tr>\n",
       "    <tr>\n",
       "      <th>ma50</th>\n",
       "      <td>-0.223523</td>\n",
       "    </tr>\n",
       "    <tr>\n",
       "      <th>ma200</th>\n",
       "      <td>-0.261589</td>\n",
       "    </tr>\n",
       "  </tbody>\n",
       "</table>\n",
       "</div>"
      ],
      "text/plain": [
       "                  10d_future_price\n",
       "10d_future_price          1.000000\n",
       "Price                     0.970540\n",
       "rsi50                     0.289926\n",
       "rsi200                    0.266427\n",
       "rsi14                     0.199373\n",
       "ma14                     -0.098546\n",
       "ma50                     -0.223523\n",
       "ma200                    -0.261589"
      ]
     },
     "execution_count": 12,
     "metadata": {},
     "output_type": "execute_result"
    }
   ],
   "source": [
    "stock1.corr()[['10d_future_price']].sort_values(by='10d_future_price', ascending = False)"
   ]
  },
  {
   "cell_type": "code",
   "execution_count": 13,
   "metadata": {},
   "outputs": [],
   "source": [
    "#Drop null values\n",
    "stock1.dropna(inplace = True)"
   ]
  },
  {
   "cell_type": "code",
   "execution_count": 14,
   "metadata": {},
   "outputs": [],
   "source": [
    "#Create features and targets\n",
    "X = stock1[feature_names]\n",
    "y = stock1[['10d_future_price']]"
   ]
  },
  {
   "cell_type": "code",
   "execution_count": 15,
   "metadata": {},
   "outputs": [],
   "source": [
    "#Split data into train, test\n",
    "train_pct = 0.8\n",
    "train_size = int(train_pct * stock1.shape[0])\n",
    "X_train = X[:train_size]\n",
    "y_train = y[:train_size]\n",
    "X_test = X[train_size:]\n",
    "y_test = y[train_size:]"
   ]
  },
  {
   "cell_type": "markdown",
   "metadata": {},
   "source": [
    "## Random Forest"
   ]
  },
  {
   "cell_type": "code",
   "execution_count": 16,
   "metadata": {},
   "outputs": [],
   "source": [
    "from sklearn.ensemble import RandomForestRegressor\n",
    "from sklearn.model_selection import RandomizedSearchCV"
   ]
  },
  {
   "cell_type": "code",
   "execution_count": 17,
   "metadata": {},
   "outputs": [
    {
     "data": {
      "text/plain": [
       "RandomForestRegressor(n_estimators=200)"
      ]
     },
     "execution_count": 17,
     "metadata": {},
     "output_type": "execute_result"
    }
   ],
   "source": [
    "#Random Forest\n",
    "rf = RandomForestRegressor(n_estimators=200)\n",
    "rf.fit(X_train, y_train)"
   ]
  },
  {
   "cell_type": "code",
   "execution_count": 18,
   "metadata": {},
   "outputs": [
    {
     "name": "stdout",
     "output_type": "stream",
     "text": [
      "0.9640603770272514\n",
      "-4.184661704317636\n"
     ]
    }
   ],
   "source": [
    "#Calculate R2 score\n",
    "print(rf.score(X_train, y_train))\n",
    "print(rf.score(X_test, y_test))"
   ]
  },
  {
   "cell_type": "code",
   "execution_count": 19,
   "metadata": {},
   "outputs": [],
   "source": [
    "# Hyperparameter Tuning\n",
    "param_dist = {'n_estimators':[100, 150, 200, 250],\n",
    "              'max_depth': [3, 4, 5, 6, 7, 8, 9],\n",
    "              'random_state': [42]}\n",
    "test_scores = []\n",
    "\n",
    "rf_tune = RandomizedSearchCV(estimator = rf,\n",
    "                             param_distributions = param_dist,\n",
    "                             n_jobs = -1, scoring = 'r2')"
   ]
  },
  {
   "cell_type": "code",
   "execution_count": 20,
   "metadata": {},
   "outputs": [
    {
     "data": {
      "text/plain": [
       "RandomizedSearchCV(estimator=RandomForestRegressor(n_estimators=200), n_jobs=-1,\n",
       "                   param_distributions={'max_depth': [3, 4, 5, 6, 7, 8, 9],\n",
       "                                        'n_estimators': [100, 150, 200, 250],\n",
       "                                        'random_state': [42]},\n",
       "                   scoring='r2')"
      ]
     },
     "execution_count": 20,
     "metadata": {},
     "output_type": "execute_result"
    }
   ],
   "source": [
    "rf_tune.fit(X_train, y_train)"
   ]
  },
  {
   "cell_type": "code",
   "execution_count": 21,
   "metadata": {},
   "outputs": [
    {
     "data": {
      "text/plain": [
       "{'random_state': 42, 'n_estimators': 250, 'max_depth': 4}"
      ]
     },
     "execution_count": 21,
     "metadata": {},
     "output_type": "execute_result"
    }
   ],
   "source": [
    "rf_tune.best_params_"
   ]
  },
  {
   "cell_type": "code",
   "execution_count": 22,
   "metadata": {},
   "outputs": [
    {
     "data": {
      "text/plain": [
       "-8.816816216201158"
      ]
     },
     "execution_count": 22,
     "metadata": {},
     "output_type": "execute_result"
    }
   ],
   "source": [
    "rf_tune.best_score_"
   ]
  },
  {
   "cell_type": "code",
   "execution_count": 23,
   "metadata": {},
   "outputs": [
    {
     "data": {
      "image/png": "[encoded data removed]",
      "text/plain": [
       "<Figure size 432x288 with 1 Axes>"
      ]
     },
     "metadata": {
      "needs_background": "light"
     },
     "output_type": "display_data"
    }
   ],
   "source": [
    "#Examine feature importances\n",
    "importances = rf.feature_importances_\n",
    "indices = np.argsort(importances)\n",
    "plt.title('Feature Importances')\n",
    "plt.barh(range(len(indices)), importances[indices], color='#00838fff', align='center')\n",
    "plt.yticks(range(len(indices)), [feature_names[i] for i in indices])\n",
    "plt.xlabel('Relative Importance')\n",
    "plt.show()"
   ]
  },
  {
   "cell_type": "markdown",
   "metadata": {},
   "source": [
    "### Evaluation"
   ]
  },
  {
   "cell_type": "code",
   "execution_count": 24,
   "metadata": {},
   "outputs": [],
   "source": [
    "#Evaluate on train set\n",
    "rf_train_pred = pd.DataFrame(rf.predict(X_train))\n",
    "rf_train_pred.index = y_train.index\n",
    "rf_train_eval = pd.concat([y_train, rf_train_pred], axis = 1)\n",
    "rf_train_eval.columns = ['actual', 'predicted']"
   ]
  },
  {
   "cell_type": "code",
   "execution_count": 25,
   "metadata": {},
   "outputs": [
    {
     "data": {
      "text/plain": [
       "<matplotlib.legend.Legend at 0x7fb798ee5370>"
      ]
     },
     "execution_count": 25,
     "metadata": {},
     "output_type": "execute_result"
    },
    {
     "data": {
      "image/png": "[encoded data removed]",
      "text/plain": [
       "<Figure size 432x288 with 1 Axes>"
      ]
     },
     "metadata": {
      "needs_background": "light"
     },
     "output_type": "display_data"
    }
   ],
   "source": [
    "#Visualize\n",
    "plt.plot(rf_train_eval['actual'], label = 'actual')\n",
    "plt.plot(rf_train_eval['predicted'], label = 'predicted')\n",
    "plt.xticks(rotation = 90)\n",
    "plt.legend()"
   ]
  },
  {
   "cell_type": "code",
   "execution_count": 26,
   "metadata": {},
   "outputs": [],
   "source": [
    "#Evaluate on test set\n",
    "rf_test_pred = pd.DataFrame(rf.predict(X_test))\n",
    "rf_test_pred.index = y_test.index\n",
    "rf_test_eval = pd.concat([y_test, rf_test_pred], axis = 1)\n",
    "rf_test_eval.columns = ['actual', 'predicted']"
   ]
  },
  {
   "cell_type": "code",
   "execution_count": 27,
   "metadata": {},
   "outputs": [
    {
     "data": {
      "text/plain": [
       "<matplotlib.legend.Legend at 0x7fb798f4d880>"
      ]
     },
     "execution_count": 27,
     "metadata": {},
     "output_type": "execute_result"
    },
    {
     "data": {
      "image/png": "[encoded data removed]",
      "text/plain": [
       "<Figure size 432x288 with 1 Axes>"
      ]
     },
     "metadata": {
      "needs_background": "light"
     },
     "output_type": "display_data"
    }
   ],
   "source": [
    "#Visualize\n",
    "plt.plot(rf_test_eval['actual'], label = 'actual')\n",
    "plt.plot(rf_test_eval['predicted'], label = 'predicted')\n",
    "plt.xticks(rotation = 90)\n",
    "plt.legend()"
   ]
  },
  {
   "cell_type": "markdown",
   "metadata": {},
   "source": [
    "## XGBoost"
   ]
  },
  {
   "cell_type": "code",
   "execution_count": 28,
   "metadata": {},
   "outputs": [],
   "source": [
    "from xgboost import XGBRegressor"
   ]
  },
  {
   "cell_type": "code",
   "execution_count": 29,
   "metadata": {},
   "outputs": [
    {
     "data": {
      "text/plain": [
       "XGBRegressor(base_score=0.5, booster='gbtree', colsample_bylevel=1,\n",
       "             colsample_bynode=1, colsample_bytree=1, gamma=0, gpu_id=-1,\n",
       "             importance_type='gain', interaction_constraints='',\n",
       "             learning_rate=0.300000012, max_delta_step=0, max_depth=6,\n",
       "             min_child_weight=1, missing=nan, monotone_constraints='()',\n",
       "             n_estimators=100, n_jobs=8, num_parallel_tree=1, random_state=0,\n",
       "             reg_alpha=0, reg_lambda=1, scale_pos_weight=1, subsample=1,\n",
       "             tree_method='exact', validate_parameters=1, verbosity=None)"
      ]
     },
     "execution_count": 29,
     "metadata": {},
     "output_type": "execute_result"
    }
   ],
   "source": [
    "#XGBoost Regressor\n",
    "xgb = XGBRegressor()\n",
    "xgb.fit(X_train, y_train)"
   ]
  },
  {
   "cell_type": "code",
   "execution_count": 30,
   "metadata": {},
   "outputs": [
    {
     "name": "stdout",
     "output_type": "stream",
     "text": [
      "0.9930749556381309\n",
      "-4.690902302204464\n"
     ]
    }
   ],
   "source": [
    "#Calculate R2 score\n",
    "print(xgb.score(X_train, y_train))\n",
    "print(xgb.score(X_test, y_test))"
   ]
  },
  {
   "cell_type": "markdown",
   "metadata": {},
   "source": [
    "### Hyperparameter Tuning"
   ]
  },
  {
   "cell_type": "code",
   "execution_count": 31,
   "metadata": {},
   "outputs": [],
   "source": [
    "xgb_tune= RandomizedSearchCV(\n",
    "                estimator = xgb,\n",
    "                param_distributions = param_dist, \n",
    "                scoring = 'r2', \n",
    "                n_jobs = -1)"
   ]
  },
  {
   "cell_type": "code",
   "execution_count": 32,
   "metadata": {},
   "outputs": [
    {
     "data": {
      "text/plain": [
       "RandomizedSearchCV(estimator=XGBRegressor(base_score=0.5, booster='gbtree',\n",
       "                                          colsample_bylevel=1,\n",
       "                                          colsample_bynode=1,\n",
       "                                          colsample_bytree=1, gamma=0,\n",
       "                                          gpu_id=-1, importance_type='gain',\n",
       "                                          interaction_constraints='',\n",
       "                                          learning_rate=0.300000012,\n",
       "                                          max_delta_step=0, max_depth=6,\n",
       "                                          min_child_weight=1, missing=nan,\n",
       "                                          monotone_constraints='()',\n",
       "                                          n_estimators=100, n_jobs=8,\n",
       "                                          num_parallel_tree=1, random_state=0,\n",
       "                                          reg_alpha=0, reg_lambda=1,\n",
       "                                          scale_pos_weight=1, subsample=1,\n",
       "                                          tree_method='exact',\n",
       "                                          validate_parameters=1,\n",
       "                                          verbosity=None),\n",
       "                   n_jobs=-1,\n",
       "                   param_distributions={'max_depth': [3, 4, 5, 6, 7, 8, 9],\n",
       "                                        'n_estimators': [100, 150, 200, 250],\n",
       "                                        'random_state': [42]},\n",
       "                   scoring='r2')"
      ]
     },
     "execution_count": 32,
     "metadata": {},
     "output_type": "execute_result"
    }
   ],
   "source": [
    "xgb_tune.fit(X_train, y_train)"
   ]
  },
  {
   "cell_type": "code",
   "execution_count": 33,
   "metadata": {},
   "outputs": [
    {
     "data": {
      "text/plain": [
       "{'random_state': 42, 'n_estimators': 100, 'max_depth': 3}"
      ]
     },
     "execution_count": 33,
     "metadata": {},
     "output_type": "execute_result"
    }
   ],
   "source": [
    "xgb_tune.best_params_"
   ]
  },
  {
   "cell_type": "code",
   "execution_count": 34,
   "metadata": {},
   "outputs": [
    {
     "data": {
      "text/plain": [
       "-12.128477522025738"
      ]
     },
     "execution_count": 34,
     "metadata": {},
     "output_type": "execute_result"
    }
   ],
   "source": [
    "xgb_tune.best_score_"
   ]
  },
  {
   "cell_type": "markdown",
   "metadata": {},
   "source": [
    "### Evaluation"
   ]
  },
  {
   "cell_type": "code",
   "execution_count": 35,
   "metadata": {},
   "outputs": [],
   "source": [
    "#Evaluate on train set\n",
    "xgb_train_pred = pd.DataFrame(xgb.predict(X_train))\n",
    "xgb_train_pred.index = y_train.index\n",
    "xgb_train_eval = pd.concat([y_train, rf_train_pred], axis = 1)\n",
    "xgb_train_eval.columns = ['actual', 'predicted']"
   ]
  },
  {
   "cell_type": "code",
   "execution_count": 36,
   "metadata": {},
   "outputs": [
    {
     "data": {
      "text/plain": [
       "<matplotlib.legend.Legend at 0x7fb796a45700>"
      ]
     },
     "execution_count": 36,
     "metadata": {},
     "output_type": "execute_result"
    },
    {
     "data": {
      "image/png": "[encoded data removed]",
      "text/plain": [
       "<Figure size 432x288 with 1 Axes>"
      ]
     },
     "metadata": {
      "needs_background": "light"
     },
     "output_type": "display_data"
    }
   ],
   "source": [
    "#Visualize\n",
    "plt.plot(xgb_train_eval['actual'], label = 'actual')\n",
    "plt.plot(xgb_train_eval['predicted'], label = 'predicted')\n",
    "plt.xticks(rotation = 90)\n",
    "plt.legend()"
   ]
  },
  {
   "cell_type": "code",
   "execution_count": 37,
   "metadata": {},
   "outputs": [],
   "source": [
    "#Evaluate on test set\n",
    "xgb_test_pred = pd.DataFrame(xgb.predict(X_test))\n",
    "xgb_test_pred.index = y_test.index\n",
    "xgb_test_eval = pd.concat([y_test, rf_test_pred], axis = 1)\n",
    "xgb_test_eval.columns = ['actual', 'predicted']"
   ]
  },
  {
   "cell_type": "code",
   "execution_count": 38,
   "metadata": {},
   "outputs": [
    {
     "data": {
      "text/plain": [
       "<matplotlib.legend.Legend at 0x7fb796ce8130>"
      ]
     },
     "execution_count": 38,
     "metadata": {},
     "output_type": "execute_result"
    },
    {
     "data": {
      "image/png": "[encoded data removed]",
      "text/plain": [
       "<Figure size 432x288 with 1 Axes>"
      ]
     },
     "metadata": {
      "needs_background": "light"
     },
     "output_type": "display_data"
    }
   ],
   "source": [
    "#Visualize\n",
    "plt.plot(xgb_test_eval['actual'], label = 'actual')\n",
    "plt.plot(xgb_test_eval['predicted'], label = 'predicted')\n",
    "plt.xticks(rotation = 90)\n",
    "plt.legend()"
   ]
  },
  {
   "cell_type": "markdown",
   "metadata": {},
   "source": [
    "## Autoencoders"
   ]
  },
  {
   "cell_type": "code",
   "execution_count": 39,
   "metadata": {},
   "outputs": [],
   "source": [
    "from sklearn.preprocessing import MinMaxScaler\n",
    "from tensorflow.keras.layers import LeakyReLU\n",
    "from tensorflow.keras.models import Model\n",
    "from tensorflow.keras.layers import Input\n",
    "from tensorflow.keras.layers import Dense\n",
    "from tensorflow.keras.layers import BatchNormalization\n",
    "from tensorflow.keras.models import load_model"
   ]
  },
  {
   "cell_type": "code",
   "execution_count": 40,
   "metadata": {},
   "outputs": [],
   "source": [
    "# scale data\n",
    "t = MinMaxScaler()\n",
    "t.fit(X_train)\n",
    "X_train = t.transform(X_train)\n",
    "X_test = t.transform(X_test)"
   ]
  },
  {
   "cell_type": "code",
   "execution_count": 41,
   "metadata": {},
   "outputs": [],
   "source": [
    "# AutoEncoder Model Preparation\n",
    "n_inputs = X.shape[1]\n",
    "# define encoder\n",
    "input_data_shape= Input(shape=(n_inputs,))\n",
    "# encoder level 1\n",
    "encoder= Dense(n_inputs*2)(input_data_shape)\n",
    "encoder = BatchNormalization()(encoder)\n",
    "encoder= LeakyReLU()(encoder)\n",
    "# encoder level 2\n",
    "encoder= Dense(n_inputs)(encoder)\n",
    "encoder= BatchNormalization()(encoder)\n",
    "encoder= LeakyReLU()(encoder)\n",
    "# bottleneck\n",
    "n_bottleneck = round(float(n_inputs) / 2.0)\n",
    "bottleneck = Dense(n_bottleneck)(encoder)\n",
    "# define decoder, level 1\n",
    "decoder = Dense(n_inputs)(bottleneck)\n",
    "decoder = BatchNormalization()(decoder)\n",
    "decoder = LeakyReLU()(decoder)\n",
    "# decoder level 2\n",
    "decoder = Dense(n_inputs*2)(decoder)\n",
    "decoder = BatchNormalization()(decoder)\n",
    "decoder = LeakyReLU()(decoder)"
   ]
  },
  {
   "cell_type": "code",
   "execution_count": 42,
   "metadata": {},
   "outputs": [],
   "source": [
    "# output layer\n",
    "output = Dense(n_inputs, activation='linear')(decoder)\n",
    "# define autoencoder model\n",
    "model = Model(inputs=input_data_shape, outputs=output)\n",
    "# compile autoencoder model\n",
    "model.compile(optimizer='adam', loss='mse')"
   ]
  },
  {
   "cell_type": "code",
   "execution_count": 43,
   "metadata": {},
   "outputs": [
    {
     "name": "stdout",
     "output_type": "stream",
     "text": [
      "Model: \"model\"\n",
      "_________________________________________________________________\n",
      "Layer (type)                 Output Shape              Param #   \n",
      "=================================================================\n",
      "input_1 (InputLayer)         [(None, 6)]               0         \n",
      "_________________________________________________________________\n",
      "dense (Dense)                (None, 12)                84        \n",
      "_________________________________________________________________\n",
      "batch_normalization (BatchNo (None, 12)                48        \n",
      "_________________________________________________________________\n",
      "leaky_re_lu (LeakyReLU)      (None, 12)                0         \n",
      "_________________________________________________________________\n",
      "dense_1 (Dense)              (None, 6)                 78        \n",
      "_________________________________________________________________\n",
      "batch_normalization_1 (Batch (None, 6)                 24        \n",
      "_________________________________________________________________\n",
      "leaky_re_lu_1 (LeakyReLU)    (None, 6)                 0         \n",
      "_________________________________________________________________\n",
      "dense_2 (Dense)              (None, 3)                 21        \n",
      "_________________________________________________________________\n",
      "dense_3 (Dense)              (None, 6)                 24        \n",
      "_________________________________________________________________\n",
      "batch_normalization_2 (Batch (None, 6)                 24        \n",
      "_________________________________________________________________\n",
      "leaky_re_lu_2 (LeakyReLU)    (None, 6)                 0         \n",
      "_________________________________________________________________\n",
      "dense_4 (Dense)              (None, 12)                84        \n",
      "_________________________________________________________________\n",
      "batch_normalization_3 (Batch (None, 12)                48        \n",
      "_________________________________________________________________\n",
      "leaky_re_lu_3 (LeakyReLU)    (None, 12)                0         \n",
      "_________________________________________________________________\n",
      "dense_5 (Dense)              (None, 6)                 78        \n",
      "=================================================================\n",
      "Total params: 513\n",
      "Trainable params: 441\n",
      "Non-trainable params: 72\n",
      "_________________________________________________________________\n"
     ]
    }
   ],
   "source": [
    "model.summary()"
   ]
  },
  {
   "cell_type": "code",
   "execution_count": 44,
   "metadata": {},
   "outputs": [
    {
     "name": "stdout",
     "output_type": "stream",
     "text": [
      "Epoch 1/100\n",
      "53/53 - 1s - loss: 1143.2820 - val_loss: 1940.3805\n",
      "Epoch 2/100\n",
      "53/53 - 0s - loss: 1123.5601 - val_loss: 1921.3899\n",
      "Epoch 3/100\n",
      "53/53 - 0s - loss: 1100.6707 - val_loss: 1889.3737\n",
      "Epoch 4/100\n",
      "53/53 - 0s - loss: 1071.0200 - val_loss: 1830.5750\n",
      "Epoch 5/100\n",
      "53/53 - 0s - loss: 1033.1561 - val_loss: 1751.8157\n",
      "Epoch 6/100\n",
      "53/53 - 0s - loss: 984.1107 - val_loss: 1682.5280\n",
      "Epoch 7/100\n",
      "53/53 - 0s - loss: 924.0336 - val_loss: 1604.4006\n",
      "Epoch 8/100\n",
      "53/53 - 0s - loss: 856.3689 - val_loss: 1508.6049\n",
      "Epoch 9/100\n",
      "53/53 - 0s - loss: 783.2771 - val_loss: 1417.9636\n",
      "Epoch 10/100\n",
      "53/53 - 0s - loss: 705.6888 - val_loss: 1276.8579\n",
      "Epoch 11/100\n",
      "53/53 - 0s - loss: 629.0227 - val_loss: 1131.1543\n",
      "Epoch 12/100\n",
      "53/53 - 0s - loss: 552.1562 - val_loss: 1071.7997\n",
      "Epoch 13/100\n",
      "53/53 - 0s - loss: 476.4320 - val_loss: 1028.3683\n",
      "Epoch 14/100\n",
      "53/53 - 0s - loss: 407.3745 - val_loss: 963.6686\n",
      "Epoch 15/100\n",
      "53/53 - 0s - loss: 344.1526 - val_loss: 947.0435\n",
      "Epoch 16/100\n",
      "53/53 - 0s - loss: 283.5520 - val_loss: 799.5161\n",
      "Epoch 17/100\n",
      "53/53 - 0s - loss: 232.2405 - val_loss: 799.8495\n",
      "Epoch 18/100\n",
      "53/53 - 0s - loss: 188.8707 - val_loss: 721.6400\n",
      "Epoch 19/100\n",
      "53/53 - 0s - loss: 150.1606 - val_loss: 599.5820\n",
      "Epoch 20/100\n",
      "53/53 - 0s - loss: 116.4968 - val_loss: 493.8422\n",
      "Epoch 21/100\n",
      "53/53 - 0s - loss: 89.7433 - val_loss: 457.9437\n",
      "Epoch 22/100\n",
      "53/53 - 0s - loss: 71.4230 - val_loss: 419.6366\n",
      "Epoch 23/100\n",
      "53/53 - 0s - loss: 56.6702 - val_loss: 396.0668\n",
      "Epoch 24/100\n",
      "53/53 - 0s - loss: 47.1955 - val_loss: 369.5400\n",
      "Epoch 25/100\n",
      "53/53 - 0s - loss: 39.7053 - val_loss: 350.6902\n",
      "Epoch 26/100\n",
      "53/53 - 0s - loss: 34.7870 - val_loss: 326.8164\n",
      "Epoch 27/100\n",
      "53/53 - 0s - loss: 30.9573 - val_loss: 278.9622\n",
      "Epoch 28/100\n",
      "53/53 - 0s - loss: 28.6389 - val_loss: 279.7594\n",
      "Epoch 29/100\n",
      "53/53 - 0s - loss: 25.9312 - val_loss: 250.1064\n",
      "Epoch 30/100\n",
      "53/53 - 0s - loss: 24.4181 - val_loss: 262.3211\n",
      "Epoch 31/100\n",
      "53/53 - 0s - loss: 24.0711 - val_loss: 256.4499\n",
      "Epoch 32/100\n",
      "53/53 - 0s - loss: 23.2423 - val_loss: 232.0273\n",
      "Epoch 33/100\n",
      "53/53 - 0s - loss: 23.0544 - val_loss: 227.9095\n",
      "Epoch 34/100\n",
      "53/53 - 0s - loss: 21.9912 - val_loss: 233.8864\n",
      "Epoch 35/100\n",
      "53/53 - 0s - loss: 21.5553 - val_loss: 229.6814\n",
      "Epoch 36/100\n",
      "53/53 - 0s - loss: 20.9433 - val_loss: 245.3953\n",
      "Epoch 37/100\n",
      "53/53 - 0s - loss: 21.8897 - val_loss: 250.4149\n",
      "Epoch 38/100\n",
      "53/53 - 0s - loss: 21.5836 - val_loss: 234.8119\n",
      "Epoch 39/100\n",
      "53/53 - 0s - loss: 22.0345 - val_loss: 267.8656\n",
      "Epoch 40/100\n",
      "53/53 - 0s - loss: 21.2450 - val_loss: 260.6766\n",
      "Epoch 41/100\n",
      "53/53 - 0s - loss: 20.4965 - val_loss: 241.5858\n",
      "Epoch 42/100\n",
      "53/53 - 0s - loss: 20.3407 - val_loss: 248.4789\n",
      "Epoch 43/100\n",
      "53/53 - 0s - loss: 21.1434 - val_loss: 255.3063\n",
      "Epoch 44/100\n",
      "53/53 - 0s - loss: 21.0889 - val_loss: 228.4286\n",
      "Epoch 45/100\n",
      "53/53 - 0s - loss: 20.5024 - val_loss: 251.9916\n",
      "Epoch 46/100\n",
      "53/53 - 0s - loss: 20.7659 - val_loss: 240.4243\n",
      "Epoch 47/100\n",
      "53/53 - 0s - loss: 19.9783 - val_loss: 225.8723\n",
      "Epoch 48/100\n",
      "53/53 - 0s - loss: 19.7666 - val_loss: 212.4910\n",
      "Epoch 49/100\n",
      "53/53 - 0s - loss: 21.1688 - val_loss: 219.8603\n",
      "Epoch 50/100\n",
      "53/53 - 0s - loss: 20.8196 - val_loss: 228.8588\n",
      "Epoch 51/100\n",
      "53/53 - 0s - loss: 20.8365 - val_loss: 244.4005\n",
      "Epoch 52/100\n",
      "53/53 - 0s - loss: 19.2390 - val_loss: 242.0669\n",
      "Epoch 53/100\n",
      "53/53 - 0s - loss: 19.4132 - val_loss: 237.7734\n",
      "Epoch 54/100\n",
      "53/53 - 0s - loss: 20.4776 - val_loss: 240.7790\n",
      "Epoch 55/100\n",
      "53/53 - 0s - loss: 20.0416 - val_loss: 259.4698\n",
      "Epoch 56/100\n",
      "53/53 - 0s - loss: 20.0105 - val_loss: 231.4818\n",
      "Epoch 57/100\n",
      "53/53 - 0s - loss: 19.4559 - val_loss: 259.5657\n",
      "Epoch 58/100\n",
      "53/53 - 0s - loss: 20.4900 - val_loss: 265.6682\n",
      "Epoch 59/100\n",
      "53/53 - 0s - loss: 20.1089 - val_loss: 274.7654\n",
      "Epoch 60/100\n",
      "53/53 - 0s - loss: 19.6161 - val_loss: 273.2772\n",
      "Epoch 61/100\n",
      "53/53 - 0s - loss: 19.6142 - val_loss: 244.0922\n",
      "Epoch 62/100\n",
      "53/53 - 0s - loss: 19.9853 - val_loss: 258.3724\n",
      "Epoch 63/100\n",
      "53/53 - 0s - loss: 19.0756 - val_loss: 266.1432\n",
      "Epoch 64/100\n",
      "53/53 - 0s - loss: 19.6413 - val_loss: 266.8090\n",
      "Epoch 65/100\n",
      "53/53 - 0s - loss: 19.1013 - val_loss: 265.9728\n",
      "Epoch 66/100\n",
      "53/53 - 0s - loss: 18.8342 - val_loss: 266.4655\n",
      "Epoch 67/100\n",
      "53/53 - 0s - loss: 19.0264 - val_loss: 263.1421\n",
      "Epoch 68/100\n",
      "53/53 - 0s - loss: 19.2182 - val_loss: 259.7595\n",
      "Epoch 69/100\n",
      "53/53 - 0s - loss: 19.6320 - val_loss: 275.1364\n",
      "Epoch 70/100\n",
      "53/53 - 0s - loss: 20.0592 - val_loss: 249.0701\n",
      "Epoch 71/100\n",
      "53/53 - 0s - loss: 18.3583 - val_loss: 257.2635\n",
      "Epoch 72/100\n",
      "53/53 - 0s - loss: 19.4167 - val_loss: 249.9280\n",
      "Epoch 73/100\n",
      "53/53 - 0s - loss: 19.0875 - val_loss: 255.9742\n",
      "Epoch 74/100\n",
      "53/53 - 0s - loss: 18.3680 - val_loss: 267.9862\n",
      "Epoch 75/100\n",
      "53/53 - 0s - loss: 19.2792 - val_loss: 272.1039\n",
      "Epoch 76/100\n",
      "53/53 - 0s - loss: 18.9338 - val_loss: 270.3123\n",
      "Epoch 77/100\n",
      "53/53 - 0s - loss: 19.3917 - val_loss: 274.6736\n",
      "Epoch 78/100\n",
      "53/53 - 0s - loss: 19.0281 - val_loss: 279.9320\n",
      "Epoch 79/100\n",
      "53/53 - 0s - loss: 19.2446 - val_loss: 252.4320\n",
      "Epoch 80/100\n",
      "53/53 - 0s - loss: 19.1265 - val_loss: 251.2451\n",
      "Epoch 81/100\n",
      "53/53 - 0s - loss: 18.5320 - val_loss: 267.6308\n",
      "Epoch 82/100\n",
      "53/53 - 0s - loss: 18.2113 - val_loss: 260.5079\n",
      "Epoch 83/100\n",
      "53/53 - 0s - loss: 19.0607 - val_loss: 268.5883\n",
      "Epoch 84/100\n",
      "53/53 - 0s - loss: 18.6875 - val_loss: 264.2609\n",
      "Epoch 85/100\n",
      "53/53 - 0s - loss: 18.5188 - val_loss: 246.4734\n",
      "Epoch 86/100\n",
      "53/53 - 0s - loss: 17.8566 - val_loss: 252.7824\n",
      "Epoch 87/100\n",
      "53/53 - 0s - loss: 17.8979 - val_loss: 261.5907\n",
      "Epoch 88/100\n",
      "53/53 - 0s - loss: 17.9613 - val_loss: 280.5642\n",
      "Epoch 89/100\n",
      "53/53 - 0s - loss: 18.2652 - val_loss: 289.9750\n",
      "Epoch 90/100\n",
      "53/53 - 0s - loss: 18.7338 - val_loss: 263.3468\n",
      "Epoch 91/100\n",
      "53/53 - 0s - loss: 18.2096 - val_loss: 299.0141\n",
      "Epoch 92/100\n",
      "53/53 - 0s - loss: 17.2433 - val_loss: 281.2782\n",
      "Epoch 93/100\n",
      "53/53 - 0s - loss: 18.8653 - val_loss: 278.5055\n",
      "Epoch 94/100\n",
      "53/53 - 0s - loss: 17.5477 - val_loss: 268.0595\n",
      "Epoch 95/100\n",
      "53/53 - 0s - loss: 18.1846 - val_loss: 289.7555\n",
      "Epoch 96/100\n",
      "53/53 - 0s - loss: 17.9077 - val_loss: 263.5103\n",
      "Epoch 97/100\n",
      "53/53 - 0s - loss: 18.0575 - val_loss: 252.0692\n",
      "Epoch 98/100\n",
      "53/53 - 0s - loss: 17.6157 - val_loss: 232.7411\n",
      "Epoch 99/100\n",
      "53/53 - 0s - loss: 17.7994 - val_loss: 259.1222\n",
      "Epoch 100/100\n",
      "53/53 - 0s - loss: 17.3563 - val_loss: 260.8195\n"
     ]
    }
   ],
   "source": [
    "history = model.fit(X_train, y_train, epochs=100, verbose=2, validation_data=(X_test,y_test))"
   ]
  },
  {
   "cell_type": "code",
   "execution_count": 45,
   "metadata": {},
   "outputs": [
    {
     "name": "stdout",
     "output_type": "stream",
     "text": [
      "WARNING:tensorflow:Compiled the loaded model, but the compiled metrics have yet to be built. `model.compile_metrics` will be empty until you train or evaluate the model.\n"
     ]
    }
   ],
   "source": [
    "# define an encoder model (without the decoder)\n",
    "encoder = Model(inputs=input_data_shape, outputs=bottleneck)\n",
    "# save the encoder to file\n",
    "encoder.save('encoder.h5')"
   ]
  },
  {
   "cell_type": "code",
   "execution_count": 46,
   "metadata": {},
   "outputs": [
    {
     "name": "stdout",
     "output_type": "stream",
     "text": [
      "WARNING:tensorflow:No training configuration found in the save file, so the model was *not* compiled. Compile it manually.\n"
     ]
    },
    {
     "data": {
      "text/plain": [
       "RandomForestRegressor()"
      ]
     },
     "execution_count": 46,
     "metadata": {},
     "output_type": "execute_result"
    }
   ],
   "source": [
    "#Compressing the input data using Encoder Model and fitting it on the Logistic Regression model.\n",
    "# load the model from file\n",
    "encoder = load_model('encoder.h5')\n",
    "\n",
    "# encode the train data\n",
    "X_train_encode = encoder.predict(X_train)\n",
    "# encode the test data\n",
    "X_test_encode = encoder.predict(X_test)\n",
    "# define the model\n",
    "auto_rf = RandomForestRegressor()\n",
    "# fit the model on the training set\n",
    "auto_rf.fit(X_train_encode, y_train)"
   ]
  },
  {
   "cell_type": "code",
   "execution_count": 47,
   "metadata": {},
   "outputs": [],
   "source": [
    "#Evaluate on test set\n",
    "auto_test_pred = pd.DataFrame(auto_rf.predict(X_test_encode))\n",
    "auto_test_pred.index = y_test.index\n",
    "auto_test_eval = pd.concat([y_test, auto_test_pred], axis = 1)\n",
    "auto_test_eval.columns = ['actual', 'predicted']"
   ]
  },
  {
   "cell_type": "code",
   "execution_count": 48,
   "metadata": {},
   "outputs": [
    {
     "data": {
      "text/plain": [
       "<matplotlib.legend.Legend at 0x7fb79eae5580>"
      ]
     },
     "execution_count": 48,
     "metadata": {},
     "output_type": "execute_result"
    },
    {
     "data": {
      "image/png": "[encoded data removed]",
      "text/plain": [
       "<Figure size 432x288 with 1 Axes>"
      ]
     },
     "metadata": {
      "needs_background": "light"
     },
     "output_type": "display_data"
    }
   ],
   "source": [
    "#Visualize\n",
    "plt.plot(auto_test_eval['actual'], label = 'actual')\n",
    "plt.plot(auto_test_eval['predicted'], label = 'predicted')\n",
    "plt.xticks(rotation = 90)\n",
    "plt.legend()"
   ]
  },
  {
   "cell_type": "markdown",
   "metadata": {},
   "source": [
    "## Prophet"
   ]
  },
  {
   "cell_type": "code",
   "execution_count": 49,
   "metadata": {},
   "outputs": [
    {
     "name": "stderr",
     "output_type": "stream",
     "text": [
      "Importing plotly failed. Interactive plots will not work.\n"
     ]
    }
   ],
   "source": [
    "from prophet import Prophet"
   ]
  },
  {
   "cell_type": "code",
   "execution_count": 50,
   "metadata": {},
   "outputs": [],
   "source": [
    "pr_df = stock1[['Price']]\n",
    "pr_train = pr_df.iloc[:train_size,:]\n",
    "pr_test = pr_df.iloc[train_size:,:]"
   ]
  },
  {
   "cell_type": "code",
   "execution_count": 51,
   "metadata": {},
   "outputs": [],
   "source": [
    "pr_train.reset_index(inplace = True)\n",
    "pr_train.rename(columns = {'date': 'ds', 'Price': 'y'}, inplace = True)"
   ]
  },
  {
   "cell_type": "code",
   "execution_count": 52,
   "metadata": {},
   "outputs": [],
   "source": [
    "pr_test.reset_index(inplace = True)\n",
    "pr_test.rename(columns = {'date': 'ds', 'Price': 'y'}, inplace = True)"
   ]
  },
  {
   "cell_type": "code",
   "execution_count": 53,
   "metadata": {},
   "outputs": [
    {
     "data": {
      "text/html": [
       "<div>\n",
       "<style scoped>\n",
       "    .dataframe tbody tr th:only-of-type {\n",
       "        vertical-align: middle;\n",
       "    }\n",
       "\n",
       "    .dataframe tbody tr th {\n",
       "        vertical-align: top;\n",
       "    }\n",
       "\n",
       "    .dataframe thead th {\n",
       "        text-align: right;\n",
       "    }\n",
       "</style>\n",
       "<table border=\"1\" class=\"dataframe\">\n",
       "  <thead>\n",
       "    <tr style=\"text-align: right;\">\n",
       "      <th></th>\n",
       "      <th>ds</th>\n",
       "      <th>y</th>\n",
       "    </tr>\n",
       "  </thead>\n",
       "  <tbody>\n",
       "    <tr>\n",
       "      <th>0</th>\n",
       "      <td>1997-06-13</td>\n",
       "      <td>41.63</td>\n",
       "    </tr>\n",
       "    <tr>\n",
       "      <th>1</th>\n",
       "      <td>1997-06-16</td>\n",
       "      <td>42.50</td>\n",
       "    </tr>\n",
       "    <tr>\n",
       "      <th>2</th>\n",
       "      <td>1997-06-17</td>\n",
       "      <td>42.50</td>\n",
       "    </tr>\n",
       "    <tr>\n",
       "      <th>3</th>\n",
       "      <td>1997-06-18</td>\n",
       "      <td>42.25</td>\n",
       "    </tr>\n",
       "    <tr>\n",
       "      <th>4</th>\n",
       "      <td>1997-06-19</td>\n",
       "      <td>41.75</td>\n",
       "    </tr>\n",
       "    <tr>\n",
       "      <th>...</th>\n",
       "      <td>...</td>\n",
       "      <td>...</td>\n",
       "    </tr>\n",
       "    <tr>\n",
       "      <th>416</th>\n",
       "      <td>1999-02-08</td>\n",
       "      <td>51.75</td>\n",
       "    </tr>\n",
       "    <tr>\n",
       "      <th>417</th>\n",
       "      <td>1999-02-09</td>\n",
       "      <td>51.06</td>\n",
       "    </tr>\n",
       "    <tr>\n",
       "      <th>418</th>\n",
       "      <td>1999-02-10</td>\n",
       "      <td>52.00</td>\n",
       "    </tr>\n",
       "    <tr>\n",
       "      <th>419</th>\n",
       "      <td>1999-02-11</td>\n",
       "      <td>52.81</td>\n",
       "    </tr>\n",
       "    <tr>\n",
       "      <th>420</th>\n",
       "      <td>1999-02-12</td>\n",
       "      <td>52.31</td>\n",
       "    </tr>\n",
       "  </tbody>\n",
       "</table>\n",
       "<p>421 rows × 2 columns</p>\n",
       "</div>"
      ],
      "text/plain": [
       "            ds      y\n",
       "0   1997-06-13  41.63\n",
       "1   1997-06-16  42.50\n",
       "2   1997-06-17  42.50\n",
       "3   1997-06-18  42.25\n",
       "4   1997-06-19  41.75\n",
       "..         ...    ...\n",
       "416 1999-02-08  51.75\n",
       "417 1999-02-09  51.06\n",
       "418 1999-02-10  52.00\n",
       "419 1999-02-11  52.81\n",
       "420 1999-02-12  52.31\n",
       "\n",
       "[421 rows x 2 columns]"
      ]
     },
     "execution_count": 53,
     "metadata": {},
     "output_type": "execute_result"
    }
   ],
   "source": [
    "pr_test"
   ]
  },
  {
   "cell_type": "code",
   "execution_count": 54,
   "metadata": {},
   "outputs": [],
   "source": [
    "pr = Prophet()"
   ]
  },
  {
   "cell_type": "code",
   "execution_count": 55,
   "metadata": {},
   "outputs": [
    {
     "name": "stderr",
     "output_type": "stream",
     "text": [
      "INFO:prophet:Disabling daily seasonality. Run prophet with daily_seasonality=True to override this.\n"
     ]
    },
    {
     "data": {
      "text/plain": [
       "<prophet.forecaster.Prophet at 0x7fb7a0660df0>"
      ]
     },
     "execution_count": 55,
     "metadata": {},
     "output_type": "execute_result"
    }
   ],
   "source": [
    "pr.fit(pr_train)"
   ]
  },
  {
   "cell_type": "code",
   "execution_count": 56,
   "metadata": {},
   "outputs": [],
   "source": [
    "pr_test_pred = pr.make_future_dataframe(periods=421)"
   ]
  },
  {
   "cell_type": "code",
   "execution_count": 57,
   "metadata": {},
   "outputs": [
    {
     "data": {
      "text/html": [
       "<div>\n",
       "<style scoped>\n",
       "    .dataframe tbody tr th:only-of-type {\n",
       "        vertical-align: middle;\n",
       "    }\n",
       "\n",
       "    .dataframe tbody tr th {\n",
       "        vertical-align: top;\n",
       "    }\n",
       "\n",
       "    .dataframe thead th {\n",
       "        text-align: right;\n",
       "    }\n",
       "</style>\n",
       "<table border=\"1\" class=\"dataframe\">\n",
       "  <thead>\n",
       "    <tr style=\"text-align: right;\">\n",
       "      <th></th>\n",
       "      <th>ds</th>\n",
       "    </tr>\n",
       "  </thead>\n",
       "  <tbody>\n",
       "    <tr>\n",
       "      <th>0</th>\n",
       "      <td>1990-10-16</td>\n",
       "    </tr>\n",
       "    <tr>\n",
       "      <th>1</th>\n",
       "      <td>1990-10-17</td>\n",
       "    </tr>\n",
       "    <tr>\n",
       "      <th>2</th>\n",
       "      <td>1990-10-18</td>\n",
       "    </tr>\n",
       "    <tr>\n",
       "      <th>3</th>\n",
       "      <td>1990-10-19</td>\n",
       "    </tr>\n",
       "    <tr>\n",
       "      <th>4</th>\n",
       "      <td>1990-10-22</td>\n",
       "    </tr>\n",
       "    <tr>\n",
       "      <th>...</th>\n",
       "      <td>...</td>\n",
       "    </tr>\n",
       "    <tr>\n",
       "      <th>2100</th>\n",
       "      <td>1998-08-03</td>\n",
       "    </tr>\n",
       "    <tr>\n",
       "      <th>2101</th>\n",
       "      <td>1998-08-04</td>\n",
       "    </tr>\n",
       "    <tr>\n",
       "      <th>2102</th>\n",
       "      <td>1998-08-05</td>\n",
       "    </tr>\n",
       "    <tr>\n",
       "      <th>2103</th>\n",
       "      <td>1998-08-06</td>\n",
       "    </tr>\n",
       "    <tr>\n",
       "      <th>2104</th>\n",
       "      <td>1998-08-07</td>\n",
       "    </tr>\n",
       "  </tbody>\n",
       "</table>\n",
       "<p>2105 rows × 1 columns</p>\n",
       "</div>"
      ],
      "text/plain": [
       "             ds\n",
       "0    1990-10-16\n",
       "1    1990-10-17\n",
       "2    1990-10-18\n",
       "3    1990-10-19\n",
       "4    1990-10-22\n",
       "...         ...\n",
       "2100 1998-08-03\n",
       "2101 1998-08-04\n",
       "2102 1998-08-05\n",
       "2103 1998-08-06\n",
       "2104 1998-08-07\n",
       "\n",
       "[2105 rows x 1 columns]"
      ]
     },
     "execution_count": 57,
     "metadata": {},
     "output_type": "execute_result"
    }
   ],
   "source": [
    "pr_test_pred"
   ]
  },
  {
   "cell_type": "code",
   "execution_count": 58,
   "metadata": {},
   "outputs": [
    {
     "data": {
      "text/html": [
       "<div>\n",
       "<style scoped>\n",
       "    .dataframe tbody tr th:only-of-type {\n",
       "        vertical-align: middle;\n",
       "    }\n",
       "\n",
       "    .dataframe tbody tr th {\n",
       "        vertical-align: top;\n",
       "    }\n",
       "\n",
       "    .dataframe thead th {\n",
       "        text-align: right;\n",
       "    }\n",
       "</style>\n",
       "<table border=\"1\" class=\"dataframe\">\n",
       "  <thead>\n",
       "    <tr style=\"text-align: right;\">\n",
       "      <th></th>\n",
       "      <th>ds</th>\n",
       "      <th>yhat</th>\n",
       "      <th>yhat_lower</th>\n",
       "      <th>yhat_upper</th>\n",
       "    </tr>\n",
       "  </thead>\n",
       "  <tbody>\n",
       "    <tr>\n",
       "      <th>2100</th>\n",
       "      <td>1998-08-03</td>\n",
       "      <td>34.014282</td>\n",
       "      <td>30.677725</td>\n",
       "      <td>37.398714</td>\n",
       "    </tr>\n",
       "    <tr>\n",
       "      <th>2101</th>\n",
       "      <td>1998-08-04</td>\n",
       "      <td>33.996566</td>\n",
       "      <td>30.322100</td>\n",
       "      <td>37.197236</td>\n",
       "    </tr>\n",
       "    <tr>\n",
       "      <th>2102</th>\n",
       "      <td>1998-08-05</td>\n",
       "      <td>34.031682</td>\n",
       "      <td>30.417660</td>\n",
       "      <td>37.584494</td>\n",
       "    </tr>\n",
       "    <tr>\n",
       "      <th>2103</th>\n",
       "      <td>1998-08-06</td>\n",
       "      <td>34.097795</td>\n",
       "      <td>30.787609</td>\n",
       "      <td>37.678758</td>\n",
       "    </tr>\n",
       "    <tr>\n",
       "      <th>2104</th>\n",
       "      <td>1998-08-07</td>\n",
       "      <td>34.060244</td>\n",
       "      <td>30.673890</td>\n",
       "      <td>37.417234</td>\n",
       "    </tr>\n",
       "  </tbody>\n",
       "</table>\n",
       "</div>"
      ],
      "text/plain": [
       "             ds       yhat  yhat_lower  yhat_upper\n",
       "2100 1998-08-03  34.014282   30.677725   37.398714\n",
       "2101 1998-08-04  33.996566   30.322100   37.197236\n",
       "2102 1998-08-05  34.031682   30.417660   37.584494\n",
       "2103 1998-08-06  34.097795   30.787609   37.678758\n",
       "2104 1998-08-07  34.060244   30.673890   37.417234"
      ]
     },
     "execution_count": 58,
     "metadata": {},
     "output_type": "execute_result"
    }
   ],
   "source": [
    "test_forecast = pr.predict(pr_test_pred)\n",
    "test_forecast[['ds', 'yhat', 'yhat_lower', 'yhat_upper']].tail()"
   ]
  },
  {
   "cell_type": "code",
   "execution_count": 59,
   "metadata": {},
   "outputs": [],
   "source": [
    "pr_test_eval = test_forecast.merge(pr_test, how = 'left', on = 'ds')[['ds', 'yhat', 'y', 'yhat_lower', 'yhat_upper']]"
   ]
  },
  {
   "cell_type": "code",
   "execution_count": 60,
   "metadata": {},
   "outputs": [
    {
     "data": {
      "text/html": [
       "<div>\n",
       "<style scoped>\n",
       "    .dataframe tbody tr th:only-of-type {\n",
       "        vertical-align: middle;\n",
       "    }\n",
       "\n",
       "    .dataframe tbody tr th {\n",
       "        vertical-align: top;\n",
       "    }\n",
       "\n",
       "    .dataframe thead th {\n",
       "        text-align: right;\n",
       "    }\n",
       "</style>\n",
       "<table border=\"1\" class=\"dataframe\">\n",
       "  <thead>\n",
       "    <tr style=\"text-align: right;\">\n",
       "      <th></th>\n",
       "      <th>yhat</th>\n",
       "      <th>y</th>\n",
       "      <th>yhat_lower</th>\n",
       "      <th>yhat_upper</th>\n",
       "    </tr>\n",
       "    <tr>\n",
       "      <th>ds</th>\n",
       "      <th></th>\n",
       "      <th></th>\n",
       "      <th></th>\n",
       "      <th></th>\n",
       "    </tr>\n",
       "  </thead>\n",
       "  <tbody>\n",
       "    <tr>\n",
       "      <th>1990-10-16</th>\n",
       "      <td>21.682879</td>\n",
       "      <td>NaN</td>\n",
       "      <td>19.819358</td>\n",
       "      <td>23.799836</td>\n",
       "    </tr>\n",
       "    <tr>\n",
       "      <th>1990-10-17</th>\n",
       "      <td>21.720089</td>\n",
       "      <td>NaN</td>\n",
       "      <td>19.499759</td>\n",
       "      <td>23.662870</td>\n",
       "    </tr>\n",
       "    <tr>\n",
       "      <th>1990-10-18</th>\n",
       "      <td>21.791736</td>\n",
       "      <td>NaN</td>\n",
       "      <td>19.788855</td>\n",
       "      <td>23.772012</td>\n",
       "    </tr>\n",
       "    <tr>\n",
       "      <th>1990-10-19</th>\n",
       "      <td>21.762856</td>\n",
       "      <td>NaN</td>\n",
       "      <td>19.836389</td>\n",
       "      <td>23.824280</td>\n",
       "    </tr>\n",
       "    <tr>\n",
       "      <th>1990-10-22</th>\n",
       "      <td>21.807054</td>\n",
       "      <td>NaN</td>\n",
       "      <td>19.795208</td>\n",
       "      <td>23.829625</td>\n",
       "    </tr>\n",
       "    <tr>\n",
       "      <th>...</th>\n",
       "      <td>...</td>\n",
       "      <td>...</td>\n",
       "      <td>...</td>\n",
       "      <td>...</td>\n",
       "    </tr>\n",
       "    <tr>\n",
       "      <th>1998-08-03</th>\n",
       "      <td>34.014282</td>\n",
       "      <td>28.63</td>\n",
       "      <td>30.677725</td>\n",
       "      <td>37.398714</td>\n",
       "    </tr>\n",
       "    <tr>\n",
       "      <th>1998-08-04</th>\n",
       "      <td>33.996566</td>\n",
       "      <td>42.56</td>\n",
       "      <td>30.322100</td>\n",
       "      <td>37.197236</td>\n",
       "    </tr>\n",
       "    <tr>\n",
       "      <th>1998-08-05</th>\n",
       "      <td>34.031682</td>\n",
       "      <td>38.06</td>\n",
       "      <td>30.417660</td>\n",
       "      <td>37.584494</td>\n",
       "    </tr>\n",
       "    <tr>\n",
       "      <th>1998-08-06</th>\n",
       "      <td>34.097795</td>\n",
       "      <td>38.63</td>\n",
       "      <td>30.787609</td>\n",
       "      <td>37.678758</td>\n",
       "    </tr>\n",
       "    <tr>\n",
       "      <th>1998-08-07</th>\n",
       "      <td>34.060244</td>\n",
       "      <td>39.81</td>\n",
       "      <td>30.673890</td>\n",
       "      <td>37.417234</td>\n",
       "    </tr>\n",
       "  </tbody>\n",
       "</table>\n",
       "<p>2105 rows × 4 columns</p>\n",
       "</div>"
      ],
      "text/plain": [
       "                 yhat      y  yhat_lower  yhat_upper\n",
       "ds                                                  \n",
       "1990-10-16  21.682879    NaN   19.819358   23.799836\n",
       "1990-10-17  21.720089    NaN   19.499759   23.662870\n",
       "1990-10-18  21.791736    NaN   19.788855   23.772012\n",
       "1990-10-19  21.762856    NaN   19.836389   23.824280\n",
       "1990-10-22  21.807054    NaN   19.795208   23.829625\n",
       "...               ...    ...         ...         ...\n",
       "1998-08-03  34.014282  28.63   30.677725   37.398714\n",
       "1998-08-04  33.996566  42.56   30.322100   37.197236\n",
       "1998-08-05  34.031682  38.06   30.417660   37.584494\n",
       "1998-08-06  34.097795  38.63   30.787609   37.678758\n",
       "1998-08-07  34.060244  39.81   30.673890   37.417234\n",
       "\n",
       "[2105 rows x 4 columns]"
      ]
     },
     "execution_count": 60,
     "metadata": {},
     "output_type": "execute_result"
    }
   ],
   "source": [
    "pr_test_eval.set_index('ds')"
   ]
  },
  {
   "cell_type": "code",
   "execution_count": 61,
   "metadata": {},
   "outputs": [
    {
     "data": {
      "text/plain": [
       "<matplotlib.legend.Legend at 0x7fb7a1031ac0>"
      ]
     },
     "execution_count": 61,
     "metadata": {},
     "output_type": "execute_result"
    },
    {
     "data": {
      "image/png": "[encoded data removed]",
      "text/plain": [
       "<Figure size 432x288 with 1 Axes>"
      ]
     },
     "metadata": {
      "needs_background": "light"
     },
     "output_type": "display_data"
    }
   ],
   "source": [
    "#Visualize\n",
    "plt.plot(pr_test_eval['y'], label = 'actual test')\n",
    "plt.plot(pr_train['y'], label = 'actual train')\n",
    "plt.plot(pr_test_eval['yhat'], label = 'predicted')\n",
    "plt.legend()"
   ]
  },
  {
   "cell_type": "code",
   "execution_count": 62,
   "metadata": {},
   "outputs": [
    {
     "ename": "NameError",
     "evalue": "name 'forecast' is not defined",
     "output_type": "error",
     "traceback": [
      "\u001b[0;31m---------------------------------------------------------------------------\u001b[0m",
      "\u001b[0;31mNameError\u001b[0m                                 Traceback (most recent call last)",
      "\u001b[0;32m<ipython-input-62-396ca5234986>\u001b[0m in \u001b[0;36m<module>\u001b[0;34m\u001b[0m\n\u001b[0;32m----> 1\u001b[0;31m \u001b[0mfig1\u001b[0m \u001b[0;34m=\u001b[0m \u001b[0mpr\u001b[0m\u001b[0;34m.\u001b[0m\u001b[0mplot\u001b[0m\u001b[0;34m(\u001b[0m\u001b[0mforecast\u001b[0m\u001b[0;34m)\u001b[0m\u001b[0;34m\u001b[0m\u001b[0;34m\u001b[0m\u001b[0m\n\u001b[0m",
      "\u001b[0;31mNameError\u001b[0m: name 'forecast' is not defined"
     ]
    }
   ],
   "source": [
    "fig1 = pr.plot(forecast)"
   ]
  },
  {
   "cell_type": "code",
   "execution_count": 63,
   "metadata": {},
   "outputs": [
    {
     "data": {
      "text/plain": [
       "0.9294937394116489"
      ]
     },
     "execution_count": 63,
     "metadata": {},
     "output_type": "execute_result"
    }
   ],
   "source": [
    "#Train accuracy\n",
    "sklearn.metrics.r2_score(pr_train['y'], pr_test_eval.iloc[:train_size,:]['yhat'])"
   ]
  },
  {
   "cell_type": "code",
   "execution_count": 64,
   "metadata": {},
   "outputs": [
    {
     "data": {
      "text/plain": [
       "-1.303691952553979"
      ]
     },
     "execution_count": 64,
     "metadata": {},
     "output_type": "execute_result"
    }
   ],
   "source": [
    "#Test accuracy\n",
    "sklearn.metrics.r2_score(pr_test_eval.dropna()['y'], pr_test_eval.dropna()['yhat'])"
   ]
  },
  {
   "cell_type": "markdown",
   "metadata": {},
   "source": [
    "## LSTM"
   ]
  },
  {
   "cell_type": "code",
   "execution_count": 65,
   "metadata": {},
   "outputs": [],
   "source": [
    "from keras.models import Sequential\n",
    "from keras.layers import Dense, SimpleRNN, LSTM\n",
    "from sklearn.preprocessing import MinMaxScaler\n",
    "from sklearn.metrics import mean_squared_error\n",
    "from keras.preprocessing.sequence import TimeseriesGenerator\n",
    "from keras.callbacks import EarlyStopping"
   ]
  },
  {
   "cell_type": "markdown",
   "metadata": {},
   "source": [
    "Code adapted from:\n",
    "https://github.com/bnsreenu/python_for_microscopists/blob/master/166b-Intro_to_time_series_Forecasting_using_LSTM_and_TimeseriesGenerator.py"
   ]
  },
  {
   "cell_type": "code",
   "execution_count": 66,
   "metadata": {},
   "outputs": [],
   "source": [
    "df = stock1[['Price']]"
   ]
  },
  {
   "cell_type": "code",
   "execution_count": 67,
   "metadata": {},
   "outputs": [],
   "source": [
    "#Convert into numpy array\n",
    "dataset = df.values"
   ]
  },
  {
   "cell_type": "code",
   "execution_count": 68,
   "metadata": {},
   "outputs": [],
   "source": [
    "#Scale\n",
    "scaler = MinMaxScaler(feature_range=(0, 1))\n",
    "dataset = scaler.fit_transform(dataset)"
   ]
  },
  {
   "cell_type": "code",
   "execution_count": 69,
   "metadata": {},
   "outputs": [],
   "source": [
    "#Train, test split\n",
    "train_size_l = int(len(dataset) * 0.66)\n",
    "test_size_l = len(dataset) - train_size_l\n",
    "train_l, test_l = dataset[0:train_size_l,:], dataset[train_size_l:len(dataset),:]"
   ]
  },
  {
   "cell_type": "code",
   "execution_count": 70,
   "metadata": {},
   "outputs": [
    {
     "name": "stdout",
     "output_type": "stream",
     "text": [
      "Total number of samples in the original training data =  1389\n",
      "Total number of samples in the generated data =  1379\n"
     ]
    }
   ],
   "source": [
    "#Use TimeseriesGenerator to organize training data into the right format\n",
    "seq_size = length =  10 \n",
    "batch_size = 1\n",
    "train_generator = TimeseriesGenerator(train_l,train_l,length=length,batch_size=batch_size)\n",
    "print(\"Total number of samples in the original training data = \", len(train_l))\n",
    "print(\"Total number of samples in the generated data = \", len(train_generator))"
   ]
  },
  {
   "cell_type": "code",
   "execution_count": 71,
   "metadata": {},
   "outputs": [],
   "source": [
    "#Generate validation data\n",
    "validation_generator = TimeseriesGenerator(test_l, test_l, length=length ,batch_size=batch_size)"
   ]
  },
  {
   "cell_type": "code",
   "execution_count": 72,
   "metadata": {},
   "outputs": [],
   "source": [
    "#Input dimensions are... (N x seq_size)\n",
    "num_features = 1"
   ]
  },
  {
   "cell_type": "code",
   "execution_count": 73,
   "metadata": {},
   "outputs": [
    {
     "name": "stdout",
     "output_type": "stream",
     "text": [
      "Model: \"sequential\"\n",
      "_________________________________________________________________\n",
      "Layer (type)                 Output Shape              Param #   \n",
      "=================================================================\n",
      "lstm (LSTM)                  (None, 10, 50)            10400     \n",
      "_________________________________________________________________\n",
      "lstm_1 (LSTM)                (None, 50)                20200     \n",
      "_________________________________________________________________\n",
      "dense (Dense)                (None, 1)                 51        \n",
      "=================================================================\n",
      "Total params: 30,651\n",
      "Trainable params: 30,651\n",
      "Non-trainable params: 0\n",
      "_________________________________________________________________\n",
      "Train...\n"
     ]
    }
   ],
   "source": [
    "model = Sequential()\n",
    "model.add(LSTM(50, activation='relu', return_sequences=True, input_shape=(length, num_features)))\n",
    "model.add(LSTM(50, activation='relu'))\n",
    "model.add(Dense(1))\n",
    "model.compile(optimizer='adam', loss='mean_squared_error')\n",
    "\n",
    "model.summary()\n",
    "print('Train...')"
   ]
  },
  {
   "cell_type": "code",
   "execution_count": 74,
   "metadata": {},
   "outputs": [
    {
     "name": "stdout",
     "output_type": "stream",
     "text": [
      "Epoch 1/50\n",
      "1379/1379 - 22s - loss: 0.0028 - val_loss: 0.0023\n",
      "Epoch 2/50\n",
      "1379/1379 - 6s - loss: 8.4156e-04 - val_loss: 0.0042\n",
      "Epoch 3/50\n",
      "1379/1379 - 6s - loss: 6.4899e-04 - val_loss: 0.0016\n",
      "Epoch 4/50\n",
      "1379/1379 - 6s - loss: 5.1537e-04 - val_loss: 0.0015\n",
      "Epoch 5/50\n",
      "1379/1379 - 6s - loss: 4.7813e-04 - val_loss: 0.0010\n",
      "Epoch 6/50\n",
      "1379/1379 - 6s - loss: 3.9837e-04 - val_loss: 0.0011\n",
      "Epoch 7/50\n",
      "1379/1379 - 6s - loss: 3.5008e-04 - val_loss: 0.0012\n",
      "Epoch 8/50\n",
      "1379/1379 - 6s - loss: 3.4179e-04 - val_loss: 8.0620e-04\n",
      "Epoch 9/50\n",
      "1379/1379 - 6s - loss: 3.4369e-04 - val_loss: 7.9705e-04\n",
      "Epoch 10/50\n",
      "1379/1379 - 6s - loss: 2.9273e-04 - val_loss: 0.0011\n",
      "Epoch 11/50\n",
      "1379/1379 - 6s - loss: 2.5728e-04 - val_loss: 8.1578e-04\n",
      "Epoch 12/50\n",
      "1379/1379 - 6s - loss: 2.7761e-04 - val_loss: 0.0011\n",
      "Epoch 13/50\n",
      "1379/1379 - 6s - loss: 2.7380e-04 - val_loss: 9.4481e-04\n",
      "Epoch 14/50\n",
      "1379/1379 - 6s - loss: 2.5158e-04 - val_loss: 8.1980e-04\n",
      "Epoch 15/50\n",
      "1379/1379 - 6s - loss: 2.7205e-04 - val_loss: 7.6494e-04\n",
      "Epoch 16/50\n",
      "1379/1379 - 6s - loss: 2.6572e-04 - val_loss: 7.8337e-04\n",
      "Epoch 17/50\n",
      "1379/1379 - 6s - loss: 2.5461e-04 - val_loss: 0.0011\n",
      "Epoch 18/50\n",
      "1379/1379 - 6s - loss: 2.4295e-04 - val_loss: 0.0012\n",
      "Epoch 19/50\n",
      "1379/1379 - 6s - loss: 2.4546e-04 - val_loss: 7.5686e-04\n",
      "Epoch 20/50\n",
      "1379/1379 - 6s - loss: 2.5869e-04 - val_loss: 7.7639e-04\n",
      "Epoch 21/50\n",
      "1379/1379 - 6s - loss: 2.5312e-04 - val_loss: 9.3766e-04\n",
      "Epoch 22/50\n",
      "1379/1379 - 6s - loss: 2.3604e-04 - val_loss: 0.0017\n",
      "Epoch 23/50\n",
      "1379/1379 - 6s - loss: 2.6880e-04 - val_loss: 8.6206e-04\n",
      "Epoch 24/50\n",
      "1379/1379 - 6s - loss: 2.2511e-04 - val_loss: 8.2475e-04\n",
      "Epoch 25/50\n",
      "1379/1379 - 6s - loss: 2.3701e-04 - val_loss: 7.5499e-04\n",
      "Epoch 26/50\n",
      "1379/1379 - 6s - loss: 2.2189e-04 - val_loss: 8.5778e-04\n",
      "Epoch 27/50\n",
      "1379/1379 - 6s - loss: 2.2431e-04 - val_loss: 8.2751e-04\n",
      "Epoch 28/50\n",
      "1379/1379 - 6s - loss: 2.3097e-04 - val_loss: 8.5763e-04\n",
      "Epoch 29/50\n",
      "1379/1379 - 6s - loss: 2.3032e-04 - val_loss: 8.9633e-04\n",
      "Epoch 30/50\n",
      "1379/1379 - 6s - loss: 2.2292e-04 - val_loss: 0.0012\n",
      "Epoch 31/50\n",
      "1379/1379 - 6s - loss: 2.2442e-04 - val_loss: 0.0011\n",
      "Epoch 32/50\n",
      "1379/1379 - 6s - loss: 2.1833e-04 - val_loss: 0.0012\n",
      "Epoch 33/50\n",
      "1379/1379 - 6s - loss: 2.3361e-04 - val_loss: 0.0012\n",
      "Epoch 34/50\n",
      "1379/1379 - 6s - loss: 2.2883e-04 - val_loss: 0.0012\n",
      "Epoch 35/50\n",
      "1379/1379 - 6s - loss: 2.1609e-04 - val_loss: 8.6523e-04\n",
      "Epoch 36/50\n",
      "1379/1379 - 6s - loss: 2.1330e-04 - val_loss: 8.0844e-04\n",
      "Epoch 37/50\n",
      "1379/1379 - 6s - loss: 2.2209e-04 - val_loss: 8.8263e-04\n",
      "Epoch 38/50\n",
      "1379/1379 - 6s - loss: 2.0559e-04 - val_loss: 0.0012\n",
      "Epoch 39/50\n",
      "1379/1379 - 6s - loss: 2.2670e-04 - val_loss: 0.0010\n",
      "Epoch 40/50\n",
      "1379/1379 - 6s - loss: 2.0759e-04 - val_loss: 0.0010\n",
      "Epoch 41/50\n",
      "1379/1379 - 6s - loss: 2.1180e-04 - val_loss: 8.5392e-04\n",
      "Epoch 42/50\n",
      "1379/1379 - 6s - loss: 2.1158e-04 - val_loss: 8.9834e-04\n",
      "Epoch 43/50\n",
      "1379/1379 - 6s - loss: 2.0901e-04 - val_loss: 0.0010\n",
      "Epoch 44/50\n",
      "1379/1379 - 6s - loss: 2.2240e-04 - val_loss: 8.6514e-04\n",
      "Epoch 45/50\n",
      "1379/1379 - 6s - loss: 2.0475e-04 - val_loss: 0.0011\n",
      "Epoch 46/50\n",
      "1379/1379 - 6s - loss: 2.1631e-04 - val_loss: 0.0010\n",
      "Epoch 47/50\n",
      "1379/1379 - 6s - loss: 2.2503e-04 - val_loss: 0.0010\n",
      "Epoch 48/50\n",
      "1379/1379 - 6s - loss: 2.0793e-04 - val_loss: 0.0011\n",
      "Epoch 49/50\n",
      "1379/1379 - 6s - loss: 2.0569e-04 - val_loss: 0.0012\n",
      "Epoch 50/50\n",
      "1379/1379 - 6s - loss: 2.2220e-04 - val_loss: 0.0013\n"
     ]
    },
    {
     "data": {
      "text/plain": [
       "<keras.callbacks.History at 0x7fb7a1f8f760>"
      ]
     },
     "execution_count": 74,
     "metadata": {},
     "output_type": "execute_result"
    }
   ],
   "source": [
    "model.fit_generator(generator=train_generator, verbose=2, epochs=50, validation_data=validation_generator)"
   ]
  },
  {
   "cell_type": "code",
   "execution_count": 76,
   "metadata": {},
   "outputs": [],
   "source": [
    "#Predict\n",
    "trainPredict = model.predict(train_generator)\n",
    "testPredict = model.predict(validation_generator)\n",
    "\n",
    "trainPredict = scaler.inverse_transform(trainPredict)\n",
    "trainY_inverse = scaler.inverse_transform(train_l)\n",
    "testPredict = scaler.inverse_transform(testPredict)\n",
    "testY_inverse = scaler.inverse_transform(test_l)"
   ]
  },
  {
   "cell_type": "code",
   "execution_count": 77,
   "metadata": {},
   "outputs": [],
   "source": [
    "trainPredictPlot = np.empty_like(dataset)\n",
    "trainPredictPlot[:, :] = np.nan\n",
    "trainPredictPlot[length:len(trainPredict)+length, :] = trainPredict"
   ]
  },
  {
   "cell_type": "code",
   "execution_count": 79,
   "metadata": {},
   "outputs": [],
   "source": [
    "# shift test predictions for plotting\n",
    "testPredictPlot = np.empty_like(dataset)\n",
    "testPredictPlot[:, :] = np.nan\n",
    "#testPredictPlot[len(trainPredict)+(seq_size*2)-1:len(dataset)-1, :] = testPredict\n",
    "testPredictPlot[len(train_l)+(length)-1:len(dataset)-1, :] = testPredict"
   ]
  },
  {
   "cell_type": "code",
   "execution_count": 85,
   "metadata": {},
   "outputs": [
    {
     "name": "stdout",
     "output_type": "stream",
     "text": [
      "Train Score: 0.99 R2\n",
      "Test Score: 0.94 R2\n"
     ]
    }
   ],
   "source": [
    "# calculate R2\n",
    "trainScore = sklearn.metrics.r2_score(trainY_inverse[length:], trainPredict[:,0])\n",
    "print('Train Score: %.2f R2' % (trainScore))\n",
    "\n",
    "testScore = sklearn.metrics.r2_score(testY_inverse[length:], testPredict[:,0])\n",
    "print('Test Score: %.2f R2' % (testScore))"
   ]
  },
  {
   "cell_type": "code",
   "execution_count": 80,
   "metadata": {},
   "outputs": [
    {
     "data": {
      "image/png": "[encoded data removed]",
      "text/plain": [
       "<Figure size 432x288 with 1 Axes>"
      ]
     },
     "metadata": {
      "needs_background": "light"
     },
     "output_type": "display_data"
    }
   ],
   "source": [
    "# plot baseline and predictions\n",
    "plt.plot(scaler.inverse_transform(dataset))\n",
    "plt.plot(trainPredictPlot)\n",
    "plt.plot(testPredictPlot)\n",
    "plt.show()"
   ]
  }
 ],
 "metadata": {
  "kernelspec": {
   "display_name": "Python 3",
   "language": "python",
   "name": "python3"
  },
  "language_info": {
   "codemirror_mode": {
    "name": "ipython",
    "version": 3
   },
   "file_extension": ".py",
   "mimetype": "text/x-python",
   "name": "python",
   "nbconvert_exporter": "python",
   "pygments_lexer": "ipython3",
   "version": "3.8.5"
  }
 },
 "nbformat": 4,
 "nbformat_minor": 4
}
