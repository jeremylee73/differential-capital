{
 "cells": [
  {
   "cell_type": "code",
   "execution_count": null,
   "metadata": {},
   "outputs": [],
   "source": [
    "import pandas as pd\n",
    "import numpy as np\n",
    "import seaborn as sns\n",
    "import sklearn\n",
    "import matplotlib.pyplot as plt\n",
    "import tensorflow as tf\n",
    "from tensorflow.keras.models import Sequential\n",
    "from tensorflow.keras.layers import Dense, LSTM\n",
    "from tensorflow.keras.callbacks import EarlyStopping\n",
    "import warnings\n",
    "warnings.filterwarnings(\"ignore\")"
   ]
  },
  {
   "cell_type": "markdown",
   "metadata": {},
   "source": [
    "### Pipeline psuedo code\n",
    "    n = look back window\n",
    "    k = number of PCs to keep\n",
    "\n",
    "    for each time point t:\n",
    "        p = number of stocks in investable universe at time t\n",
    "        Define an n x p feature matrix X (lagged returns)\n",
    "\n",
    "        Perform PCA on X\n",
    "        Keep the first k PCs in an n x k matrix Z\n",
    "\n",
    "    for each stock s in the investable universe at time t:\n",
    "        Define an n x 1 outcome vector y (future returns of stock s)\n",
    "        Perform a linear regression of y on Z\n",
    "        Predict y for stock s at time t+1"
   ]
  },
  {
   "cell_type": "markdown",
   "metadata": {},
   "source": [
    "## Data Preparation"
   ]
  },
  {
   "cell_type": "code",
   "execution_count": null,
   "metadata": {},
   "outputs": [],
   "source": [
    "returns = pd.read_pickle(\"./Data/returns.pkl\")\n",
    "returns = returns.iloc[1:]"
   ]
  },
  {
   "cell_type": "code",
   "execution_count": null,
   "metadata": {},
   "outputs": [],
   "source": [
    "drop_columns = []\n",
    "\n",
    "for col in returns.columns:\n",
    "    if returns[col].isnull().all() == True:\n",
    "        drop_columns.append(col)\n",
    "        \n",
    "returns.drop(columns=drop_columns, inplace=True)"
   ]
  },
  {
   "cell_type": "code",
   "execution_count": null,
   "metadata": {},
   "outputs": [],
   "source": [
    "returns_monthly = pd.read_pickle(\"./Data/returns-monthly.pkl\")\n",
    "returns_monthly"
   ]
  },
  {
   "cell_type": "markdown",
   "metadata": {},
   "source": [
    "## Pipeline"
   ]
  },
  {
   "cell_type": "code",
   "execution_count": null,
   "metadata": {},
   "outputs": [],
   "source": [
    "def get_investable(t, n):\n",
    "    \"\"\" Find stocks in investable universe at time t+1\n",
    "    (stocks in the S&P500 that have prices recorded for the last n days)\"\"\"\n",
    "    \n",
    "    df_investable = returns.copy(deep = True).sort_index(ascending = False)\n",
    "    \n",
    "    #add 1 date to get the test features in investable\n",
    "    t = t + pd.DateOffset(1)\n",
    "    n += 1\n",
    "    \n",
    "    #if t is now a non-trading day, advance until we reach a valid trading day\n",
    "    while t not in df_investable.index:\n",
    "        t = t + pd.DateOffset(1)\n",
    "    \n",
    "    t_index = df_investable.index.get_loc(t)\n",
    "    \n",
    "    #take n_rows worth of data upto time specified\n",
    "    df_investable = df_investable.iloc[t_index:t_index + n]\n",
    "    \n",
    "    #find all stocks that exist in the S&P at this time period\n",
    "    investable_universe = []\n",
    "    for col in df_investable.columns:\n",
    "        if ~df_investable[col].iloc[:n].isna().any():\n",
    "            investable_universe.append(col)\n",
    "        \n",
    "    df_investable = df_investable[investable_universe]\n",
    "    \n",
    "    return df_investable"
   ]
  },
  {
   "cell_type": "code",
   "execution_count": null,
   "metadata": {},
   "outputs": [],
   "source": [
    "# replace apply_PCA for autoencoder\n",
    "def apply_PCA(inv, k):\n",
    "    X = inv.iloc[1:, :]\n",
    "    pca = PCA(n_components = k) \n",
    "    inv_scaled = StandardScaler().fit_transform(X)   \n",
    "    principal_components = pca.fit_transform(inv_scaled)\n",
    "\n",
    "    df = pd.DataFrame(data = principal_components)\n",
    "    \n",
    "    #For explained variance table\n",
    "    components = pca.components_\n",
    "    component_explained_var = pca.explained_variance_ratio_ * 100\n",
    "    \n",
    "    comp_names = ['PCA' + str(i) for i in range(1, len(component_explained_var) + 1)]\n",
    "\n",
    "    pca_results = pd.DataFrame(data = component_explained_var, index = comp_names)\n",
    "    pca_results.columns = ['Explained variance (%)']\n",
    "    pca_results['Explained variance (%)'] = pca_results['Explained variance (%)'].round(2)\n",
    "    \n",
    "    return df"
   ]
  },
  {
   "cell_type": "code",
   "execution_count": null,
   "metadata": {},
   "outputs": [],
   "source": [
    "def define_y(inv, stock):\n",
    "    y = inv[[stock]].iloc[:-1]\n",
    "    \n",
    "    return y"
   ]
  },
  {
   "cell_type": "code",
   "execution_count": null,
   "metadata": {},
   "outputs": [],
   "source": [
    "def train_test(X, y):\n",
    "    X_train = X.iloc[1:, :]\n",
    "    X_test = X.iloc[0:1, :]\n",
    "    y_train = y.iloc[1:]\n",
    "    y_test = y.iloc[0:1]\n",
    "    \n",
    "    return X_train, y_train, X_test, y_test"
   ]
  },
  {
   "cell_type": "code",
   "execution_count": null,
   "metadata": {},
   "outputs": [],
   "source": [
    "# Converts investable dataframe into 3D tensor for input into RNN fitting\n",
    "# Eg. if investable_df has shape (52, 635), it is converted to a numpy array of shape (52, 1, 635)\n",
    "\n",
    "def formatX(investable_df):\n",
    "    train_values = []\n",
    "    # Iterates through each day in investable df and appends feature values to train_values\n",
    "    for i in range(len(investable_df.index)):\n",
    "        train_values.append(investable_df.iloc[i].values)\n",
    "    train_values = np.array(train_values) # converts to numpy array\n",
    "    train_values = np.reshape(train_values, (train_values.shape[0], 1, train_values.shape[1])) # reshapes to 3-dimensional\n",
    "    return train_values"
   ]
  },
  {
   "cell_type": "code",
   "execution_count": null,
   "metadata": {},
   "outputs": [],
   "source": [
    "# Formats output for a stock as a np array\n",
    "# Takes in a stock, a date, and a number of rows to look back on and formats the output values as a numpy array\n",
    "# Eg. formatY(stockX, Feb.25, 80) outputs the returns for stockX starting from 80 days before Feb.25 up to Feb.25\n",
    "\n",
    "def formatY(y):\n",
    "    return np.array(y)[:, 0]"
   ]
  },
  {
   "cell_type": "code",
   "execution_count": null,
   "metadata": {},
   "outputs": [],
   "source": [
    "from keras.callbacks import EarlyStopping\n",
    "\n",
    "def model_fit(X_train, y_train):\n",
    "    \n",
    "    # Converts features and output values to a 3D tensor and numpy array respectively\n",
    "    convertedX = formatX(X_train)\n",
    "    convertedY = formatY(y_train)\n",
    "    \n",
    "    # Build LSTM model with autoencoder\n",
    "    model = Sequential()\n",
    "    model.add(LSTM(100,activation='relu', input_shape =(convertedX.shape[1], convertedX.shape[2])))\n",
    "    model.add(RepeatVector(convertedX.shape[1]))\n",
    "    model.add(LSTM(100,activation='relu', return_sequences=True))\n",
    "    model.add(TimeDistributed(Dense(1)))\n",
    "    model.compile(optimizer=\"adam\", loss='mse')#rnn: optimizer='rmsprop'\n",
    "    early_stopping = EarlyStopping(monitor=\"val_loss\", patience=5)\n",
    "    \n",
    "    # Fit model on formatted data\n",
    "    model.fit(convertedX, convertedY, validation_split=0.2, epochs=50, batch_size=16, verbose=0, callbacks=[early_stopping])\n",
    "    \n",
    "    return model"
   ]
  },
  {
   "cell_type": "code",
   "execution_count": null,
   "metadata": {},
   "outputs": [],
   "source": [
    "def model_predict(model, X_test):\n",
    "    convertedX = formatX(X_test)\n",
    "    yhat = model.predict(X_test)\n",
    "    \n",
    "    return yhat"
   ]
  },
  {
   "cell_type": "code",
   "execution_count": null,
   "metadata": {},
   "outputs": [],
   "source": [
    "def predict_returns(t, n, k, model, refit=True):\n",
    "    inv = get_investable(t, n)\n",
    "    X = apply_PCA(inv, k)\n",
    "    \n",
    "    returns_t = pd.DataFrame(index = inv.columns, columns = ['Pred', 'Actual'])\n",
    "    \n",
    "    for stock in inv.columns:\n",
    "        y = define_y(inv, stock)\n",
    "        X_train, y_train, X_test, y_test = train_test(X, y)\n",
    "        \n",
    "        if refit:\n",
    "            model = model_fit(X_train, y_train)\n",
    "        \n",
    "        yhat = model_predict(model, X_test)[0][0]\n",
    "        returns_t['Pred'].loc[stock] = yhat\n",
    "        returns_t['Actual'].loc[stock] = y_test.values[0][0]\n",
    "    \n",
    "    return returns_t, model"
   ]
  },
  {
   "cell_type": "code",
   "execution_count": null,
   "metadata": {},
   "outputs": [],
   "source": [
    "def rank_stocks(returns, num_stocks):\n",
    "    pred_returns = returns.sort_values(by = 'Pred', ascending = False)\n",
    "    topn = pred_returns.head(num_stocks)\n",
    "    botn = pred_returns.tail(num_stocks)\n",
    "    \n",
    "    return topn, botn"
   ]
  },
  {
   "cell_type": "code",
   "execution_count": null,
   "metadata": {},
   "outputs": [],
   "source": [
    "def portfolio_return(topn, botn, returns):\n",
    "    return_t = topn['Actual'].mean() - botn['Actual'].mean()\n",
    "    \n",
    "    return return_t"
   ]
  },
  {
   "cell_type": "code",
   "execution_count": null,
   "metadata": {},
   "outputs": [],
   "source": [
    "def pipeline(n, k, num_stocks):\n",
    "\n",
    "    time_range = returns.loc['2015':'2021'].index\n",
    "    \n",
    "    for i in range(len(time_range)):\n",
    "        if time_range[i] in returns_monthly.index:\n",
    "            time_range = time_range[i:]\n",
    "            break\n",
    "    \n",
    "    portfolio = pd.DataFrame(index = time_range, columns = ['Portfolio Return'])\n",
    "    current_model = Sequential()\n",
    "    \n",
    "    count = 0\n",
    "    for t in time_range[:-1]:\n",
    "        if t in returns_monthly.index:\n",
    "            pred_actual, current_model = predict_returns(t, n, k, current_model, refit=True)\n",
    "        else:\n",
    "            pred_actual, current_model = predict_returns(t, n, k, current_model, refit=False)\n",
    "        \n",
    "        topn, botn = rank_stocks(pred_actual, num_stocks)\n",
    "        return_t = portfolio_return(topn, botn, pred_actual)\n",
    "        t_index = time_range.get_loc(t) + 1\n",
    "        portfolio['Portfolio Return'].loc[time_range[t_index]] = return_t\n",
    "        \n",
    "        count +=1\n",
    "        print(f'{(count/len(time_range))*100:.2f}% complete')\n",
    "    \n",
    "    portfolio['Portfolio Return'] = portfolio['Portfolio Return'].astype('float')\n",
    "    \n",
    "    return portfolio"
   ]
  },
  {
   "cell_type": "code",
   "execution_count": null,
   "metadata": {},
   "outputs": [],
   "source": [
    "#started at XX:XX time\n",
    "print(pd.datetime.now())"
   ]
  },
  {
   "cell_type": "code",
   "execution_count": null,
   "metadata": {
    "scrolled": true
   },
   "outputs": [],
   "source": [
    "portfolio = pipeline(50, 20, 5)"
   ]
  },
  {
   "cell_type": "code",
   "execution_count": null,
   "metadata": {},
   "outputs": [],
   "source": [
    "portfolio.dropna(inplace = True)\n",
    "portfolio"
   ]
  },
  {
   "cell_type": "code",
   "execution_count": null,
   "metadata": {},
   "outputs": [],
   "source": [
    "portfolio.to_csv('results/LSTM_autoencoder.csv')"
   ]
  },
  {
   "cell_type": "code",
   "execution_count": null,
   "metadata": {},
   "outputs": [],
   "source": [
    "import matplotlib.ticker as ticker\n",
    "import matplotlib.dates as mdates\n",
    "\n",
    "fig, axes = plt.subplots(figsize=(30,15))\n",
    "sns.barplot(x = portfolio.index, y = 'Portfolio Return', data = portfolio, color = 'grey')\n",
    "\n",
    "axes.xaxis.set_major_locator(mdates.YearLocator())\n",
    "axes.xaxis.set_minor_locator(mdates.MonthLocator())\n",
    "\n",
    "ticklabels = [item.strftime('%Y') for item in portfolio.resample('Y').mean().index.to_period('Y')]\n",
    "\n",
    "axes.xaxis.set_major_formatter(ticker.FixedFormatter(ticklabels))\n",
    "\n",
    "plt.xticks(rotation = 'vertical')\n",
    "axes.set_title('Portfolio Returns')\n",
    "\n",
    "sns.set(font_scale=2)\n",
    "plt.axhline(0)\n",
    "\n",
    "plt.tight_layout()\n",
    "\n",
    "plt.show()"
   ]
  },
  {
   "cell_type": "code",
   "execution_count": null,
   "metadata": {
    "scrolled": true
   },
   "outputs": [],
   "source": [
    "# in original pipeline, this code does not use\n",
    "portfolio_monthly = portfolio.resample('M').mean()\n",
    "portfolio_monthly"
   ]
  },
  {
   "cell_type": "code",
   "execution_count": null,
   "metadata": {},
   "outputs": [],
   "source": [
    "avg_return = portfolio['Portfolio Return'].mean()\n",
    "print(f'Average return is {avg_return:.2f} %')"
   ]
  },
  {
   "cell_type": "code",
   "execution_count": null,
   "metadata": {},
   "outputs": [],
   "source": [
    "rolling_avg = pd.read_csv('results/LSTM_autoencoder.csv', index_col = 'date', parse_dates = True)(252).mean())"
   ]
  },
  {
   "cell_type": "code",
   "execution_count": null,
   "metadata": {},
   "outputs": [],
   "source": [
    "rolling_avg = pd.DataFrame(data = rolling_avg['Portfolio Return'].rolling(252).mean())"
   ]
  },
  {
   "cell_type": "code",
   "execution_count": null,
   "metadata": {},
   "outputs": [],
   "source": [
    "rolling_avg.dropna(inplace=True)"
   ]
  },
  {
   "cell_type": "code",
   "execution_count": null,
   "metadata": {},
   "outputs": [],
   "source": [
    "# 12-Month Rolling Average Portfolio Returns\n",
    "\n",
    "fig, axes = plt.subplots(figsize=(30,15))\n",
    "sns.lineplot(x=rolling_avg.index, y=\"Portfolio Return\", data=rolling_avg, color = '#0c8c84ff')\n",
    "\n",
    "plt.xticks(rotation = 'vertical', fontsize = 25)\n",
    "plt.yticks(fontsize = 20)\n",
    "\n",
    "axes.set_title('LSTM with Autoencoder: 12-Month Rolling Average Portfolio Returns', fontsize = 35)\n",
    "axes.set_xlabel('Year', fontsize = 30)\n",
    "axes.set_ylabel('Portfolio Return (%)', fontsize = 30)\n",
    "\n",
    "plt.xlim([rolling_avg.index[0], rolling_avg.index[-1]])\n",
    "plt.axhline(0, color = '#fcc43cff')"
   ]
  }
 ],
 "metadata": {
  "kernelspec": {
   "display_name": "Python 3",
   "language": "python",
   "name": "python3"
  },
  "language_info": {
   "codemirror_mode": {
    "name": "ipython",
    "version": 3
   },
   "file_extension": ".py",
   "mimetype": "text/x-python",
   "name": "python",
   "nbconvert_exporter": "python",
   "pygments_lexer": "ipython3",
   "version": "3.8.8"
  }
 },
 "nbformat": 4,
 "nbformat_minor": 4
}
