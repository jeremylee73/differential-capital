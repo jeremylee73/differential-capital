{
 "cells": [
  {
   "cell_type": "code",
   "execution_count": 213,
   "metadata": {},
   "outputs": [],
   "source": [
    "#library imports\n",
    "import pandas as pd\n",
    "import numpy as np\n",
    "import seaborn as sns\n",
    "import matplotlib.pyplot as plt\n",
    "import sklearn\n",
    "import talib\n",
    "import warnings\n",
    "warnings.filterwarnings('ignore')"
   ]
  },
  {
   "cell_type": "code",
   "execution_count": 214,
   "metadata": {},
   "outputs": [],
   "source": [
    "#data imports\n",
    "volumes = pd.read_csv('Data/stock_volumes.csv', index_col = 'date', parse_dates = True)\n",
    "prices = pd.read_csv('Data/stock_prices.csv', index_col = 'date', parse_dates = True)\n",
    "info = pd.read_csv('Data/stock_info.csv')\n",
    "sp_listings = pd.read_csv('Data/sp500_listings.csv', index_col = 'date', parse_dates = True)"
   ]
  },
  {
   "cell_type": "markdown",
   "metadata": {},
   "source": [
    "# Sample Stock"
   ]
  },
  {
   "cell_type": "code",
   "execution_count": 215,
   "metadata": {},
   "outputs": [],
   "source": [
    "#select one stock\n",
    "stock1 = prices[['905270']]\n",
    "stock1.rename(columns = {'905270':'Price'}, inplace = True)"
   ]
  },
  {
   "cell_type": "code",
   "execution_count": 308,
   "metadata": {},
   "outputs": [
    {
     "data": {
      "text/html": [
       "<div>\n",
       "<style scoped>\n",
       "    .dataframe tbody tr th:only-of-type {\n",
       "        vertical-align: middle;\n",
       "    }\n",
       "\n",
       "    .dataframe tbody tr th {\n",
       "        vertical-align: top;\n",
       "    }\n",
       "\n",
       "    .dataframe thead th {\n",
       "        text-align: right;\n",
       "    }\n",
       "</style>\n",
       "<table border=\"1\" class=\"dataframe\">\n",
       "  <thead>\n",
       "    <tr style=\"text-align: right;\">\n",
       "      <th></th>\n",
       "      <th>Price</th>\n",
       "      <th>10d_future_price</th>\n",
       "      <th>ma14</th>\n",
       "      <th>rsi14</th>\n",
       "      <th>ma50</th>\n",
       "      <th>rsi50</th>\n",
       "      <th>ma200</th>\n",
       "      <th>rsi200</th>\n",
       "    </tr>\n",
       "    <tr>\n",
       "      <th>date</th>\n",
       "      <th></th>\n",
       "      <th></th>\n",
       "      <th></th>\n",
       "      <th></th>\n",
       "      <th></th>\n",
       "      <th></th>\n",
       "      <th></th>\n",
       "      <th></th>\n",
       "    </tr>\n",
       "  </thead>\n",
       "  <tbody>\n",
       "    <tr>\n",
       "      <th>1990-10-16</th>\n",
       "      <td>20.31</td>\n",
       "      <td>20.25</td>\n",
       "      <td>1.019835</td>\n",
       "      <td>48.103694</td>\n",
       "      <td>1.004540</td>\n",
       "      <td>45.507470</td>\n",
       "      <td>1.156817</td>\n",
       "      <td>48.023971</td>\n",
       "    </tr>\n",
       "    <tr>\n",
       "      <th>1990-10-17</th>\n",
       "      <td>19.94</td>\n",
       "      <td>20.50</td>\n",
       "      <td>1.038114</td>\n",
       "      <td>45.113806</td>\n",
       "      <td>1.022177</td>\n",
       "      <td>44.562232</td>\n",
       "      <td>1.177625</td>\n",
       "      <td>47.736455</td>\n",
       "    </tr>\n",
       "    <tr>\n",
       "      <th>1990-10-18</th>\n",
       "      <td>20.69</td>\n",
       "      <td>21.31</td>\n",
       "      <td>1.002451</td>\n",
       "      <td>51.671140</td>\n",
       "      <td>0.984640</td>\n",
       "      <td>46.845880</td>\n",
       "      <td>1.134529</td>\n",
       "      <td>48.366215</td>\n",
       "    </tr>\n",
       "    <tr>\n",
       "      <th>1990-10-19</th>\n",
       "      <td>21.75</td>\n",
       "      <td>21.06</td>\n",
       "      <td>0.957504</td>\n",
       "      <td>59.107163</td>\n",
       "      <td>0.936993</td>\n",
       "      <td>49.826563</td>\n",
       "      <td>1.079223</td>\n",
       "      <td>49.235097</td>\n",
       "    </tr>\n",
       "    <tr>\n",
       "      <th>1990-10-22</th>\n",
       "      <td>21.63</td>\n",
       "      <td>21.31</td>\n",
       "      <td>0.963873</td>\n",
       "      <td>58.018827</td>\n",
       "      <td>0.942487</td>\n",
       "      <td>49.505873</td>\n",
       "      <td>1.085067</td>\n",
       "      <td>49.141011</td>\n",
       "    </tr>\n",
       "  </tbody>\n",
       "</table>\n",
       "</div>"
      ],
      "text/plain": [
       "            Price  10d_future_price      ma14      rsi14      ma50      rsi50  \\\n",
       "date                                                                            \n",
       "1990-10-16  20.31             20.25  1.019835  48.103694  1.004540  45.507470   \n",
       "1990-10-17  19.94             20.50  1.038114  45.113806  1.022177  44.562232   \n",
       "1990-10-18  20.69             21.31  1.002451  51.671140  0.984640  46.845880   \n",
       "1990-10-19  21.75             21.06  0.957504  59.107163  0.936993  49.826563   \n",
       "1990-10-22  21.63             21.31  0.963873  58.018827  0.942487  49.505873   \n",
       "\n",
       "               ma200     rsi200  \n",
       "date                             \n",
       "1990-10-16  1.156817  48.023971  \n",
       "1990-10-17  1.177625  47.736455  \n",
       "1990-10-18  1.134529  48.366215  \n",
       "1990-10-19  1.079223  49.235097  \n",
       "1990-10-22  1.085067  49.141011  "
      ]
     },
     "execution_count": 308,
     "metadata": {},
     "output_type": "execute_result"
    }
   ],
   "source": [
    "stock1.head()"
   ]
  },
  {
   "cell_type": "code",
   "execution_count": 216,
   "metadata": {},
   "outputs": [],
   "source": [
    "#find when stock was delisted\n",
    "delist_date = sp_listings.where(sp_listings['stock'] == '905270').last_valid_index() + pd.DateOffset(1)"
   ]
  },
  {
   "cell_type": "code",
   "execution_count": 309,
   "metadata": {},
   "outputs": [
    {
     "data": {
      "text/html": [
       "<div>\n",
       "<style scoped>\n",
       "    .dataframe tbody tr th:only-of-type {\n",
       "        vertical-align: middle;\n",
       "    }\n",
       "\n",
       "    .dataframe tbody tr th {\n",
       "        vertical-align: top;\n",
       "    }\n",
       "\n",
       "    .dataframe thead th {\n",
       "        text-align: right;\n",
       "    }\n",
       "</style>\n",
       "<table border=\"1\" class=\"dataframe\">\n",
       "  <thead>\n",
       "    <tr style=\"text-align: right;\">\n",
       "      <th></th>\n",
       "      <th>stock</th>\n",
       "    </tr>\n",
       "    <tr>\n",
       "      <th>date</th>\n",
       "      <th></th>\n",
       "    </tr>\n",
       "  </thead>\n",
       "  <tbody>\n",
       "    <tr>\n",
       "      <th>1990-01-01</th>\n",
       "      <td>905270</td>\n",
       "    </tr>\n",
       "    <tr>\n",
       "      <th>1990-01-01</th>\n",
       "      <td>921795</td>\n",
       "    </tr>\n",
       "    <tr>\n",
       "      <th>1990-01-01</th>\n",
       "      <td>904261</td>\n",
       "    </tr>\n",
       "    <tr>\n",
       "      <th>1990-01-01</th>\n",
       "      <td>905261</td>\n",
       "    </tr>\n",
       "    <tr>\n",
       "      <th>1990-01-01</th>\n",
       "      <td>916328</td>\n",
       "    </tr>\n",
       "  </tbody>\n",
       "</table>\n",
       "</div>"
      ],
      "text/plain": [
       "             stock\n",
       "date              \n",
       "1990-01-01  905270\n",
       "1990-01-01  921795\n",
       "1990-01-01  904261\n",
       "1990-01-01  905261\n",
       "1990-01-01  916328"
      ]
     },
     "execution_count": 309,
     "metadata": {},
     "output_type": "execute_result"
    }
   ],
   "source": [
    "sp_listings.head()"
   ]
  },
  {
   "cell_type": "code",
   "execution_count": 217,
   "metadata": {},
   "outputs": [],
   "source": [
    "#set all values after delist date to NaN\n",
    "stock1.loc[delist_date:]['Price'] = np.nan"
   ]
  },
  {
   "cell_type": "code",
   "execution_count": 218,
   "metadata": {},
   "outputs": [],
   "source": [
    "#drop missing values\n",
    "stock1.dropna(inplace = True)"
   ]
  },
  {
   "cell_type": "code",
   "execution_count": 219,
   "metadata": {},
   "outputs": [
    {
     "data": {
      "image/png": "[encoded data removed]",
      "text/plain": [
       "<Figure size 432x288 with 1 Axes>"
      ]
     },
     "metadata": {
      "needs_background": "light"
     },
     "output_type": "display_data"
    }
   ],
   "source": [
    "#EDA\n",
    "stock1['Price'].plot()\n",
    "plt.ylabel('Price ($)')\n",
    "plt.show()"
   ]
  },
  {
   "cell_type": "code",
   "execution_count": 220,
   "metadata": {},
   "outputs": [],
   "source": [
    "#Create target\n",
    "stock1['10d_future_price'] = stock1['Price'].shift(-10)"
   ]
  },
  {
   "cell_type": "code",
   "execution_count": 221,
   "metadata": {},
   "outputs": [],
   "source": [
    "#Create features\n",
    "feature_names = []\n",
    "for n in [14, 50, 200]:\n",
    "    stock1['ma' + str(n)] = talib.SMA(stock1['Price'].values, timeperiod = n)/stock1['Price']\n",
    "    stock1['rsi' + str(n)] = talib.RSI(stock1['Price'].values, timeperiod = n)\n",
    "    feature_names += ['ma' + str(n), 'rsi' + str(n)]"
   ]
  },
  {
   "cell_type": "code",
   "execution_count": 222,
   "metadata": {},
   "outputs": [
    {
     "data": {
      "text/html": [
       "<div>\n",
       "<style scoped>\n",
       "    .dataframe tbody tr th:only-of-type {\n",
       "        vertical-align: middle;\n",
       "    }\n",
       "\n",
       "    .dataframe tbody tr th {\n",
       "        vertical-align: top;\n",
       "    }\n",
       "\n",
       "    .dataframe thead th {\n",
       "        text-align: right;\n",
       "    }\n",
       "</style>\n",
       "<table border=\"1\" class=\"dataframe\">\n",
       "  <thead>\n",
       "    <tr style=\"text-align: right;\">\n",
       "      <th></th>\n",
       "      <th>10d_future_price</th>\n",
       "    </tr>\n",
       "  </thead>\n",
       "  <tbody>\n",
       "    <tr>\n",
       "      <th>10d_future_price</th>\n",
       "      <td>1.000000</td>\n",
       "    </tr>\n",
       "    <tr>\n",
       "      <th>Price</th>\n",
       "      <td>0.970540</td>\n",
       "    </tr>\n",
       "    <tr>\n",
       "      <th>rsi50</th>\n",
       "      <td>0.289926</td>\n",
       "    </tr>\n",
       "    <tr>\n",
       "      <th>rsi200</th>\n",
       "      <td>0.266427</td>\n",
       "    </tr>\n",
       "    <tr>\n",
       "      <th>rsi14</th>\n",
       "      <td>0.199373</td>\n",
       "    </tr>\n",
       "    <tr>\n",
       "      <th>ma14</th>\n",
       "      <td>-0.098546</td>\n",
       "    </tr>\n",
       "    <tr>\n",
       "      <th>ma50</th>\n",
       "      <td>-0.223523</td>\n",
       "    </tr>\n",
       "    <tr>\n",
       "      <th>ma200</th>\n",
       "      <td>-0.261589</td>\n",
       "    </tr>\n",
       "  </tbody>\n",
       "</table>\n",
       "</div>"
      ],
      "text/plain": [
       "                  10d_future_price\n",
       "10d_future_price          1.000000\n",
       "Price                     0.970540\n",
       "rsi50                     0.289926\n",
       "rsi200                    0.266427\n",
       "rsi14                     0.199373\n",
       "ma14                     -0.098546\n",
       "ma50                     -0.223523\n",
       "ma200                    -0.261589"
      ]
     },
     "execution_count": 222,
     "metadata": {},
     "output_type": "execute_result"
    }
   ],
   "source": [
    "stock1.corr()[['10d_future_price']].sort_values(by='10d_future_price', ascending = False)"
   ]
  },
  {
   "cell_type": "code",
   "execution_count": 223,
   "metadata": {},
   "outputs": [],
   "source": [
    "#Drop null values\n",
    "stock1.dropna(inplace = True)"
   ]
  },
  {
   "cell_type": "code",
   "execution_count": 224,
   "metadata": {},
   "outputs": [],
   "source": [
    "#Create features and targets\n",
    "X = stock1[feature_names]\n",
    "y = stock1[['10d_future_price']]"
   ]
  },
  {
   "cell_type": "code",
   "execution_count": 389,
   "metadata": {},
   "outputs": [],
   "source": [
    "#Split data into train, test\n",
    "train_pct = 0.8\n",
    "train_size = int(train_pct * stock1.shape[0])\n",
    "X_train = X[:train_size]\n",
    "y_train = y[:train_size]\n",
    "X_test = X[train_size:]\n",
    "y_test = y[train_size:]"
   ]
  },
  {
   "cell_type": "markdown",
   "metadata": {},
   "source": [
    "## Random Forest"
   ]
  },
  {
   "cell_type": "code",
   "execution_count": 226,
   "metadata": {},
   "outputs": [],
   "source": [
    "from sklearn.ensemble import RandomForestRegressor\n",
    "from sklearn.model_selection import RandomizedSearchCV"
   ]
  },
  {
   "cell_type": "code",
   "execution_count": 227,
   "metadata": {},
   "outputs": [
    {
     "data": {
      "text/plain": [
       "RandomForestRegressor(n_estimators=200)"
      ]
     },
     "execution_count": 227,
     "metadata": {},
     "output_type": "execute_result"
    }
   ],
   "source": [
    "#Random Forest\n",
    "rf = RandomForestRegressor(n_estimators=200)\n",
    "rf.fit(X_train, y_train)"
   ]
  },
  {
   "cell_type": "code",
   "execution_count": 228,
   "metadata": {},
   "outputs": [
    {
     "name": "stdout",
     "output_type": "stream",
     "text": [
      "0.9804540376918145\n",
      "-22.391661659160764\n"
     ]
    }
   ],
   "source": [
    "#Calculate R2 score\n",
    "print(rf.score(X_train, y_train))\n",
    "print(rf.score(X_test, y_test))"
   ]
  },
  {
   "cell_type": "code",
   "execution_count": 229,
   "metadata": {},
   "outputs": [],
   "source": [
    "# Hyperparameter Tuning\n",
    "param_dist = {'n_estimators':[100, 150, 200, 250],\n",
    "              'max_depth': [3, 4, 5, 6, 7, 8, 9],\n",
    "              'random_state': [42]}\n",
    "test_scores = []\n",
    "\n",
    "rf_tune = RandomizedSearchCV(estimator = rf,\n",
    "                             param_distributions = param_dist,\n",
    "                             n_jobs = -1, scoring = 'r2')"
   ]
  },
  {
   "cell_type": "code",
   "execution_count": 230,
   "metadata": {},
   "outputs": [
    {
     "data": {
      "text/plain": [
       "RandomizedSearchCV(estimator=RandomForestRegressor(n_estimators=200), n_jobs=-1,\n",
       "                   param_distributions={'max_depth': [3, 4, 5, 6, 7, 8, 9],\n",
       "                                        'n_estimators': [100, 150, 200, 250],\n",
       "                                        'random_state': [42]},\n",
       "                   scoring='r2')"
      ]
     },
     "execution_count": 230,
     "metadata": {},
     "output_type": "execute_result"
    }
   ],
   "source": [
    "rf_tune.fit(X_train, y_train)"
   ]
  },
  {
   "cell_type": "code",
   "execution_count": 231,
   "metadata": {},
   "outputs": [
    {
     "data": {
      "text/plain": [
       "{'random_state': 42, 'n_estimators': 150, 'max_depth': 9}"
      ]
     },
     "execution_count": 231,
     "metadata": {},
     "output_type": "execute_result"
    }
   ],
   "source": [
    "rf_tune.best_params_"
   ]
  },
  {
   "cell_type": "code",
   "execution_count": 232,
   "metadata": {},
   "outputs": [
    {
     "data": {
      "text/plain": [
       "-6.027546357740214"
      ]
     },
     "execution_count": 232,
     "metadata": {},
     "output_type": "execute_result"
    }
   ],
   "source": [
    "rf_tune.best_score_"
   ]
  },
  {
   "cell_type": "code",
   "execution_count": 233,
   "metadata": {},
   "outputs": [
    {
     "data": {
      "image/png": "[encoded data removed]",
      "text/plain": [
       "<Figure size 432x288 with 1 Axes>"
      ]
     },
     "metadata": {
      "needs_background": "light"
     },
     "output_type": "display_data"
    }
   ],
   "source": [
    "#Examine feature importances\n",
    "importances = rf.feature_importances_\n",
    "indices = np.argsort(importances)\n",
    "plt.title('Feature Importances')\n",
    "plt.barh(range(len(indices)), importances[indices], color='#00838fff', align='center')\n",
    "plt.yticks(range(len(indices)), [feature_names[i] for i in indices])\n",
    "plt.xlabel('Relative Importance')\n",
    "plt.show()"
   ]
  },
  {
   "cell_type": "markdown",
   "metadata": {},
   "source": [
    "### Evaluation"
   ]
  },
  {
   "cell_type": "code",
   "execution_count": 239,
   "metadata": {},
   "outputs": [],
   "source": [
    "#Evaluate on train set\n",
    "rf_train_pred = pd.DataFrame(rf.predict(X_train))\n",
    "rf_train_pred.index = y_train.index\n",
    "rf_train_eval = pd.concat([y_train, rf_train_pred], axis = 1)\n",
    "rf_train_eval.columns = ['actual', 'predicted']"
   ]
  },
  {
   "cell_type": "code",
   "execution_count": 251,
   "metadata": {},
   "outputs": [
    {
     "data": {
      "text/plain": [
       "<matplotlib.legend.Legend at 0x7fed0392c3a0>"
      ]
     },
     "execution_count": 251,
     "metadata": {},
     "output_type": "execute_result"
    },
    {
     "data": {
      "image/png": "[encoded data removed]",
      "text/plain": [
       "<Figure size 432x288 with 1 Axes>"
      ]
     },
     "metadata": {
      "needs_background": "light"
     },
     "output_type": "display_data"
    }
   ],
   "source": [
    "#Visualize\n",
    "plt.plot(rf_train_eval['actual'], label = 'actual')\n",
    "plt.plot(rf_train_eval['predicted'], label = 'predicted')\n",
    "plt.xticks(rotation = 90)\n",
    "plt.legend()"
   ]
  },
  {
   "cell_type": "code",
   "execution_count": 252,
   "metadata": {},
   "outputs": [],
   "source": [
    "#Evaluate on test set\n",
    "rf_test_pred = pd.DataFrame(rf.predict(X_test))\n",
    "rf_test_pred.index = y_test.index\n",
    "rf_test_eval = pd.concat([y_test, rf_test_pred], axis = 1)\n",
    "rf_test_eval.columns = ['actual', 'predicted']"
   ]
  },
  {
   "cell_type": "code",
   "execution_count": 253,
   "metadata": {},
   "outputs": [
    {
     "data": {
      "text/plain": [
       "<matplotlib.legend.Legend at 0x7fecf2b37b20>"
      ]
     },
     "execution_count": 253,
     "metadata": {},
     "output_type": "execute_result"
    },
    {
     "data": {
      "image/png": "[encoded data removed]",
      "text/plain": [
       "<Figure size 432x288 with 1 Axes>"
      ]
     },
     "metadata": {
      "needs_background": "light"
     },
     "output_type": "display_data"
    }
   ],
   "source": [
    "#Visualize\n",
    "plt.plot(rf_test_eval['actual'], label = 'actual')\n",
    "plt.plot(rf_test_eval['predicted'], label = 'predicted')\n",
    "plt.xticks(rotation = 90)\n",
    "plt.legend()"
   ]
  },
  {
   "cell_type": "markdown",
   "metadata": {},
   "source": [
    "## XGBoost"
   ]
  },
  {
   "cell_type": "code",
   "execution_count": 255,
   "metadata": {},
   "outputs": [],
   "source": [
    "from xgboost import XGBRegressor"
   ]
  },
  {
   "cell_type": "code",
   "execution_count": 256,
   "metadata": {},
   "outputs": [
    {
     "data": {
      "text/plain": [
       "XGBRegressor(base_score=0.5, booster='gbtree', colsample_bylevel=1,\n",
       "             colsample_bynode=1, colsample_bytree=1, gamma=0, gpu_id=-1,\n",
       "             importance_type='gain', interaction_constraints='',\n",
       "             learning_rate=0.300000012, max_delta_step=0, max_depth=6,\n",
       "             min_child_weight=1, missing=nan, monotone_constraints='()',\n",
       "             n_estimators=100, n_jobs=8, num_parallel_tree=1, random_state=0,\n",
       "             reg_alpha=0, reg_lambda=1, scale_pos_weight=1, subsample=1,\n",
       "             tree_method='exact', validate_parameters=1, verbosity=None)"
      ]
     },
     "execution_count": 256,
     "metadata": {},
     "output_type": "execute_result"
    }
   ],
   "source": [
    "#XGBoost Regressor\n",
    "xgb = XGBRegressor()\n",
    "xgb.fit(X_train, y_train)"
   ]
  },
  {
   "cell_type": "code",
   "execution_count": 257,
   "metadata": {},
   "outputs": [
    {
     "name": "stdout",
     "output_type": "stream",
     "text": [
      "0.9958098860751797\n",
      "-23.715074171373892\n"
     ]
    }
   ],
   "source": [
    "#Calculate R2 score\n",
    "print(xgb.score(X_train, y_train))\n",
    "print(xgb.score(X_test, y_test))"
   ]
  },
  {
   "cell_type": "markdown",
   "metadata": {},
   "source": [
    "### Hyperparameter Tuning"
   ]
  },
  {
   "cell_type": "code",
   "execution_count": 259,
   "metadata": {},
   "outputs": [],
   "source": [
    "xgb_tune= RandomizedSearchCV(\n",
    "                estimator = xgb,\n",
    "                param_distributions = param_dist, \n",
    "                scoring = 'r2', \n",
    "                n_jobs = -1)"
   ]
  },
  {
   "cell_type": "code",
   "execution_count": 260,
   "metadata": {},
   "outputs": [
    {
     "data": {
      "text/plain": [
       "RandomizedSearchCV(estimator=XGBRegressor(base_score=0.5, booster='gbtree',\n",
       "                                          colsample_bylevel=1,\n",
       "                                          colsample_bynode=1,\n",
       "                                          colsample_bytree=1, gamma=0,\n",
       "                                          gpu_id=-1, importance_type='gain',\n",
       "                                          interaction_constraints='',\n",
       "                                          learning_rate=0.300000012,\n",
       "                                          max_delta_step=0, max_depth=6,\n",
       "                                          min_child_weight=1, missing=nan,\n",
       "                                          monotone_constraints='()',\n",
       "                                          n_estimators=100, n_jobs=8,\n",
       "                                          num_parallel_tree=1, random_state=0,\n",
       "                                          reg_alpha=0, reg_lambda=1,\n",
       "                                          scale_pos_weight=1, subsample=1,\n",
       "                                          tree_method='exact',\n",
       "                                          validate_parameters=1,\n",
       "                                          verbosity=None),\n",
       "                   n_jobs=-1,\n",
       "                   param_distributions={'max_depth': [3, 4, 5, 6, 7, 8, 9],\n",
       "                                        'n_estimators': [100, 150, 200, 250],\n",
       "                                        'random_state': [42]},\n",
       "                   scoring='r2')"
      ]
     },
     "execution_count": 260,
     "metadata": {},
     "output_type": "execute_result"
    }
   ],
   "source": [
    "xgb_tune.fit(X_train, y_train)"
   ]
  },
  {
   "cell_type": "code",
   "execution_count": 261,
   "metadata": {},
   "outputs": [
    {
     "data": {
      "text/plain": [
       "{'random_state': 42, 'n_estimators': 150, 'max_depth': 4}"
      ]
     },
     "execution_count": 261,
     "metadata": {},
     "output_type": "execute_result"
    }
   ],
   "source": [
    "xgb_tune.best_params_"
   ]
  },
  {
   "cell_type": "code",
   "execution_count": 262,
   "metadata": {},
   "outputs": [
    {
     "data": {
      "text/plain": [
       "-5.543616965752608"
      ]
     },
     "execution_count": 262,
     "metadata": {},
     "output_type": "execute_result"
    }
   ],
   "source": [
    "xgb_tune.best_score_"
   ]
  },
  {
   "cell_type": "markdown",
   "metadata": {},
   "source": [
    "### Evaluation"
   ]
  },
  {
   "cell_type": "code",
   "execution_count": 263,
   "metadata": {},
   "outputs": [],
   "source": [
    "#Evaluate on train set\n",
    "xgb_train_pred = pd.DataFrame(xgb.predict(X_train))\n",
    "xgb_train_pred.index = y_train.index\n",
    "xgb_train_eval = pd.concat([y_train, rf_train_pred], axis = 1)\n",
    "xgb_train_eval.columns = ['actual', 'predicted']"
   ]
  },
  {
   "cell_type": "code",
   "execution_count": 264,
   "metadata": {},
   "outputs": [
    {
     "data": {
      "text/plain": [
       "<matplotlib.legend.Legend at 0x7fed01b78940>"
      ]
     },
     "execution_count": 264,
     "metadata": {},
     "output_type": "execute_result"
    },
    {
     "data": {
      "image/png": "[encoded data removed]",
      "text/plain": [
       "<Figure size 432x288 with 1 Axes>"
      ]
     },
     "metadata": {
      "needs_background": "light"
     },
     "output_type": "display_data"
    }
   ],
   "source": [
    "#Visualize\n",
    "plt.plot(xgb_train_eval['actual'], label = 'actual')\n",
    "plt.plot(xgb_train_eval['predicted'], label = 'predicted')\n",
    "plt.xticks(rotation = 90)\n",
    "plt.legend()"
   ]
  },
  {
   "cell_type": "code",
   "execution_count": 265,
   "metadata": {},
   "outputs": [],
   "source": [
    "#Evaluate on test set\n",
    "xgb_test_pred = pd.DataFrame(xgb.predict(X_test))\n",
    "xgb_test_pred.index = y_test.index\n",
    "xgb_test_eval = pd.concat([y_test, rf_test_pred], axis = 1)\n",
    "xgb_test_eval.columns = ['actual', 'predicted']"
   ]
  },
  {
   "cell_type": "code",
   "execution_count": 266,
   "metadata": {},
   "outputs": [
    {
     "data": {
      "text/plain": [
       "<matplotlib.legend.Legend at 0x7fecfb075790>"
      ]
     },
     "execution_count": 266,
     "metadata": {},
     "output_type": "execute_result"
    },
    {
     "data": {
      "image/png": "[encoded data removed]",
      "text/plain": [
       "<Figure size 432x288 with 1 Axes>"
      ]
     },
     "metadata": {
      "needs_background": "light"
     },
     "output_type": "display_data"
    }
   ],
   "source": [
    "#Visualize\n",
    "plt.plot(xgb_test_eval['actual'], label = 'actual')\n",
    "plt.plot(xgb_test_eval['predicted'], label = 'predicted')\n",
    "plt.xticks(rotation = 90)\n",
    "plt.legend()"
   ]
  },
  {
   "cell_type": "markdown",
   "metadata": {},
   "source": [
    "## Autoencoders"
   ]
  },
  {
   "cell_type": "code",
   "execution_count": 275,
   "metadata": {},
   "outputs": [],
   "source": [
    "from sklearn.preprocessing import MinMaxScaler\n",
    "from tensorflow.keras.layers import LeakyReLU\n",
    "from tensorflow.keras.models import Model\n",
    "from tensorflow.keras.layers import Input\n",
    "from tensorflow.keras.layers import Dense\n",
    "from tensorflow.keras.layers import BatchNormalization\n",
    "from tensorflow.keras.models import load_model"
   ]
  },
  {
   "cell_type": "code",
   "execution_count": 276,
   "metadata": {},
   "outputs": [],
   "source": [
    "# scale data\n",
    "t = MinMaxScaler()\n",
    "t.fit(X_train)\n",
    "X_train = t.transform(X_train)\n",
    "X_test = t.transform(X_test)"
   ]
  },
  {
   "cell_type": "code",
   "execution_count": 277,
   "metadata": {},
   "outputs": [],
   "source": [
    "# AutoEncoder Model Preparation\n",
    "n_inputs = X.shape[1]\n",
    "# define encoder\n",
    "input_data_shape= Input(shape=(n_inputs,))\n",
    "# encoder level 1\n",
    "encoder= Dense(n_inputs*2)(input_data_shape)\n",
    "encoder = BatchNormalization()(encoder)\n",
    "encoder= LeakyReLU()(encoder)\n",
    "# encoder level 2\n",
    "encoder= Dense(n_inputs)(encoder)\n",
    "encoder= BatchNormalization()(encoder)\n",
    "encoder= LeakyReLU()(encoder)\n",
    "# bottleneck\n",
    "n_bottleneck = round(float(n_inputs) / 2.0)\n",
    "bottleneck = Dense(n_bottleneck)(encoder)\n",
    "# define decoder, level 1\n",
    "decoder = Dense(n_inputs)(bottleneck)\n",
    "decoder = BatchNormalization()(decoder)\n",
    "decoder = LeakyReLU()(decoder)\n",
    "# decoder level 2\n",
    "decoder = Dense(n_inputs*2)(decoder)\n",
    "decoder = BatchNormalization()(decoder)\n",
    "decoder = LeakyReLU()(decoder)"
   ]
  },
  {
   "cell_type": "code",
   "execution_count": 292,
   "metadata": {},
   "outputs": [],
   "source": [
    "# output layer\n",
    "output = Dense(n_inputs, activation='linear')(decoder)\n",
    "# define autoencoder model\n",
    "model = Model(inputs=input_data_shape, outputs=output)\n",
    "# compile autoencoder model\n",
    "model.compile(optimizer='adam', loss='mse')"
   ]
  },
  {
   "cell_type": "code",
   "execution_count": 293,
   "metadata": {},
   "outputs": [
    {
     "name": "stdout",
     "output_type": "stream",
     "text": [
      "Model: \"model_2\"\n",
      "_________________________________________________________________\n",
      "Layer (type)                 Output Shape              Param #   \n",
      "=================================================================\n",
      "input_1 (InputLayer)         [(None, 6)]               0         \n",
      "_________________________________________________________________\n",
      "dense (Dense)                (None, 12)                84        \n",
      "_________________________________________________________________\n",
      "batch_normalization (BatchNo (None, 12)                48        \n",
      "_________________________________________________________________\n",
      "leaky_re_lu (LeakyReLU)      (None, 12)                0         \n",
      "_________________________________________________________________\n",
      "dense_1 (Dense)              (None, 6)                 78        \n",
      "_________________________________________________________________\n",
      "batch_normalization_1 (Batch (None, 6)                 24        \n",
      "_________________________________________________________________\n",
      "leaky_re_lu_1 (LeakyReLU)    (None, 6)                 0         \n",
      "_________________________________________________________________\n",
      "dense_2 (Dense)              (None, 3)                 21        \n",
      "_________________________________________________________________\n",
      "dense_3 (Dense)              (None, 6)                 24        \n",
      "_________________________________________________________________\n",
      "batch_normalization_2 (Batch (None, 6)                 24        \n",
      "_________________________________________________________________\n",
      "leaky_re_lu_2 (LeakyReLU)    (None, 6)                 0         \n",
      "_________________________________________________________________\n",
      "dense_4 (Dense)              (None, 12)                84        \n",
      "_________________________________________________________________\n",
      "batch_normalization_3 (Batch (None, 12)                48        \n",
      "_________________________________________________________________\n",
      "leaky_re_lu_3 (LeakyReLU)    (None, 12)                0         \n",
      "_________________________________________________________________\n",
      "dense_6 (Dense)              (None, 6)                 78        \n",
      "=================================================================\n",
      "Total params: 513\n",
      "Trainable params: 441\n",
      "Non-trainable params: 72\n",
      "_________________________________________________________________\n"
     ]
    }
   ],
   "source": [
    "model.summary()"
   ]
  },
  {
   "cell_type": "code",
   "execution_count": 294,
   "metadata": {},
   "outputs": [
    {
     "name": "stdout",
     "output_type": "stream",
     "text": [
      "Epoch 1/100\n",
      "53/53 - 1s - loss: 1368.3517 - val_loss: 547.7084\n",
      "Epoch 2/100\n",
      "53/53 - 0s - loss: 1258.0620 - val_loss: 475.5917\n",
      "Epoch 3/100\n",
      "53/53 - 0s - loss: 1151.3037 - val_loss: 425.0445\n",
      "Epoch 4/100\n",
      "53/53 - 0s - loss: 1045.2251 - val_loss: 347.2524\n",
      "Epoch 5/100\n",
      "53/53 - 0s - loss: 939.1161 - val_loss: 225.7941\n",
      "Epoch 6/100\n",
      "53/53 - 0s - loss: 834.8844 - val_loss: 169.5842\n",
      "Epoch 7/100\n",
      "53/53 - 0s - loss: 732.9191 - val_loss: 122.6380\n",
      "Epoch 8/100\n",
      "53/53 - 0s - loss: 638.0292 - val_loss: 135.0921\n",
      "Epoch 9/100\n",
      "53/53 - 0s - loss: 547.5076 - val_loss: 89.3457\n",
      "Epoch 10/100\n",
      "53/53 - 0s - loss: 464.3730 - val_loss: 47.9586\n",
      "Epoch 11/100\n",
      "53/53 - 0s - loss: 388.2555 - val_loss: 70.4685\n",
      "Epoch 12/100\n",
      "53/53 - 0s - loss: 320.8882 - val_loss: 30.9772\n",
      "Epoch 13/100\n",
      "53/53 - 0s - loss: 261.6004 - val_loss: 34.7130\n",
      "Epoch 14/100\n",
      "53/53 - 0s - loss: 210.3036 - val_loss: 37.3108\n",
      "Epoch 15/100\n",
      "53/53 - 0s - loss: 166.8575 - val_loss: 31.3988\n",
      "Epoch 16/100\n",
      "53/53 - 0s - loss: 132.3686 - val_loss: 36.6057\n",
      "Epoch 17/100\n",
      "53/53 - 0s - loss: 102.6520 - val_loss: 79.4049\n",
      "Epoch 18/100\n",
      "53/53 - 0s - loss: 80.5259 - val_loss: 95.2989\n",
      "Epoch 19/100\n",
      "53/53 - 0s - loss: 63.1264 - val_loss: 72.1421\n",
      "Epoch 20/100\n",
      "53/53 - 0s - loss: 48.6541 - val_loss: 143.8634\n",
      "Epoch 21/100\n",
      "53/53 - 0s - loss: 39.8960 - val_loss: 112.5011\n",
      "Epoch 22/100\n",
      "53/53 - 0s - loss: 32.7983 - val_loss: 133.5238\n",
      "Epoch 23/100\n",
      "53/53 - 0s - loss: 28.1818 - val_loss: 165.5491\n",
      "Epoch 24/100\n",
      "53/53 - 0s - loss: 23.5451 - val_loss: 182.2202\n",
      "Epoch 25/100\n",
      "53/53 - 0s - loss: 22.0968 - val_loss: 136.0187\n",
      "Epoch 26/100\n",
      "53/53 - 0s - loss: 18.9633 - val_loss: 165.5316\n",
      "Epoch 27/100\n",
      "53/53 - 0s - loss: 18.7208 - val_loss: 207.7230\n",
      "Epoch 28/100\n",
      "53/53 - 0s - loss: 17.0282 - val_loss: 231.3228\n",
      "Epoch 29/100\n",
      "53/53 - 0s - loss: 17.4110 - val_loss: 223.0101\n",
      "Epoch 30/100\n",
      "53/53 - 0s - loss: 15.6482 - val_loss: 189.8160\n",
      "Epoch 31/100\n",
      "53/53 - 0s - loss: 14.8885 - val_loss: 154.7653\n",
      "Epoch 32/100\n",
      "53/53 - 0s - loss: 15.8335 - val_loss: 182.7405\n",
      "Epoch 33/100\n",
      "53/53 - 0s - loss: 15.6106 - val_loss: 207.7936\n",
      "Epoch 34/100\n",
      "53/53 - 0s - loss: 15.3953 - val_loss: 183.2345\n",
      "Epoch 35/100\n",
      "53/53 - 0s - loss: 14.5867 - val_loss: 230.0836\n",
      "Epoch 36/100\n",
      "53/53 - 0s - loss: 15.1583 - val_loss: 178.0402\n",
      "Epoch 37/100\n",
      "53/53 - 0s - loss: 14.8928 - val_loss: 217.3646\n",
      "Epoch 38/100\n",
      "53/53 - 0s - loss: 14.9422 - val_loss: 184.6646\n",
      "Epoch 39/100\n",
      "53/53 - 0s - loss: 14.6453 - val_loss: 201.7879\n",
      "Epoch 40/100\n",
      "53/53 - 0s - loss: 15.8965 - val_loss: 175.6917\n",
      "Epoch 41/100\n",
      "53/53 - 0s - loss: 15.5905 - val_loss: 214.7329\n",
      "Epoch 42/100\n",
      "53/53 - 0s - loss: 14.0370 - val_loss: 211.5236\n",
      "Epoch 43/100\n",
      "53/53 - 0s - loss: 14.6006 - val_loss: 242.7626\n",
      "Epoch 44/100\n",
      "53/53 - 0s - loss: 14.2904 - val_loss: 249.1572\n",
      "Epoch 45/100\n",
      "53/53 - 0s - loss: 14.6335 - val_loss: 240.4057\n",
      "Epoch 46/100\n",
      "53/53 - 0s - loss: 15.1206 - val_loss: 187.9398\n",
      "Epoch 47/100\n",
      "53/53 - 0s - loss: 15.1160 - val_loss: 220.8055\n",
      "Epoch 48/100\n",
      "53/53 - 0s - loss: 14.9011 - val_loss: 168.3766\n",
      "Epoch 49/100\n",
      "53/53 - 0s - loss: 14.6279 - val_loss: 228.7085\n",
      "Epoch 50/100\n",
      "53/53 - 0s - loss: 14.2764 - val_loss: 252.5966\n",
      "Epoch 51/100\n",
      "53/53 - 0s - loss: 13.3015 - val_loss: 231.1142\n",
      "Epoch 52/100\n",
      "53/53 - 0s - loss: 13.6355 - val_loss: 254.8897\n",
      "Epoch 53/100\n",
      "53/53 - 0s - loss: 14.0405 - val_loss: 243.3540\n",
      "Epoch 54/100\n",
      "53/53 - 0s - loss: 13.2945 - val_loss: 191.5194\n",
      "Epoch 55/100\n",
      "53/53 - 0s - loss: 15.2576 - val_loss: 158.6057\n",
      "Epoch 56/100\n",
      "53/53 - 0s - loss: 14.1853 - val_loss: 154.0945\n",
      "Epoch 57/100\n",
      "53/53 - 0s - loss: 14.0462 - val_loss: 218.7507\n",
      "Epoch 58/100\n",
      "53/53 - 0s - loss: 13.5282 - val_loss: 252.2812\n",
      "Epoch 59/100\n",
      "53/53 - 0s - loss: 13.0242 - val_loss: 242.5347\n",
      "Epoch 60/100\n",
      "53/53 - 0s - loss: 14.3240 - val_loss: 238.4799\n",
      "Epoch 61/100\n",
      "53/53 - 0s - loss: 13.6690 - val_loss: 229.2653\n",
      "Epoch 62/100\n",
      "53/53 - 0s - loss: 14.3530 - val_loss: 200.2335\n",
      "Epoch 63/100\n",
      "53/53 - 0s - loss: 14.1633 - val_loss: 161.7359\n",
      "Epoch 64/100\n",
      "53/53 - 0s - loss: 14.1839 - val_loss: 176.8917\n",
      "Epoch 65/100\n",
      "53/53 - 0s - loss: 14.3520 - val_loss: 151.2995\n",
      "Epoch 66/100\n",
      "53/53 - 0s - loss: 14.2991 - val_loss: 171.3200\n",
      "Epoch 67/100\n",
      "53/53 - 0s - loss: 14.0284 - val_loss: 133.5576\n",
      "Epoch 68/100\n",
      "53/53 - 0s - loss: 12.9778 - val_loss: 215.1843\n",
      "Epoch 69/100\n",
      "53/53 - 0s - loss: 13.8730 - val_loss: 221.4444\n",
      "Epoch 70/100\n",
      "53/53 - 0s - loss: 12.3708 - val_loss: 267.8654\n",
      "Epoch 71/100\n",
      "53/53 - 0s - loss: 13.6623 - val_loss: 207.5086\n",
      "Epoch 72/100\n",
      "53/53 - 0s - loss: 13.4172 - val_loss: 255.7543\n",
      "Epoch 73/100\n",
      "53/53 - 0s - loss: 12.5982 - val_loss: 258.7549\n",
      "Epoch 74/100\n",
      "53/53 - 0s - loss: 13.3966 - val_loss: 191.0177\n",
      "Epoch 75/100\n",
      "53/53 - 0s - loss: 13.7503 - val_loss: 181.7483\n",
      "Epoch 76/100\n",
      "53/53 - 0s - loss: 13.9806 - val_loss: 173.8612\n",
      "Epoch 77/100\n",
      "53/53 - 0s - loss: 13.6139 - val_loss: 246.2585\n",
      "Epoch 78/100\n",
      "53/53 - 0s - loss: 14.2828 - val_loss: 260.3461\n",
      "Epoch 79/100\n",
      "53/53 - 0s - loss: 13.8631 - val_loss: 228.2783\n",
      "Epoch 80/100\n",
      "53/53 - 0s - loss: 12.9688 - val_loss: 249.5518\n",
      "Epoch 81/100\n",
      "53/53 - 0s - loss: 13.0711 - val_loss: 272.6259\n",
      "Epoch 82/100\n",
      "53/53 - 0s - loss: 12.8851 - val_loss: 239.7668\n",
      "Epoch 83/100\n",
      "53/53 - 0s - loss: 13.9719 - val_loss: 181.5157\n",
      "Epoch 84/100\n",
      "53/53 - 0s - loss: 12.9584 - val_loss: 180.0055\n",
      "Epoch 85/100\n",
      "53/53 - 0s - loss: 13.0699 - val_loss: 162.3870\n",
      "Epoch 86/100\n",
      "53/53 - 0s - loss: 13.5394 - val_loss: 152.3884\n",
      "Epoch 87/100\n",
      "53/53 - 0s - loss: 13.8682 - val_loss: 172.4565\n",
      "Epoch 88/100\n",
      "53/53 - 0s - loss: 12.1924 - val_loss: 222.1362\n",
      "Epoch 89/100\n",
      "53/53 - 0s - loss: 13.0208 - val_loss: 145.8338\n",
      "Epoch 90/100\n",
      "53/53 - 0s - loss: 13.1365 - val_loss: 200.9099\n",
      "Epoch 91/100\n",
      "53/53 - 0s - loss: 14.5865 - val_loss: 240.8955\n",
      "Epoch 92/100\n",
      "53/53 - 0s - loss: 12.9391 - val_loss: 235.9413\n",
      "Epoch 93/100\n",
      "53/53 - 0s - loss: 13.2790 - val_loss: 207.1893\n",
      "Epoch 94/100\n",
      "53/53 - 0s - loss: 13.6940 - val_loss: 225.8966\n",
      "Epoch 95/100\n",
      "53/53 - 0s - loss: 13.4455 - val_loss: 222.6229\n",
      "Epoch 96/100\n",
      "53/53 - 0s - loss: 12.4739 - val_loss: 229.4507\n",
      "Epoch 97/100\n",
      "53/53 - 0s - loss: 12.5216 - val_loss: 257.0461\n",
      "Epoch 98/100\n",
      "53/53 - 0s - loss: 12.4758 - val_loss: 247.2154\n",
      "Epoch 99/100\n",
      "53/53 - 0s - loss: 13.0263 - val_loss: 288.2408\n",
      "Epoch 100/100\n",
      "53/53 - 0s - loss: 12.9771 - val_loss: 271.7856\n"
     ]
    }
   ],
   "source": [
    "history = model.fit(X_train, y_train, epochs=100, verbose=2, validation_data=(X_test,y_test))"
   ]
  },
  {
   "cell_type": "code",
   "execution_count": 296,
   "metadata": {},
   "outputs": [
    {
     "name": "stdout",
     "output_type": "stream",
     "text": [
      "WARNING:tensorflow:Compiled the loaded model, but the compiled metrics have yet to be built. `model.compile_metrics` will be empty until you train or evaluate the model.\n"
     ]
    }
   ],
   "source": [
    "# define an encoder model (without the decoder)\n",
    "encoder = Model(inputs=input_data_shape, outputs=bottleneck)\n",
    "# save the encoder to file\n",
    "encoder.save('encoder.h5')"
   ]
  },
  {
   "cell_type": "code",
   "execution_count": 297,
   "metadata": {},
   "outputs": [
    {
     "name": "stdout",
     "output_type": "stream",
     "text": [
      "WARNING:tensorflow:No training configuration found in the save file, so the model was *not* compiled. Compile it manually.\n"
     ]
    },
    {
     "data": {
      "text/plain": [
       "RandomForestRegressor()"
      ]
     },
     "execution_count": 297,
     "metadata": {},
     "output_type": "execute_result"
    }
   ],
   "source": [
    "#Compressing the input data using Encoder Model and fitting it on the Logistic Regression model.\n",
    "# load the model from file\n",
    "encoder = load_model('encoder.h5')\n",
    "\n",
    "# encode the train data\n",
    "X_train_encode = encoder.predict(X_train)\n",
    "# encode the test data\n",
    "X_test_encode = encoder.predict(X_test)\n",
    "# define the model\n",
    "auto_rf = RandomForestRegressor()\n",
    "# fit the model on the training set\n",
    "auto_rf.fit(X_train_encode, y_train)"
   ]
  },
  {
   "cell_type": "code",
   "execution_count": 298,
   "metadata": {},
   "outputs": [],
   "source": [
    "#Evaluate on test set\n",
    "auto_test_pred = pd.DataFrame(auto_rf.predict(X_test_encode))\n",
    "auto_test_pred.index = y_test.index\n",
    "auto_test_eval = pd.concat([y_test, auto_test_pred], axis = 1)\n",
    "auto_test_eval.columns = ['actual', 'predicted']"
   ]
  },
  {
   "cell_type": "code",
   "execution_count": 300,
   "metadata": {},
   "outputs": [
    {
     "data": {
      "text/plain": [
       "<matplotlib.legend.Legend at 0x7fed096c1be0>"
      ]
     },
     "execution_count": 300,
     "metadata": {},
     "output_type": "execute_result"
    },
    {
     "data": {
      "image/png": "[encoded data removed]",
      "text/plain": [
       "<Figure size 432x288 with 1 Axes>"
      ]
     },
     "metadata": {
      "needs_background": "light"
     },
     "output_type": "display_data"
    }
   ],
   "source": [
    "#Visualize\n",
    "plt.plot(auto_test_eval['actual'], label = 'actual')\n",
    "plt.plot(auto_test_eval['predicted'], label = 'predicted')\n",
    "plt.xticks(rotation = 90)\n",
    "plt.legend()"
   ]
  },
  {
   "cell_type": "markdown",
   "metadata": {},
   "source": [
    "## Prophet"
   ]
  },
  {
   "cell_type": "code",
   "execution_count": 312,
   "metadata": {},
   "outputs": [],
   "source": [
    "from prophet import Prophet"
   ]
  },
  {
   "cell_type": "code",
   "execution_count": 394,
   "metadata": {},
   "outputs": [],
   "source": [
    "pr_df = stock1[['Price']]\n",
    "pr_train = pr_df.iloc[:train_size,:]\n",
    "pr_test = pr_df.iloc[train_size:,:]"
   ]
  },
  {
   "cell_type": "code",
   "execution_count": 395,
   "metadata": {},
   "outputs": [],
   "source": [
    "pr_train.reset_index(inplace = True)\n",
    "pr_train.rename(columns = {'date': 'ds', 'Price': 'y'}, inplace = True)"
   ]
  },
  {
   "cell_type": "code",
   "execution_count": 396,
   "metadata": {},
   "outputs": [],
   "source": [
    "pr_test.reset_index(inplace = True)\n",
    "pr_test.rename(columns = {'date': 'ds', 'Price': 'y'}, inplace = True)"
   ]
  },
  {
   "cell_type": "code",
   "execution_count": 397,
   "metadata": {},
   "outputs": [
    {
     "data": {
      "text/html": [
       "<div>\n",
       "<style scoped>\n",
       "    .dataframe tbody tr th:only-of-type {\n",
       "        vertical-align: middle;\n",
       "    }\n",
       "\n",
       "    .dataframe tbody tr th {\n",
       "        vertical-align: top;\n",
       "    }\n",
       "\n",
       "    .dataframe thead th {\n",
       "        text-align: right;\n",
       "    }\n",
       "</style>\n",
       "<table border=\"1\" class=\"dataframe\">\n",
       "  <thead>\n",
       "    <tr style=\"text-align: right;\">\n",
       "      <th></th>\n",
       "      <th>ds</th>\n",
       "      <th>y</th>\n",
       "    </tr>\n",
       "  </thead>\n",
       "  <tbody>\n",
       "    <tr>\n",
       "      <th>0</th>\n",
       "      <td>1997-06-13</td>\n",
       "      <td>41.63</td>\n",
       "    </tr>\n",
       "    <tr>\n",
       "      <th>1</th>\n",
       "      <td>1997-06-16</td>\n",
       "      <td>42.50</td>\n",
       "    </tr>\n",
       "    <tr>\n",
       "      <th>2</th>\n",
       "      <td>1997-06-17</td>\n",
       "      <td>42.50</td>\n",
       "    </tr>\n",
       "    <tr>\n",
       "      <th>3</th>\n",
       "      <td>1997-06-18</td>\n",
       "      <td>42.25</td>\n",
       "    </tr>\n",
       "    <tr>\n",
       "      <th>4</th>\n",
       "      <td>1997-06-19</td>\n",
       "      <td>41.75</td>\n",
       "    </tr>\n",
       "    <tr>\n",
       "      <th>...</th>\n",
       "      <td>...</td>\n",
       "      <td>...</td>\n",
       "    </tr>\n",
       "    <tr>\n",
       "      <th>416</th>\n",
       "      <td>1999-02-08</td>\n",
       "      <td>51.75</td>\n",
       "    </tr>\n",
       "    <tr>\n",
       "      <th>417</th>\n",
       "      <td>1999-02-09</td>\n",
       "      <td>51.06</td>\n",
       "    </tr>\n",
       "    <tr>\n",
       "      <th>418</th>\n",
       "      <td>1999-02-10</td>\n",
       "      <td>52.00</td>\n",
       "    </tr>\n",
       "    <tr>\n",
       "      <th>419</th>\n",
       "      <td>1999-02-11</td>\n",
       "      <td>52.81</td>\n",
       "    </tr>\n",
       "    <tr>\n",
       "      <th>420</th>\n",
       "      <td>1999-02-12</td>\n",
       "      <td>52.31</td>\n",
       "    </tr>\n",
       "  </tbody>\n",
       "</table>\n",
       "<p>421 rows × 2 columns</p>\n",
       "</div>"
      ],
      "text/plain": [
       "            ds      y\n",
       "0   1997-06-13  41.63\n",
       "1   1997-06-16  42.50\n",
       "2   1997-06-17  42.50\n",
       "3   1997-06-18  42.25\n",
       "4   1997-06-19  41.75\n",
       "..         ...    ...\n",
       "416 1999-02-08  51.75\n",
       "417 1999-02-09  51.06\n",
       "418 1999-02-10  52.00\n",
       "419 1999-02-11  52.81\n",
       "420 1999-02-12  52.31\n",
       "\n",
       "[421 rows x 2 columns]"
      ]
     },
     "execution_count": 397,
     "metadata": {},
     "output_type": "execute_result"
    }
   ],
   "source": [
    "pr_test"
   ]
  },
  {
   "cell_type": "code",
   "execution_count": 495,
   "metadata": {},
   "outputs": [],
   "source": [
    "pr = Prophet()"
   ]
  },
  {
   "cell_type": "code",
   "execution_count": 496,
   "metadata": {},
   "outputs": [
    {
     "name": "stderr",
     "output_type": "stream",
     "text": [
      "INFO:prophet:Disabling daily seasonality. Run prophet with daily_seasonality=True to override this.\n"
     ]
    },
    {
     "data": {
      "text/plain": [
       "<prophet.forecaster.Prophet at 0x7fed1117a760>"
      ]
     },
     "execution_count": 496,
     "metadata": {},
     "output_type": "execute_result"
    }
   ],
   "source": [
    "pr.fit(pr_train)"
   ]
  },
  {
   "cell_type": "code",
   "execution_count": 497,
   "metadata": {},
   "outputs": [],
   "source": [
    "pr_test_pred = pr.make_future_dataframe(periods=421)"
   ]
  },
  {
   "cell_type": "code",
   "execution_count": 498,
   "metadata": {},
   "outputs": [
    {
     "data": {
      "text/html": [
       "<div>\n",
       "<style scoped>\n",
       "    .dataframe tbody tr th:only-of-type {\n",
       "        vertical-align: middle;\n",
       "    }\n",
       "\n",
       "    .dataframe tbody tr th {\n",
       "        vertical-align: top;\n",
       "    }\n",
       "\n",
       "    .dataframe thead th {\n",
       "        text-align: right;\n",
       "    }\n",
       "</style>\n",
       "<table border=\"1\" class=\"dataframe\">\n",
       "  <thead>\n",
       "    <tr style=\"text-align: right;\">\n",
       "      <th></th>\n",
       "      <th>ds</th>\n",
       "    </tr>\n",
       "  </thead>\n",
       "  <tbody>\n",
       "    <tr>\n",
       "      <th>0</th>\n",
       "      <td>1990-10-16</td>\n",
       "    </tr>\n",
       "    <tr>\n",
       "      <th>1</th>\n",
       "      <td>1990-10-17</td>\n",
       "    </tr>\n",
       "    <tr>\n",
       "      <th>2</th>\n",
       "      <td>1990-10-18</td>\n",
       "    </tr>\n",
       "    <tr>\n",
       "      <th>3</th>\n",
       "      <td>1990-10-19</td>\n",
       "    </tr>\n",
       "    <tr>\n",
       "      <th>4</th>\n",
       "      <td>1990-10-22</td>\n",
       "    </tr>\n",
       "    <tr>\n",
       "      <th>...</th>\n",
       "      <td>...</td>\n",
       "    </tr>\n",
       "    <tr>\n",
       "      <th>2100</th>\n",
       "      <td>1998-08-03</td>\n",
       "    </tr>\n",
       "    <tr>\n",
       "      <th>2101</th>\n",
       "      <td>1998-08-04</td>\n",
       "    </tr>\n",
       "    <tr>\n",
       "      <th>2102</th>\n",
       "      <td>1998-08-05</td>\n",
       "    </tr>\n",
       "    <tr>\n",
       "      <th>2103</th>\n",
       "      <td>1998-08-06</td>\n",
       "    </tr>\n",
       "    <tr>\n",
       "      <th>2104</th>\n",
       "      <td>1998-08-07</td>\n",
       "    </tr>\n",
       "  </tbody>\n",
       "</table>\n",
       "<p>2105 rows × 1 columns</p>\n",
       "</div>"
      ],
      "text/plain": [
       "             ds\n",
       "0    1990-10-16\n",
       "1    1990-10-17\n",
       "2    1990-10-18\n",
       "3    1990-10-19\n",
       "4    1990-10-22\n",
       "...         ...\n",
       "2100 1998-08-03\n",
       "2101 1998-08-04\n",
       "2102 1998-08-05\n",
       "2103 1998-08-06\n",
       "2104 1998-08-07\n",
       "\n",
       "[2105 rows x 1 columns]"
      ]
     },
     "execution_count": 498,
     "metadata": {},
     "output_type": "execute_result"
    }
   ],
   "source": [
    "pr_test_pred"
   ]
  },
  {
   "cell_type": "code",
   "execution_count": 527,
   "metadata": {},
   "outputs": [
    {
     "data": {
      "text/html": [
       "<div>\n",
       "<style scoped>\n",
       "    .dataframe tbody tr th:only-of-type {\n",
       "        vertical-align: middle;\n",
       "    }\n",
       "\n",
       "    .dataframe tbody tr th {\n",
       "        vertical-align: top;\n",
       "    }\n",
       "\n",
       "    .dataframe thead th {\n",
       "        text-align: right;\n",
       "    }\n",
       "</style>\n",
       "<table border=\"1\" class=\"dataframe\">\n",
       "  <thead>\n",
       "    <tr style=\"text-align: right;\">\n",
       "      <th></th>\n",
       "      <th>ds</th>\n",
       "      <th>yhat</th>\n",
       "      <th>yhat_lower</th>\n",
       "      <th>yhat_upper</th>\n",
       "    </tr>\n",
       "  </thead>\n",
       "  <tbody>\n",
       "    <tr>\n",
       "      <th>2100</th>\n",
       "      <td>1998-08-03</td>\n",
       "      <td>34.014282</td>\n",
       "      <td>30.585045</td>\n",
       "      <td>37.202172</td>\n",
       "    </tr>\n",
       "    <tr>\n",
       "      <th>2101</th>\n",
       "      <td>1998-08-04</td>\n",
       "      <td>33.996566</td>\n",
       "      <td>30.697681</td>\n",
       "      <td>37.581143</td>\n",
       "    </tr>\n",
       "    <tr>\n",
       "      <th>2102</th>\n",
       "      <td>1998-08-05</td>\n",
       "      <td>34.031682</td>\n",
       "      <td>30.814914</td>\n",
       "      <td>37.300604</td>\n",
       "    </tr>\n",
       "    <tr>\n",
       "      <th>2103</th>\n",
       "      <td>1998-08-06</td>\n",
       "      <td>34.097795</td>\n",
       "      <td>30.666189</td>\n",
       "      <td>37.475745</td>\n",
       "    </tr>\n",
       "    <tr>\n",
       "      <th>2104</th>\n",
       "      <td>1998-08-07</td>\n",
       "      <td>34.060244</td>\n",
       "      <td>30.483153</td>\n",
       "      <td>37.399075</td>\n",
       "    </tr>\n",
       "  </tbody>\n",
       "</table>\n",
       "</div>"
      ],
      "text/plain": [
       "             ds       yhat  yhat_lower  yhat_upper\n",
       "2100 1998-08-03  34.014282   30.585045   37.202172\n",
       "2101 1998-08-04  33.996566   30.697681   37.581143\n",
       "2102 1998-08-05  34.031682   30.814914   37.300604\n",
       "2103 1998-08-06  34.097795   30.666189   37.475745\n",
       "2104 1998-08-07  34.060244   30.483153   37.399075"
      ]
     },
     "execution_count": 527,
     "metadata": {},
     "output_type": "execute_result"
    }
   ],
   "source": [
    "test_forecast = pr.predict(pr_test_pred)\n",
    "test_forecast[['ds', 'yhat', 'yhat_lower', 'yhat_upper']].tail()"
   ]
  },
  {
   "cell_type": "code",
   "execution_count": 511,
   "metadata": {},
   "outputs": [],
   "source": [
    "pr_test_eval = test_forecast.merge(pr_test, how = 'left', on = 'ds')[['ds', 'yhat', 'y', 'yhat_lower', 'yhat_upper']]"
   ]
  },
  {
   "cell_type": "code",
   "execution_count": 517,
   "metadata": {},
   "outputs": [
    {
     "data": {
      "text/html": [
       "<div>\n",
       "<style scoped>\n",
       "    .dataframe tbody tr th:only-of-type {\n",
       "        vertical-align: middle;\n",
       "    }\n",
       "\n",
       "    .dataframe tbody tr th {\n",
       "        vertical-align: top;\n",
       "    }\n",
       "\n",
       "    .dataframe thead th {\n",
       "        text-align: right;\n",
       "    }\n",
       "</style>\n",
       "<table border=\"1\" class=\"dataframe\">\n",
       "  <thead>\n",
       "    <tr style=\"text-align: right;\">\n",
       "      <th></th>\n",
       "      <th>yhat</th>\n",
       "      <th>y</th>\n",
       "      <th>yhat_lower</th>\n",
       "      <th>yhat_upper</th>\n",
       "    </tr>\n",
       "    <tr>\n",
       "      <th>ds</th>\n",
       "      <th></th>\n",
       "      <th></th>\n",
       "      <th></th>\n",
       "      <th></th>\n",
       "    </tr>\n",
       "  </thead>\n",
       "  <tbody>\n",
       "    <tr>\n",
       "      <th>1990-10-16</th>\n",
       "      <td>21.682879</td>\n",
       "      <td>NaN</td>\n",
       "      <td>19.768236</td>\n",
       "      <td>23.532336</td>\n",
       "    </tr>\n",
       "    <tr>\n",
       "      <th>1990-10-17</th>\n",
       "      <td>21.720089</td>\n",
       "      <td>NaN</td>\n",
       "      <td>19.578082</td>\n",
       "      <td>23.770649</td>\n",
       "    </tr>\n",
       "    <tr>\n",
       "      <th>1990-10-18</th>\n",
       "      <td>21.791736</td>\n",
       "      <td>NaN</td>\n",
       "      <td>19.721187</td>\n",
       "      <td>23.921266</td>\n",
       "    </tr>\n",
       "    <tr>\n",
       "      <th>1990-10-19</th>\n",
       "      <td>21.762856</td>\n",
       "      <td>NaN</td>\n",
       "      <td>19.672586</td>\n",
       "      <td>23.726394</td>\n",
       "    </tr>\n",
       "    <tr>\n",
       "      <th>1990-10-22</th>\n",
       "      <td>21.807054</td>\n",
       "      <td>NaN</td>\n",
       "      <td>19.843138</td>\n",
       "      <td>23.735803</td>\n",
       "    </tr>\n",
       "    <tr>\n",
       "      <th>...</th>\n",
       "      <td>...</td>\n",
       "      <td>...</td>\n",
       "      <td>...</td>\n",
       "      <td>...</td>\n",
       "    </tr>\n",
       "    <tr>\n",
       "      <th>1998-08-03</th>\n",
       "      <td>34.014282</td>\n",
       "      <td>28.63</td>\n",
       "      <td>30.839850</td>\n",
       "      <td>37.418631</td>\n",
       "    </tr>\n",
       "    <tr>\n",
       "      <th>1998-08-04</th>\n",
       "      <td>33.996566</td>\n",
       "      <td>42.56</td>\n",
       "      <td>30.812145</td>\n",
       "      <td>37.516916</td>\n",
       "    </tr>\n",
       "    <tr>\n",
       "      <th>1998-08-05</th>\n",
       "      <td>34.031682</td>\n",
       "      <td>38.06</td>\n",
       "      <td>30.651558</td>\n",
       "      <td>37.318261</td>\n",
       "    </tr>\n",
       "    <tr>\n",
       "      <th>1998-08-06</th>\n",
       "      <td>34.097795</td>\n",
       "      <td>38.63</td>\n",
       "      <td>30.891546</td>\n",
       "      <td>37.739352</td>\n",
       "    </tr>\n",
       "    <tr>\n",
       "      <th>1998-08-07</th>\n",
       "      <td>34.060244</td>\n",
       "      <td>39.81</td>\n",
       "      <td>30.804989</td>\n",
       "      <td>37.598225</td>\n",
       "    </tr>\n",
       "  </tbody>\n",
       "</table>\n",
       "<p>2105 rows × 4 columns</p>\n",
       "</div>"
      ],
      "text/plain": [
       "                 yhat      y  yhat_lower  yhat_upper\n",
       "ds                                                  \n",
       "1990-10-16  21.682879    NaN   19.768236   23.532336\n",
       "1990-10-17  21.720089    NaN   19.578082   23.770649\n",
       "1990-10-18  21.791736    NaN   19.721187   23.921266\n",
       "1990-10-19  21.762856    NaN   19.672586   23.726394\n",
       "1990-10-22  21.807054    NaN   19.843138   23.735803\n",
       "...               ...    ...         ...         ...\n",
       "1998-08-03  34.014282  28.63   30.839850   37.418631\n",
       "1998-08-04  33.996566  42.56   30.812145   37.516916\n",
       "1998-08-05  34.031682  38.06   30.651558   37.318261\n",
       "1998-08-06  34.097795  38.63   30.891546   37.739352\n",
       "1998-08-07  34.060244  39.81   30.804989   37.598225\n",
       "\n",
       "[2105 rows x 4 columns]"
      ]
     },
     "execution_count": 517,
     "metadata": {},
     "output_type": "execute_result"
    }
   ],
   "source": [
    "pr_test_eval.set_index('ds')"
   ]
  },
  {
   "cell_type": "code",
   "execution_count": 525,
   "metadata": {},
   "outputs": [
    {
     "data": {
      "text/plain": [
       "<matplotlib.legend.Legend at 0x7fed10a35a60>"
      ]
     },
     "execution_count": 525,
     "metadata": {},
     "output_type": "execute_result"
    },
    {
     "data": {
      "image/png": "[encoded data removed]",
      "text/plain": [
       "<Figure size 432x288 with 1 Axes>"
      ]
     },
     "metadata": {
      "needs_background": "light"
     },
     "output_type": "display_data"
    }
   ],
   "source": [
    "#Visualize\n",
    "plt.plot(pr_test_eval['y'], label = 'actual test')\n",
    "plt.plot(pr_train['y'], label = 'actual train')\n",
    "plt.plot(pr_test_eval['yhat'], label = 'predicted')\n",
    "plt.legend()"
   ]
  },
  {
   "cell_type": "code",
   "execution_count": 531,
   "metadata": {},
   "outputs": [
    {
     "data": {
      "image/png": "[encoded data removed]",
      "text/plain": [
       "<Figure size 720x432 with 1 Axes>"
      ]
     },
     "metadata": {},
     "output_type": "display_data"
    }
   ],
   "source": [
    "fig1 = pr.plot(forecast)"
   ]
  },
  {
   "cell_type": "code",
   "execution_count": 533,
   "metadata": {},
   "outputs": [
    {
     "data": {
      "text/plain": [
       "0.9294937394116489"
      ]
     },
     "execution_count": 533,
     "metadata": {},
     "output_type": "execute_result"
    }
   ],
   "source": [
    "#Train accuracy\n",
    "sklearn.metrics.r2_score(pr_train['y'], pr_test_eval.iloc[:train_size,:]['yhat'])"
   ]
  },
  {
   "cell_type": "code",
   "execution_count": 529,
   "metadata": {},
   "outputs": [
    {
     "data": {
      "text/plain": [
       "-1.303691952553979"
      ]
     },
     "execution_count": 529,
     "metadata": {},
     "output_type": "execute_result"
    }
   ],
   "source": [
    "#Test accuracy\n",
    "sklearn.metrics.r2_score(pr_test_eval.dropna()['y'], pr_test_eval.dropna()['yhat'])"
   ]
  }
 ],
 "metadata": {
  "kernelspec": {
   "display_name": "Python 3",
   "language": "python",
   "name": "python3"
  },
  "language_info": {
   "codemirror_mode": {
    "name": "ipython",
    "version": 3
   },
   "file_extension": ".py",
   "mimetype": "text/x-python",
   "name": "python",
   "nbconvert_exporter": "python",
   "pygments_lexer": "ipython3",
   "version": "3.8.5"
  }
 },
 "nbformat": 4,
 "nbformat_minor": 4
}
