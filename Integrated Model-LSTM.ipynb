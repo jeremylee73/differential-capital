{
 "cells": [
  {
   "cell_type": "code",
   "execution_count": 36,
   "metadata": {},
   "outputs": [],
   "source": [
    "import pandas as pd\n",
    "import numpy as np\n",
    "import seaborn as sns\n",
    "import sklearn\n",
    "from sklearn.decomposition import PCA\n",
    "from sklearn.preprocessing import StandardScaler\n",
    "import tensorflow as tf\n",
    "from keras.models import Sequential\n",
    "from keras.layers import Dense, LSTM\n",
    "from keras.callbacks import EarlyStopping\n",
    "import warnings\n",
    "import matplotlib.pyplot as plt\n",
    "warnings.filterwarnings(\"ignore\")"
   ]
  },
  {
   "cell_type": "markdown",
   "metadata": {},
   "source": [
    "### Pipeline psuedo code\n",
    "    n = look back window\n",
    "    k = number of PCs to keep\n",
    "\n",
    "    for each time point t:\n",
    "        p = number of stocks in investable universe at time t\n",
    "        Define an n x p feature matrix X (lagged returns)\n",
    "\n",
    "        Perform PCA on X\n",
    "        Keep the first k PCs in an n x k matrix Z\n",
    "\n",
    "    for each stock s in the investable universe at time t:\n",
    "        Define an n x 1 outcome vector y (future returns of stock s)\n",
    "        Perform a linear regression of y on Z\n",
    "        Predict y for stock s at time t+1"
   ]
  },
  {
   "cell_type": "markdown",
   "metadata": {},
   "source": [
    "## Data Preparation"
   ]
  },
  {
   "cell_type": "code",
   "execution_count": 21,
   "metadata": {},
   "outputs": [],
   "source": [
    "returns = pd.read_pickle(\"./Data/returns.pkl\")\n",
    "returns = returns.iloc[1:]"
   ]
  },
  {
   "cell_type": "code",
   "execution_count": 22,
   "metadata": {},
   "outputs": [],
   "source": [
    "drop_columns = []\n",
    "\n",
    "for col in returns.columns:\n",
    "    if returns[col].isnull().all() == True:\n",
    "        drop_columns.append(col)\n",
    "        \n",
    "returns.drop(columns=drop_columns, inplace=True)"
   ]
  },
  {
   "cell_type": "markdown",
   "metadata": {},
   "source": [
    "## Pipeline"
   ]
  },
  {
   "cell_type": "code",
   "execution_count": 23,
   "metadata": {},
   "outputs": [],
   "source": [
    "def get_investable(t, n):\n",
    "    \"\"\"\"Find stocks in investable universe at time t\n",
    "    (stocks in the S&P500 that have prices recorded for the last n days)\"\"\"\n",
    "    \n",
    "    df_investable = returns.copy(deep = True).sort_index(ascending = False)\n",
    "    \n",
    "    #add 1 date to get the test features in investable\n",
    "    t = t + pd.DateOffset(1)\n",
    "    n += 1\n",
    "    \n",
    "    #if t is now a non-trading day, advance until we reach a valid trading day\n",
    "    while t not in df_investable.index:\n",
    "        t = t + pd.DateOffset(1)\n",
    "    \n",
    "    t_index = df_investable.index.get_loc(t)\n",
    "    \n",
    "    #take n_rows worth of data upto time specified\n",
    "    df_investable = df_investable.iloc[t_index + 1:t_index + n + 1]\n",
    "    \n",
    "    #find all stocks that exist in the S&P at this time period\n",
    "    investable_universe = []\n",
    "    for col in df_investable.columns:\n",
    "        if ~df_investable[col].iloc[:n].isna().any():\n",
    "            investable_universe.append(col)\n",
    "        \n",
    "    df_investable = df_investable[investable_universe]\n",
    "    \n",
    "    return df_investable"
   ]
  },
  {
   "cell_type": "code",
   "execution_count": 24,
   "metadata": {},
   "outputs": [],
   "source": [
    "def apply_PCA(inv, k):\n",
    "    pca = PCA(n_components = k) \n",
    "    inv_scaled = StandardScaler().fit_transform(inv)   \n",
    "    principal_components = pca.fit_transform(inv_scaled)\n",
    "\n",
    "    df = pd.DataFrame(data = principal_components)\n",
    "    \n",
    "    #For explained variance table\n",
    "    components = pca.components_\n",
    "    component_explained_var = pca.explained_variance_ratio_ * 100\n",
    "    \n",
    "    comp_names = ['PCA' + str(i) for i in range(1, len(component_explained_var) + 1)]\n",
    "\n",
    "    pca_results = pd.DataFrame(data = component_explained_var, index = comp_names)\n",
    "    pca_results.columns = ['Explained variance (%)']\n",
    "    pca_results['Explained variance (%)'] = pca_results['Explained variance (%)'].round(2)\n",
    "    \n",
    "    return df"
   ]
  },
  {
   "cell_type": "code",
   "execution_count": 25,
   "metadata": {},
   "outputs": [],
   "source": [
    "def define_y(inv, stock, n):\n",
    "    y = inv[[stock]].iloc[:n+1]\n",
    "    \n",
    "    return y"
   ]
  },
  {
   "cell_type": "code",
   "execution_count": 26,
   "metadata": {},
   "outputs": [],
   "source": [
    "def train_test(X, y):\n",
    "    X_train = X.iloc[1:, :]\n",
    "    X_test = X.iloc[0:1, :]\n",
    "    y_train = y.iloc[1:]\n",
    "    y_test = y.iloc[0:1]\n",
    "    \n",
    "    return X_train, y_train, X_test, y_test"
   ]
  },
  {
   "cell_type": "code",
   "execution_count": 57,
   "metadata": {},
   "outputs": [],
   "source": [
    "def reshape(X_train, y_train, X_test, y_test, timesteps):\n",
    "    X_train = X_train.values.reshape(-1, timesteps, X_train.shape[1])\n",
    "    X_test = X_test.values.reshape(-1, 1, X_test.shape[1])\n",
    "    y_train = y_train.values\n",
    "    y_test = y_test.values\n",
    "    \n",
    "    return X_train, y_train, X_test, y_test"
   ]
  },
  {
   "cell_type": "code",
   "execution_count": 64,
   "metadata": {},
   "outputs": [],
   "source": [
    "def model_fit(X_train, y_train):\n",
    "    model = Sequential()\n",
    "    model.add(LSTM(50, input_shape=(X_train.shape[1], X_train.shape[2])))\n",
    "    model.add(Dense(y_train.shape[0]))\n",
    "    \n",
    "    model.compile(loss = 'mse', optimizer = 'adam')\n",
    "    \n",
    "    early_stopping = EarlyStopping(monitor=\"val_loss\", min_delta=1e-5, patience=20)\n",
    "    \n",
    "    history = model.fit(X_train, y_train, epochs=300, batch_size=16,\n",
    "                        verbose = 0, validation_split = 0.2, \n",
    "                       callbacks = [early_stopping])\n",
    "    \n",
    "    return model"
   ]
  },
  {
   "cell_type": "code",
   "execution_count": 65,
   "metadata": {},
   "outputs": [],
   "source": [
    "def model_predict(model, X_test):\n",
    "    yhat = model.predict(X_test, verbose = 0)\n",
    "    \n",
    "    return yhat"
   ]
  },
  {
   "cell_type": "code",
   "execution_count": 66,
   "metadata": {},
   "outputs": [],
   "source": [
    "def predict_returns(t, n, k, timesteps, model, refit = True):\n",
    "    inv = get_investable(t, n)\n",
    "    X = apply_PCA(inv, k)\n",
    "    \n",
    "    returns_t = pd.DataFrame(index = inv.columns, columns = ['Pred', 'Actual'])\n",
    "    \n",
    "    for stock in inv.columns:\n",
    "        y = define_y(inv, stock, n)\n",
    "        X_train, y_train, X_test, y_test = train_test(X, y)\n",
    "        X_train, y_train, X_test, y_test = reshape(X_train, y_train, X_test, y_test, timesteps)\n",
    "        \n",
    "        if refit:\n",
    "            model = model_fit(X_train, y_train)\n",
    "            \n",
    "        yhat = model_predict(model, X_test)[0][0]\n",
    "        returns_t['Pred'].loc[stock] = yhat*100\n",
    "        returns_t['Actual'].loc[stock] = y_test\n",
    "    \n",
    "    return returns_t, model"
   ]
  },
  {
   "cell_type": "code",
   "execution_count": 67,
   "metadata": {},
   "outputs": [],
   "source": [
    "def rank_stocks(returns, num_stocks):\n",
    "    pred_returns = returns.sort_values(by = 'Pred', ascending = False)\n",
    "    topn = pred_returns.head(num_stocks)\n",
    "    botn = pred_returns.tail(num_stocks)\n",
    "    \n",
    "    return topn, botn"
   ]
  },
  {
   "cell_type": "code",
   "execution_count": 68,
   "metadata": {},
   "outputs": [],
   "source": [
    "def portfolio_return(topn, botn, returns):\n",
    "    return_t = topn['Actual'].mean() - botn['Actual'].mean()\n",
    "    \n",
    "    return return_t"
   ]
  },
  {
   "cell_type": "code",
   "execution_count": null,
   "metadata": {},
   "outputs": [],
   "source": [
    "def pipeline(n, k, timesteps, num_stocks):\n",
    "\n",
    "    time_range = returns.loc['2007':'2021'].index\n",
    "    returns_monthly = returns.resample('M').mean()\n",
    "    \n",
    "    for i in range(len(time_range)):\n",
    "        if time_range[i] in returns_monthly.index:\n",
    "            time_range = time_range[i:]\n",
    "            break\n",
    "    \n",
    "    portfolio = pd.DataFrame(index = time_range, columns = ['Portfolio Return'])\n",
    "    current_model = Sequential()\n",
    "    \n",
    "    count = 0\n",
    "    for t in time_range[0:2]:\n",
    "        if t in returns_monthly.index:\n",
    "            pred_actual, current_model = predict_returns(t, n, k, timesteps, current_model, refit = True)\n",
    "        else:\n",
    "            pred_actual, current_model = predict_returns(t, n, k, timesteps, current_model, refit = False)\n",
    "        \n",
    "        topn, botn = rank_stocks(pred_actual, num_stocks)\n",
    "        return_t = portfolio_return(topn, botn, pred_actual)\n",
    "        portfolio['Portfolio Return'].loc[t] = return_t\n",
    "        count +=1\n",
    "        print(f'{(count/len(time_range))*100:.2f}% complete')\n",
    "    \n",
    "    return portfolio"
   ]
  },
  {
   "cell_type": "code",
   "execution_count": null,
   "metadata": {
    "scrolled": true
   },
   "outputs": [],
   "source": [
    "portfolio = pipeline(200, 20, 50, 5)"
   ]
  },
  {
   "cell_type": "code",
   "execution_count": null,
   "metadata": {},
   "outputs": [],
   "source": [
    "#start at 2:15pm\n",
    "print(pd.datetime.now())"
   ]
  }
 ],
 "metadata": {
  "kernelspec": {
   "display_name": "Python 3",
   "language": "python",
   "name": "python3"
  },
  "language_info": {
   "codemirror_mode": {
    "name": "ipython",
    "version": 3
   },
   "file_extension": ".py",
   "mimetype": "text/x-python",
   "name": "python",
   "nbconvert_exporter": "python",
   "pygments_lexer": "ipython3",
   "version": "3.8.5"
  }
 },
 "nbformat": 4,
 "nbformat_minor": 4
}
