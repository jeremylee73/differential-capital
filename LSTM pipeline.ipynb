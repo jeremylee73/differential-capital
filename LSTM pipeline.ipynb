{
 "cells": [
  {
   "cell_type": "code",
   "execution_count": 129,
   "metadata": {},
   "outputs": [],
   "source": [
    "import pandas as pd\n",
    "import numpy as np\n",
    "import seaborn as sns\n",
    "import tensorflow as tf\n",
    "from keras.models import Sequential\n",
    "from keras.layers import Dense, LSTM\n",
    "import warnings\n",
    "warnings.filterwarnings(\"ignore\")"
   ]
  },
  {
   "cell_type": "code",
   "execution_count": 2,
   "metadata": {},
   "outputs": [],
   "source": [
    "returns = pd.read_pickle(\"./Data/returns.pkl\")\n",
    "returns = returns.iloc[1:]"
   ]
  },
  {
   "cell_type": "code",
   "execution_count": 3,
   "metadata": {},
   "outputs": [],
   "source": [
    "# dropping columns with all NaN\n",
    "drop_columns = []\n",
    "\n",
    "for col in returns.columns:\n",
    "    if returns[col].isnull().all() == True:\n",
    "        drop_columns.append(col)\n",
    "        \n",
    "returns.drop(columns=drop_columns, inplace=True)"
   ]
  },
  {
   "cell_type": "code",
   "execution_count": 4,
   "metadata": {},
   "outputs": [],
   "source": [
    "def get_investable(t, n_rows):\n",
    "    \"Find stocks in investable universe at time t\\\n",
    "    (stocks in the S&P500 that have prices recorded for the last n_rows days)\"\n",
    "    \n",
    "    df_investable = returns.copy(deep = True).sort_index(ascending = False)\n",
    "    \n",
    "    t_index = df_investable.index.get_loc(t)\n",
    "    \n",
    "    #take n_rows worth of data upto time specified\n",
    "    df_investable = df_investable.iloc[t_index + 1:t_index + n_rows + 1]\n",
    "    \n",
    "    #find all stocks that exist in the S&P at this time period\n",
    "    investable_universe = []\n",
    "    for col in df_investable.columns:\n",
    "        if ~df_investable[col].iloc[:n_rows].isna().any():\n",
    "            investable_universe.append(col)\n",
    "        \n",
    "    df_investable = df_investable[investable_universe]\n",
    "    \n",
    "    return df_investable"
   ]
  },
  {
   "cell_type": "code",
   "execution_count": 100,
   "metadata": {},
   "outputs": [],
   "source": [
    "def format_investable(df, n_in=1, n_out=1, dropnan = True):\n",
    "    \"Takes investable dataframe and formats it to have all stock returns at time t-1\\\n",
    "    (the features) and all corresponding stock returns at time t (the targets)\"\n",
    "    n_vars = df.shape[1]\n",
    "    \n",
    "    cols = []\n",
    "    input_col_names = df.add_suffix(' (t-1)').columns\n",
    "    forecast_col_names = df.add_suffix(' (t)').columns\n",
    "    names = input_col_names.append(forecast_col_names)\n",
    "    \n",
    "    # input sequence (t-n, ... t-1)\n",
    "    for i in range(n_in, 0, -1):\n",
    "        cols.append(df.shift(i))\n",
    "\n",
    "    # forecast sequence (t, t+1, ... t+n)\n",
    "    for i in range(0, n_out):\n",
    "        cols.append(df.shift(-i))\n",
    "        \n",
    "    # put it all together\n",
    "    agg = pd.concat(cols, axis=1)\n",
    "    agg.columns = names\n",
    "    \n",
    "    # drop the first row (it contains NaNs)\n",
    "    agg.dropna(inplace=True)\n",
    "    \n",
    "    return agg"
   ]
  },
  {
   "cell_type": "code",
   "execution_count": 126,
   "metadata": {},
   "outputs": [],
   "source": [
    "def reshape_investable(df):\n",
    "    \"Takes formatted investable and reshapes inputs it into 3D array [samples, timesteps, features]\"\n",
    "    \n",
    "    # select columns ending with ' (t-1)' for features\n",
    "    # and columns ending with ' (t)' for targets\n",
    "    X_col = [df.columns[i] for i in range(df.shape[1]) if df.columns[i].endswith(' (t-1)')]\n",
    "    y_col = [df.columns[i] for i in range(df.shape[1]) if df.columns[i].endswith(' (t)')]\n",
    "    \n",
    "    X = df[X_col].values\n",
    "    y = df[y_col].values\n",
    "    \n",
    "    reshaped_X = X.reshape(X.shape[0], 1, X.shape[1])\n",
    "    \n",
    "    return reshaped_X, y"
   ]
  },
  {
   "cell_type": "code",
   "execution_count": 71,
   "metadata": {},
   "outputs": [],
   "source": [
    "t = pd.to_datetime('2020-05-22')\n",
    "inv = get_investable(t, 360)"
   ]
  },
  {
   "cell_type": "code",
   "execution_count": 102,
   "metadata": {},
   "outputs": [],
   "source": [
    "f_inv = format_investable(inv)"
   ]
  },
  {
   "cell_type": "code",
   "execution_count": 131,
   "metadata": {},
   "outputs": [],
   "source": [
    "reshaped_X, y = reshape_investable(f_inv)"
   ]
  },
  {
   "cell_type": "code",
   "execution_count": 132,
   "metadata": {},
   "outputs": [],
   "source": [
    "model = Sequential()\n",
    "model.add(LSTM(50, input_shape=(reshaped_X.shape[1], reshaped_X.shape[2])))\n",
    "model.add(Dense(y.shape[1]))"
   ]
  },
  {
   "cell_type": "code",
   "execution_count": 133,
   "metadata": {},
   "outputs": [],
   "source": [
    "model.compile(loss = 'mae', optimizer = 'adam')"
   ]
  },
  {
   "cell_type": "code",
   "execution_count": 134,
   "metadata": {},
   "outputs": [
    {
     "name": "stdout",
     "output_type": "stream",
     "text": [
      "Epoch 1/50\n",
      "23/23 [==============================] - 12s 2ms/step - loss: 2.0905\n",
      "Epoch 2/50\n",
      "23/23 [==============================] - 0s 2ms/step - loss: 1.7718\n",
      "Epoch 3/50\n",
      "23/23 [==============================] - 0s 2ms/step - loss: 1.8526\n",
      "Epoch 4/50\n",
      "23/23 [==============================] - 0s 2ms/step - loss: 1.7722\n",
      "Epoch 5/50\n",
      "23/23 [==============================] - 0s 2ms/step - loss: 1.7934\n",
      "Epoch 6/50\n",
      "23/23 [==============================] - 0s 2ms/step - loss: 1.6641\n",
      "Epoch 7/50\n",
      "23/23 [==============================] - 0s 2ms/step - loss: 1.6513\n",
      "Epoch 8/50\n",
      "23/23 [==============================] - 0s 2ms/step - loss: 1.6466\n",
      "Epoch 9/50\n",
      "23/23 [==============================] - 0s 2ms/step - loss: 1.7127\n",
      "Epoch 10/50\n",
      "23/23 [==============================] - 0s 2ms/step - loss: 1.5263\n",
      "Epoch 11/50\n",
      "23/23 [==============================] - 0s 2ms/step - loss: 1.4800\n",
      "Epoch 12/50\n",
      "23/23 [==============================] - 0s 2ms/step - loss: 1.4557\n",
      "Epoch 13/50\n",
      "23/23 [==============================] - 0s 2ms/step - loss: 1.5618\n",
      "Epoch 14/50\n",
      "23/23 [==============================] - 0s 2ms/step - loss: 1.4466\n",
      "Epoch 15/50\n",
      "23/23 [==============================] - 0s 2ms/step - loss: 1.4385\n",
      "Epoch 16/50\n",
      "23/23 [==============================] - 0s 2ms/step - loss: 1.5395\n",
      "Epoch 17/50\n",
      "23/23 [==============================] - 0s 2ms/step - loss: 1.5323\n",
      "Epoch 18/50\n",
      "23/23 [==============================] - 0s 2ms/step - loss: 1.5463\n",
      "Epoch 19/50\n",
      "23/23 [==============================] - 0s 2ms/step - loss: 1.3656\n",
      "Epoch 20/50\n",
      "23/23 [==============================] - 0s 2ms/step - loss: 1.3599\n",
      "Epoch 21/50\n",
      "23/23 [==============================] - 0s 2ms/step - loss: 1.4062\n",
      "Epoch 22/50\n",
      "23/23 [==============================] - 0s 2ms/step - loss: 1.2891\n",
      "Epoch 23/50\n",
      "23/23 [==============================] - 0s 2ms/step - loss: 1.5989\n",
      "Epoch 24/50\n",
      "23/23 [==============================] - 0s 2ms/step - loss: 1.4286\n",
      "Epoch 25/50\n",
      "23/23 [==============================] - 0s 2ms/step - loss: 1.4932\n",
      "Epoch 26/50\n",
      "23/23 [==============================] - 0s 2ms/step - loss: 1.3314\n",
      "Epoch 27/50\n",
      "23/23 [==============================] - 0s 2ms/step - loss: 1.3116\n",
      "Epoch 28/50\n",
      "23/23 [==============================] - 0s 2ms/step - loss: 1.3603\n",
      "Epoch 29/50\n",
      "23/23 [==============================] - 0s 2ms/step - loss: 1.4148\n",
      "Epoch 30/50\n",
      "23/23 [==============================] - 0s 2ms/step - loss: 1.3180\n",
      "Epoch 31/50\n",
      "23/23 [==============================] - 0s 2ms/step - loss: 1.3607\n",
      "Epoch 32/50\n",
      "23/23 [==============================] - 0s 2ms/step - loss: 1.4241\n",
      "Epoch 33/50\n",
      "23/23 [==============================] - 0s 2ms/step - loss: 1.3348\n",
      "Epoch 34/50\n",
      "23/23 [==============================] - 0s 2ms/step - loss: 1.4227\n",
      "Epoch 35/50\n",
      "23/23 [==============================] - 0s 2ms/step - loss: 1.3433\n",
      "Epoch 36/50\n",
      "23/23 [==============================] - 0s 2ms/step - loss: 1.4205\n",
      "Epoch 37/50\n",
      "23/23 [==============================] - 0s 2ms/step - loss: 1.3265\n",
      "Epoch 38/50\n",
      "23/23 [==============================] - 0s 2ms/step - loss: 1.3323\n",
      "Epoch 39/50\n",
      "23/23 [==============================] - 0s 2ms/step - loss: 1.3443\n",
      "Epoch 40/50\n",
      "23/23 [==============================] - 0s 2ms/step - loss: 1.2089\n",
      "Epoch 41/50\n",
      "23/23 [==============================] - 0s 2ms/step - loss: 1.3544\n",
      "Epoch 42/50\n",
      "23/23 [==============================] - 0s 2ms/step - loss: 1.2390\n",
      "Epoch 43/50\n",
      "23/23 [==============================] - 0s 2ms/step - loss: 1.3731\n",
      "Epoch 44/50\n",
      "23/23 [==============================] - 0s 2ms/step - loss: 1.3104\n",
      "Epoch 45/50\n",
      "23/23 [==============================] - 0s 2ms/step - loss: 1.3078\n",
      "Epoch 46/50\n",
      "23/23 [==============================] - 0s 2ms/step - loss: 1.3030\n",
      "Epoch 47/50\n",
      "23/23 [==============================] - 0s 2ms/step - loss: 1.3295\n",
      "Epoch 48/50\n",
      "23/23 [==============================] - 0s 2ms/step - loss: 1.2778\n",
      "Epoch 49/50\n",
      "23/23 [==============================] - 0s 2ms/step - loss: 1.2351\n",
      "Epoch 50/50\n",
      "23/23 [==============================] - 0s 2ms/step - loss: 1.3229\n"
     ]
    }
   ],
   "source": [
    "history = model.fit(reshaped_X, y, epochs=50, batch_size=16)"
   ]
  }
 ],
 "metadata": {
  "kernelspec": {
   "display_name": "Python 3",
   "language": "python",
   "name": "python3"
  },
  "language_info": {
   "codemirror_mode": {
    "name": "ipython",
    "version": 3
   },
   "file_extension": ".py",
   "mimetype": "text/x-python",
   "name": "python",
   "nbconvert_exporter": "python",
   "pygments_lexer": "ipython3",
   "version": "3.8.5"
  }
 },
 "nbformat": 4,
 "nbformat_minor": 4
}
