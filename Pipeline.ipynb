{
 "cells": [
  {
   "cell_type": "code",
   "execution_count": 1,
   "metadata": {},
   "outputs": [],
   "source": [
    "#library imports\n",
    "import pandas as pd\n",
    "import numpy as np\n",
    "import seaborn as sns\n",
    "import matplotlib.pyplot as plt\n",
    "import sklearn\n",
    "import warnings\n",
    "from matplotlib.pyplot import figure\n",
    "warnings.filterwarnings('ignore')"
   ]
  },
  {
   "cell_type": "code",
   "execution_count": 5,
   "metadata": {},
   "outputs": [],
   "source": [
    "#data imports\n",
    "returns = pd.read_pickle(\"./Data/returns.pkl\")\n",
    "volumes = pd.read_csv('./Data/stock_volumes.csv', index_col = 'date', parse_dates = True)\n",
    "info = pd.read_csv('./Data/stock_info.csv', index_col = 'Instrument')\n",
    "sp_listings = pd.read_csv('./Data/sp500_listings.csv', index_col = 'date', parse_dates = True)"
   ]
  },
  {
   "cell_type": "code",
   "execution_count": 6,
   "metadata": {},
   "outputs": [],
   "source": [
    "#drop very first row\n",
    "returns = returns.iloc[1:, :]"
   ]
  },
  {
   "cell_type": "code",
   "execution_count": 190,
   "metadata": {},
   "outputs": [],
   "source": [
    "def get_features_targets(stock):\n",
    "    \"Returns dataframe with all stocks' lagged returns within the date range between given\\\n",
    "     stock's first listing and last listing date\\\n",
    "     **Note: This dataframe will contain missing values in returns for other stocks. We need\\\n",
    "     to further filter this based on the which date we are trying to predict a return for\\\n",
    "     and how many rows of past data we want to use\"\n",
    "    \n",
    "    #drop all the missing values - these indicate when the stock was not listed on the S&P\n",
    "    df = returns[[stock]].dropna()\n",
    "    \n",
    "    t_start = df.index[0]\n",
    "    t_end = df.index[-1]\n",
    "    \n",
    "    #save stock's returns between t_start and t_end\n",
    "    y = returns[[stock]].loc[t_start:t_end, :]\n",
    "    y.columns = [str(stock)+' t+1']\n",
    "    y = y.sort_index(ascending = False)\n",
    "    \n",
    "    #create a one-day lag in all other stocks' returns so that their past returns are\n",
    "    #used to predict given stock's current return\n",
    "    X = returns.loc[(t_start + pd.DateOffset(-1)):(t_end + pd.DateOffset(-1)), :]\n",
    "    X = X.sort_index(ascending = False)\n",
    "    \n",
    "    df_full = pd.concat([X, y], axis = 1)\n",
    "    df_full = df_full.sort_index(ascending = False)\n",
    "    df_full[str(stock) + ' t+1'] = df_full[str(stock) + ' t+1'].shift(1)\n",
    "    df_full = df_full.iloc[1:, :]\n",
    "    \n",
    "    return df_full"
   ]
  },
  {
   "cell_type": "code",
   "execution_count": 180,
   "metadata": {},
   "outputs": [],
   "source": [
    "def get_train(stock, date, n_rows_pct = 0.9):\n",
    "    \"Helper function for get_investable\\\n",
    "    Parameters:\\\n",
    "        stock: given stock\\\n",
    "        date: date to predict after (date of last training data)\\\n",
    "        n_rows_pct: % of rows to use as training data (% of past returns to use as features)\"\n",
    "    \n",
    "    #drop all the missing values - these indicate when the stock was not listed on the S&P\n",
    "    df = returns[[stock]].dropna()\n",
    "    \n",
    "    first_listing = df.index[0]\n",
    "    last_listing = df.index[-1]\n",
    "    \n",
    "    past_n_days_dt = (n_rows_pct * (last_listing - first_listing)) #in datetime format\n",
    "    \n",
    "    least_recent = date - past_n_days_dt   #date of oldest past returns to include\n",
    "    most_recent = date + pd.DateOffset(-1) #date of most recent past returns to include\n",
    "    \n",
    "    return most_recent, least_recent"
   ]
  },
  {
   "cell_type": "code",
   "execution_count": 181,
   "metadata": {},
   "outputs": [],
   "source": [
    "def get_investable(df, most_recent, least_recent):\n",
    "    \"Returns investable universe (stocks in the S&P) between time t_start and t_end\\\n",
    "    Parameters:\\\n",
    "        df: a given stock's dataframe from get_features_targets\\\n",
    "        most_recent: most recent date\\\n",
    "        past_n_days: number of past returns to use as training data\"\n",
    "    \n",
    "    #find all stocks that exist in the S&P between these time periods - their returns\n",
    "    #will be used to predict stock\n",
    "    investable_universe = []\n",
    "\n",
    "    for col in df.columns:\n",
    "        if ~df[col].loc[:least_recent].isna().any():\n",
    "            investable_universe.append(col)\n",
    "    \n",
    "    #a dataframe with no missing returns for any stock\n",
    "    df_investable = df[investable_universe]\n",
    "    df_investable = df_investable.loc[most_recent:least_recent]\n",
    "    \n",
    "    return df_investable"
   ]
  },
  {
   "cell_type": "code",
   "execution_count": 219,
   "metadata": {},
   "outputs": [],
   "source": [
    "from sklearn.linear_model import LinearRegression\n",
    "\n",
    "def fit_predict(stock, date):\n",
    "    \"Creates linear model for an individual stock and predicts return for next trading day\"\n",
    "    df = get_features_targets(stock)\n",
    "    most_recent, least_recent = get_train(stock, date)\n",
    "    train_investable = get_investable(df, most_recent, least_recent)\n",
    "    \n",
    "    X_train =  train_investable.drop(str(stock) + ' t+1', axis = 1)\n",
    "    y_train =  train_investable[[str(stock) + ' t+1']]\n",
    "    \n",
    "    model = LinearRegression()\n",
    "    model.fit(X_train, y_train)\n",
    "    \n",
    "    most_recent_test = most_recent + pd.DateOffset(1)\n",
    "    test_investable = get_investable(df, most_recent_test, least_recent)\n",
    "    \n",
    "    X_test = test_investable.loc[[date + pd.DateOffset(-1)]].drop(str(stock) + ' t+1', axis = 1)\n",
    "    y_test = test_investable.loc[[date]][str(stock) + ' t+1']\n",
    "    \n",
    "    prediction = model.predict(X_test)\n",
    "    \n",
    "    return y_test, prediction"
   ]
  }
 ],
 "metadata": {
  "kernelspec": {
   "display_name": "Python 3",
   "language": "python",
   "name": "python3"
  },
  "language_info": {
   "codemirror_mode": {
    "name": "ipython",
    "version": 3
   },
   "file_extension": ".py",
   "mimetype": "text/x-python",
   "name": "python",
   "nbconvert_exporter": "python",
   "pygments_lexer": "ipython3",
   "version": "3.8.5"
  }
 },
 "nbformat": 4,
 "nbformat_minor": 4
}
