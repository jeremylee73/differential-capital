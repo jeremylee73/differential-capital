{
 "cells": [
  {
   "cell_type": "code",
   "execution_count": null,
   "id": "a19485e6",
   "metadata": {},
   "outputs": [],
   "source": [
    "# To Do:\n",
    "'''\n",
    "- create a model to predict yesterday's returns to today\n",
    "- X = returns yesterday\n",
    "- Y = returns today\n",
    "- no sklearn\n",
    "- divide train/test\n",
    "- tell model to predict today's reutrns as exactly yesterday's\n",
    "- shift function\n",
    "'''"
   ]
  },
  {
   "cell_type": "code",
   "execution_count": 138,
   "id": "f6f838e1",
   "metadata": {},
   "outputs": [],
   "source": [
    "import pandas as pd\n",
    "import numpy as np\n",
    "import seaborn as sns"
   ]
  },
  {
   "cell_type": "code",
   "execution_count": 139,
   "id": "6a02bb53",
   "metadata": {},
   "outputs": [
    {
     "data": {
      "text/html": [
       "<div>\n",
       "<style scoped>\n",
       "    .dataframe tbody tr th:only-of-type {\n",
       "        vertical-align: middle;\n",
       "    }\n",
       "\n",
       "    .dataframe tbody tr th {\n",
       "        vertical-align: top;\n",
       "    }\n",
       "\n",
       "    .dataframe thead th {\n",
       "        text-align: right;\n",
       "    }\n",
       "</style>\n",
       "<table border=\"1\" class=\"dataframe\">\n",
       "  <thead>\n",
       "    <tr style=\"text-align: right;\">\n",
       "      <th></th>\n",
       "      <th>905270</th>\n",
       "      <th>921795</th>\n",
       "      <th>904261</th>\n",
       "      <th>905261</th>\n",
       "      <th>916328</th>\n",
       "      <th>923024</th>\n",
       "      <th>936365</th>\n",
       "      <th>902355</th>\n",
       "      <th>912215</th>\n",
       "      <th>929813</th>\n",
       "      <th>...</th>\n",
       "      <th>9660J1</th>\n",
       "      <th>69568X</th>\n",
       "      <th>543755</th>\n",
       "      <th>77463M</th>\n",
       "      <th>29235J</th>\n",
       "      <th>131745</th>\n",
       "      <th>69487D</th>\n",
       "      <th>68157P</th>\n",
       "      <th>9110RA</th>\n",
       "      <th>292703</th>\n",
       "    </tr>\n",
       "    <tr>\n",
       "      <th>date</th>\n",
       "      <th></th>\n",
       "      <th></th>\n",
       "      <th></th>\n",
       "      <th></th>\n",
       "      <th></th>\n",
       "      <th></th>\n",
       "      <th></th>\n",
       "      <th></th>\n",
       "      <th></th>\n",
       "      <th></th>\n",
       "      <th></th>\n",
       "      <th></th>\n",
       "      <th></th>\n",
       "      <th></th>\n",
       "      <th></th>\n",
       "      <th></th>\n",
       "      <th></th>\n",
       "      <th></th>\n",
       "      <th></th>\n",
       "      <th></th>\n",
       "      <th></th>\n",
       "    </tr>\n",
       "  </thead>\n",
       "  <tbody>\n",
       "    <tr>\n",
       "      <th>1990-01-02</th>\n",
       "      <td>NaN</td>\n",
       "      <td>NaN</td>\n",
       "      <td>NaN</td>\n",
       "      <td>NaN</td>\n",
       "      <td>NaN</td>\n",
       "      <td>NaN</td>\n",
       "      <td>NaN</td>\n",
       "      <td>NaN</td>\n",
       "      <td>NaN</td>\n",
       "      <td>NaN</td>\n",
       "      <td>...</td>\n",
       "      <td>NaN</td>\n",
       "      <td>NaN</td>\n",
       "      <td>NaN</td>\n",
       "      <td>NaN</td>\n",
       "      <td>NaN</td>\n",
       "      <td>NaN</td>\n",
       "      <td>NaN</td>\n",
       "      <td>NaN</td>\n",
       "      <td>NaN</td>\n",
       "      <td>NaN</td>\n",
       "    </tr>\n",
       "    <tr>\n",
       "      <th>1990-01-03</th>\n",
       "      <td>-0.835165</td>\n",
       "      <td>-0.475059</td>\n",
       "      <td>5.000000</td>\n",
       "      <td>-0.810537</td>\n",
       "      <td>0.361421</td>\n",
       "      <td>0.000000</td>\n",
       "      <td>-3.030303</td>\n",
       "      <td>0.000000</td>\n",
       "      <td>-0.431034</td>\n",
       "      <td>-1.315789</td>\n",
       "      <td>...</td>\n",
       "      <td>NaN</td>\n",
       "      <td>NaN</td>\n",
       "      <td>NaN</td>\n",
       "      <td>NaN</td>\n",
       "      <td>NaN</td>\n",
       "      <td>NaN</td>\n",
       "      <td>NaN</td>\n",
       "      <td>NaN</td>\n",
       "      <td>NaN</td>\n",
       "      <td>NaN</td>\n",
       "    </tr>\n",
       "    <tr>\n",
       "      <th>1990-01-04</th>\n",
       "      <td>-0.797872</td>\n",
       "      <td>-1.272872</td>\n",
       "      <td>2.380952</td>\n",
       "      <td>-1.634321</td>\n",
       "      <td>-0.180060</td>\n",
       "      <td>3.454545</td>\n",
       "      <td>-1.562500</td>\n",
       "      <td>0.530612</td>\n",
       "      <td>0.225108</td>\n",
       "      <td>0.000000</td>\n",
       "      <td>...</td>\n",
       "      <td>NaN</td>\n",
       "      <td>NaN</td>\n",
       "      <td>NaN</td>\n",
       "      <td>NaN</td>\n",
       "      <td>NaN</td>\n",
       "      <td>NaN</td>\n",
       "      <td>NaN</td>\n",
       "      <td>NaN</td>\n",
       "      <td>NaN</td>\n",
       "      <td>NaN</td>\n",
       "    </tr>\n",
       "    <tr>\n",
       "      <th>1990-01-05</th>\n",
       "      <td>-2.546917</td>\n",
       "      <td>1.531023</td>\n",
       "      <td>-0.372093</td>\n",
       "      <td>-1.661475</td>\n",
       "      <td>-1.079730</td>\n",
       "      <td>1.054482</td>\n",
       "      <td>-3.174603</td>\n",
       "      <td>0.487211</td>\n",
       "      <td>-0.656531</td>\n",
       "      <td>-1.333333</td>\n",
       "      <td>...</td>\n",
       "      <td>NaN</td>\n",
       "      <td>NaN</td>\n",
       "      <td>NaN</td>\n",
       "      <td>NaN</td>\n",
       "      <td>NaN</td>\n",
       "      <td>NaN</td>\n",
       "      <td>NaN</td>\n",
       "      <td>NaN</td>\n",
       "      <td>NaN</td>\n",
       "      <td>NaN</td>\n",
       "    </tr>\n",
       "    <tr>\n",
       "      <th>1990-01-08</th>\n",
       "      <td>2.017423</td>\n",
       "      <td>-0.873016</td>\n",
       "      <td>0.000000</td>\n",
       "      <td>2.534319</td>\n",
       "      <td>0.000000</td>\n",
       "      <td>0.000000</td>\n",
       "      <td>0.000000</td>\n",
       "      <td>1.010101</td>\n",
       "      <td>0.434783</td>\n",
       "      <td>3.405405</td>\n",
       "      <td>...</td>\n",
       "      <td>NaN</td>\n",
       "      <td>NaN</td>\n",
       "      <td>NaN</td>\n",
       "      <td>NaN</td>\n",
       "      <td>NaN</td>\n",
       "      <td>NaN</td>\n",
       "      <td>NaN</td>\n",
       "      <td>NaN</td>\n",
       "      <td>NaN</td>\n",
       "      <td>NaN</td>\n",
       "    </tr>\n",
       "  </tbody>\n",
       "</table>\n",
       "<p>5 rows × 1236 columns</p>\n",
       "</div>"
      ],
      "text/plain": [
       "              905270    921795    904261    905261    916328    923024  \\\n",
       "date                                                                     \n",
       "1990-01-02       NaN       NaN       NaN       NaN       NaN       NaN   \n",
       "1990-01-03 -0.835165 -0.475059  5.000000 -0.810537  0.361421  0.000000   \n",
       "1990-01-04 -0.797872 -1.272872  2.380952 -1.634321 -0.180060  3.454545   \n",
       "1990-01-05 -2.546917  1.531023 -0.372093 -1.661475 -1.079730  1.054482   \n",
       "1990-01-08  2.017423 -0.873016  0.000000  2.534319  0.000000  0.000000   \n",
       "\n",
       "              936365    902355    912215    929813  ...  9660J1  69568X  \\\n",
       "date                                                ...                   \n",
       "1990-01-02       NaN       NaN       NaN       NaN  ...     NaN     NaN   \n",
       "1990-01-03 -3.030303  0.000000 -0.431034 -1.315789  ...     NaN     NaN   \n",
       "1990-01-04 -1.562500  0.530612  0.225108  0.000000  ...     NaN     NaN   \n",
       "1990-01-05 -3.174603  0.487211 -0.656531 -1.333333  ...     NaN     NaN   \n",
       "1990-01-08  0.000000  1.010101  0.434783  3.405405  ...     NaN     NaN   \n",
       "\n",
       "            543755  77463M  29235J  131745  69487D  68157P  9110RA  292703  \n",
       "date                                                                        \n",
       "1990-01-02     NaN     NaN     NaN     NaN     NaN     NaN     NaN     NaN  \n",
       "1990-01-03     NaN     NaN     NaN     NaN     NaN     NaN     NaN     NaN  \n",
       "1990-01-04     NaN     NaN     NaN     NaN     NaN     NaN     NaN     NaN  \n",
       "1990-01-05     NaN     NaN     NaN     NaN     NaN     NaN     NaN     NaN  \n",
       "1990-01-08     NaN     NaN     NaN     NaN     NaN     NaN     NaN     NaN  \n",
       "\n",
       "[5 rows x 1236 columns]"
      ]
     },
     "execution_count": 139,
     "metadata": {},
     "output_type": "execute_result"
    }
   ],
   "source": [
    "# read data\n",
    "returns = pd.read_pickle('Data/returns.pkl')\n",
    "returns.head()"
   ]
  },
  {
   "cell_type": "markdown",
   "id": "7a2b3cda",
   "metadata": {},
   "source": [
    "### Insert Model Here"
   ]
  },
  {
   "cell_type": "code",
   "execution_count": 140,
   "id": "72df3169",
   "metadata": {},
   "outputs": [],
   "source": [
    "daysToShift = 1\n",
    "\n",
    "def modelShiftDays(days):\n",
    "    new_df = returns.shift(days, axis=0)\n",
    "    return new_df\n",
    "\n",
    "# new dataframe after shift\n",
    "df_pred = modelShiftDays(daysToShift)"
   ]
  },
  {
   "cell_type": "markdown",
   "id": "b7f837c7",
   "metadata": {},
   "source": [
    "### Plotting Data"
   ]
  },
  {
   "cell_type": "code",
   "execution_count": 141,
   "id": "a07448de",
   "metadata": {},
   "outputs": [
    {
     "data": {
      "text/plain": [
       "<AxesSubplot:xlabel='date', ylabel='actual'>"
      ]
     },
     "execution_count": 141,
     "metadata": {},
     "output_type": "execute_result"
    },
    {
     "data": {
      "image/png": "[encoded data removed]",
      "text/plain": [
       "<Figure size 432x288 with 1 Axes>"
      ]
     },
     "metadata": {
      "needs_background": "light"
     },
     "output_type": "display_data"
    }
   ],
   "source": [
    "# For the first listed stock:\n",
    "\n",
    "# create dataframe for all given days\n",
    "df = pd.DataFrame()\n",
    "df['actual'] = returns[returns.columns[0]]\n",
    "df['predicted'] = df_pred[returns.columns[0]]\n",
    "df['date'] = returns.index\n",
    "df.reset_index(drop=True, inplace = True)\n",
    "df.head()\n",
    "\n",
    "sns.lineplot(data=df, x='date', y='actual')\n",
    "sns.lineplot(data=df, x='date', y='predicted')"
   ]
  },
  {
   "cell_type": "code",
   "execution_count": 142,
   "id": "7a8e227a",
   "metadata": {},
   "outputs": [
    {
     "data": {
      "text/plain": [
       "Text(0.5, 1.0, 'Predicted vs Actual')"
      ]
     },
     "execution_count": 142,
     "metadata": {},
     "output_type": "execute_result"
    },
    {
     "data": {
      "image/png": "[encoded data removed]",
      "text/plain": [
       "<Figure size 432x288 with 1 Axes>"
      ]
     },
     "metadata": {
      "needs_background": "light"
     },
     "output_type": "display_data"
    }
   ],
   "source": [
    "sns.lineplot(data=df, x='actual', y='predicted').set_title('Predicted vs Actual')"
   ]
  },
  {
   "cell_type": "code",
   "execution_count": 143,
   "id": "db43700a",
   "metadata": {},
   "outputs": [
    {
     "data": {
      "text/html": [
       "<div>\n",
       "<style scoped>\n",
       "    .dataframe tbody tr th:only-of-type {\n",
       "        vertical-align: middle;\n",
       "    }\n",
       "\n",
       "    .dataframe tbody tr th {\n",
       "        vertical-align: top;\n",
       "    }\n",
       "\n",
       "    .dataframe thead th {\n",
       "        text-align: right;\n",
       "    }\n",
       "</style>\n",
       "<table border=\"1\" class=\"dataframe\">\n",
       "  <thead>\n",
       "    <tr style=\"text-align: right;\">\n",
       "      <th></th>\n",
       "      <th>actual</th>\n",
       "      <th>predicted</th>\n",
       "      <th>date</th>\n",
       "    </tr>\n",
       "  </thead>\n",
       "  <tbody>\n",
       "    <tr>\n",
       "      <th>0</th>\n",
       "      <td>NaN</td>\n",
       "      <td>NaN</td>\n",
       "      <td>1990-01-02</td>\n",
       "    </tr>\n",
       "    <tr>\n",
       "      <th>1</th>\n",
       "      <td>-0.835165</td>\n",
       "      <td>NaN</td>\n",
       "      <td>1990-01-03</td>\n",
       "    </tr>\n",
       "    <tr>\n",
       "      <th>2</th>\n",
       "      <td>-0.797872</td>\n",
       "      <td>-0.835165</td>\n",
       "      <td>1990-01-04</td>\n",
       "    </tr>\n",
       "    <tr>\n",
       "      <th>3</th>\n",
       "      <td>-2.546917</td>\n",
       "      <td>-0.797872</td>\n",
       "      <td>1990-01-05</td>\n",
       "    </tr>\n",
       "    <tr>\n",
       "      <th>4</th>\n",
       "      <td>2.017423</td>\n",
       "      <td>-2.546917</td>\n",
       "      <td>1990-01-08</td>\n",
       "    </tr>\n",
       "  </tbody>\n",
       "</table>\n",
       "</div>"
      ],
      "text/plain": [
       "     actual  predicted       date\n",
       "0       NaN        NaN 1990-01-02\n",
       "1 -0.835165        NaN 1990-01-03\n",
       "2 -0.797872  -0.835165 1990-01-04\n",
       "3 -2.546917  -0.797872 1990-01-05\n",
       "4  2.017423  -2.546917 1990-01-08"
      ]
     },
     "execution_count": 143,
     "metadata": {},
     "output_type": "execute_result"
    }
   ],
   "source": [
    "# For the first listed stock:\n",
    "\n",
    "# create dataframe with all relevant data for first 30 days\n",
    "df = pd.DataFrame()\n",
    "df['actual'] = returns[returns.columns[0]].iloc[:30]\n",
    "df['predicted'] = df_pred[returns.columns[0]].iloc[:30]\n",
    "df['date'] = returns.index[:30]\n",
    "df.reset_index(drop=True, inplace = True)\n",
    "df.head()"
   ]
  },
  {
   "cell_type": "code",
   "execution_count": 144,
   "id": "ce907f6a",
   "metadata": {},
   "outputs": [
    {
     "data": {
      "text/plain": [
       "<AxesSubplot:xlabel='date', ylabel='actual'>"
      ]
     },
     "execution_count": 144,
     "metadata": {},
     "output_type": "execute_result"
    },
    {
     "data": {
      "image/png": "[encoded data removed]",
      "text/plain": [
       "<Figure size 432x288 with 1 Axes>"
      ]
     },
     "metadata": {
      "needs_background": "light"
     },
     "output_type": "display_data"
    }
   ],
   "source": [
    "sns.lineplot(data=df, x='date', y='actual')\n",
    "sns.lineplot(data=df, x='date', y='predicted')"
   ]
  },
  {
   "cell_type": "code",
   "execution_count": 145,
   "id": "72e2afb6",
   "metadata": {},
   "outputs": [
    {
     "data": {
      "text/plain": [
       "Text(0.5, 1.0, 'Predicted vs Actual')"
      ]
     },
     "execution_count": 145,
     "metadata": {},
     "output_type": "execute_result"
    },
    {
     "data": {
      "image/png": "[encoded data removed]",
      "text/plain": [
       "<Figure size 432x288 with 1 Axes>"
      ]
     },
     "metadata": {
      "needs_background": "light"
     },
     "output_type": "display_data"
    }
   ],
   "source": [
    "sns.lineplot(data=df, x='actual', y='predicted').set_title('Predicted vs Actual')"
   ]
  },
  {
   "cell_type": "code",
   "execution_count": null,
   "id": "fb5ad6af",
   "metadata": {},
   "outputs": [],
   "source": []
  },
  {
   "cell_type": "markdown",
   "id": "4c2ea7cb",
   "metadata": {},
   "source": [
    "### Testing for Multiple Stocks"
   ]
  },
  {
   "cell_type": "code",
   "execution_count": null,
   "id": "d35ff3ff",
   "metadata": {},
   "outputs": [],
   "source": [
    "#stock = df_pred.iloc[:, i]\n",
    "#stock.head()"
   ]
  },
  {
   "cell_type": "code",
   "execution_count": null,
   "id": "d4c191d3",
   "metadata": {},
   "outputs": [],
   "source": [
    "daysToShift = 1\n",
    "numStocks = 1\n",
    "\n",
    "# new dataframe after shift\n",
    "df_pred = modelShiftDays(daysToShift)\n",
    "\n",
    "for i in range(numStocks):\n",
    "    stock = df_pred.iloc[:, i]\n",
    "    pred_list[name] = stock\n",
    "    \n",
    "    # create dataframe with all relevant data for first 30 days\n",
    "    df = pd.DataFrame()\n",
    "    df['actual'] = returns[returns.columns[0]].iloc[:30]\n",
    "    df['predicted'] = df_pred[returns.columns[0]].iloc[:30]\n",
    "    df['date'] = returns.index[:30]\n",
    "    df.reset_index(drop=True, inplace = True)\n",
    "    \n",
    "    sns.lineplot(data=df, x='date', y='actual')\n",
    "    sns.lineplot(data=df, x='date', y='predicted')"
   ]
  },
  {
   "cell_type": "code",
   "execution_count": null,
   "id": "b2210de5",
   "metadata": {},
   "outputs": [],
   "source": []
  },
  {
   "cell_type": "markdown",
   "id": "9a4ce9eb",
   "metadata": {},
   "source": [
    "### Getting Top Returns"
   ]
  },
  {
   "cell_type": "code",
   "execution_count": null,
   "id": "3915c53b",
   "metadata": {},
   "outputs": [],
   "source": []
  }
 ],
 "metadata": {
  "kernelspec": {
   "display_name": "Python 3",
   "language": "python",
   "name": "python3"
  },
  "language_info": {
   "codemirror_mode": {
    "name": "ipython",
    "version": 3
   },
   "file_extension": ".py",
   "mimetype": "text/x-python",
   "name": "python",
   "nbconvert_exporter": "python",
   "pygments_lexer": "ipython3",
   "version": "3.8.8"
  }
 },
 "nbformat": 4,
 "nbformat_minor": 5
}
