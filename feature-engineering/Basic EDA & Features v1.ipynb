{
 "cells": [
  {
   "cell_type": "code",
   "execution_count": 442,
   "metadata": {},
   "outputs": [],
   "source": [
    "import numpy as np\n",
    "import pandas as pd\n",
    "import matplotlib.pyplot as plt\n",
    "import talib as ta\n",
    "import bt"
   ]
  },
  {
   "cell_type": "code",
   "execution_count": 443,
   "metadata": {},
   "outputs": [],
   "source": [
    "volumes = pd.read_csv('Data/stock_volumes.csv', index_col = 'date', parse_dates = True)\n",
    "prices = pd.read_csv('Data/stock_prices.csv', index_col = 'date', parse_dates = True)\n",
    "info = pd.read_csv('Data/stock_info.csv')\n",
    "sp_listings = pd.read_csv('Data/sp500_listings.csv')                   "
   ]
  },
  {
   "cell_type": "code",
   "execution_count": 444,
   "metadata": {},
   "outputs": [
    {
     "name": "stdout",
     "output_type": "stream",
     "text": [
      "volumes df shape: (7914, 1241)\n",
      "prices df shape: (7914, 1241)\n"
     ]
    }
   ],
   "source": [
    "#7,914 monthly periods and 1,242 stocks\n",
    "print(f'volumes df shape: {volumes.shape}\\nprices df shape: {prices.shape}')"
   ]
  },
  {
   "cell_type": "code",
   "execution_count": 445,
   "metadata": {},
   "outputs": [
    {
     "name": "stdout",
     "output_type": "stream",
     "text": [
      "sp_listings df shape: (188872, 2)\n"
     ]
    }
   ],
   "source": [
    "#188,872 listings in total\n",
    "print(f'sp_listings df shape: {sp_listings.shape}')"
   ]
  },
  {
   "cell_type": "code",
   "execution_count": 446,
   "metadata": {},
   "outputs": [
    {
     "data": {
      "text/html": [
       "<div>\n",
       "<style scoped>\n",
       "    .dataframe tbody tr th:only-of-type {\n",
       "        vertical-align: middle;\n",
       "    }\n",
       "\n",
       "    .dataframe tbody tr th {\n",
       "        vertical-align: top;\n",
       "    }\n",
       "\n",
       "    .dataframe thead th {\n",
       "        text-align: right;\n",
       "    }\n",
       "</style>\n",
       "<table border=\"1\" class=\"dataframe\">\n",
       "  <thead>\n",
       "    <tr style=\"text-align: right;\">\n",
       "      <th></th>\n",
       "      <th>Instrument</th>\n",
       "      <th>MNEM</th>\n",
       "      <th>RIC</th>\n",
       "      <th>ISIN</th>\n",
       "      <th>NAME</th>\n",
       "      <th>ESTAT</th>\n",
       "    </tr>\n",
       "  </thead>\n",
       "  <tbody>\n",
       "    <tr>\n",
       "      <th>4</th>\n",
       "      <td>916328</td>\n",
       "      <td>U:ABT</td>\n",
       "      <td>ABT</td>\n",
       "      <td>US0028241000</td>\n",
       "      <td>ABBOTT LABORATORIES</td>\n",
       "      <td>ACT.</td>\n",
       "    </tr>\n",
       "    <tr>\n",
       "      <th>6</th>\n",
       "      <td>936365</td>\n",
       "      <td>@AMD</td>\n",
       "      <td>AMD.O</td>\n",
       "      <td>US0079031078</td>\n",
       "      <td>ADVANCED MICRO DEVICES</td>\n",
       "      <td>ACT.</td>\n",
       "    </tr>\n",
       "    <tr>\n",
       "      <th>10</th>\n",
       "      <td>905271</td>\n",
       "      <td>U:APD</td>\n",
       "      <td>APD</td>\n",
       "      <td>US0091581068</td>\n",
       "      <td>AIR PRDS.&amp; CHEMS.</td>\n",
       "      <td>ACT.</td>\n",
       "    </tr>\n",
       "    <tr>\n",
       "      <th>14</th>\n",
       "      <td>905113</td>\n",
       "      <td>U:HWM</td>\n",
       "      <td>HWM</td>\n",
       "      <td>US4432011082</td>\n",
       "      <td>HOWMET AEROSPACE</td>\n",
       "      <td>ACT.</td>\n",
       "    </tr>\n",
       "    <tr>\n",
       "      <th>18</th>\n",
       "      <td>905802</td>\n",
       "      <td>U:HES</td>\n",
       "      <td>HES</td>\n",
       "      <td>US42809H1077</td>\n",
       "      <td>HESS</td>\n",
       "      <td>ACT.</td>\n",
       "    </tr>\n",
       "    <tr>\n",
       "      <th>...</th>\n",
       "      <td>...</td>\n",
       "      <td>...</td>\n",
       "      <td>...</td>\n",
       "      <td>...</td>\n",
       "      <td>...</td>\n",
       "      <td>...</td>\n",
       "    </tr>\n",
       "    <tr>\n",
       "      <th>1236</th>\n",
       "      <td>131745</td>\n",
       "      <td>@PENN</td>\n",
       "      <td>PENN.O</td>\n",
       "      <td>US7075691094</td>\n",
       "      <td>PENN NAT.GAMING</td>\n",
       "      <td>ACT.</td>\n",
       "    </tr>\n",
       "    <tr>\n",
       "      <th>1237</th>\n",
       "      <td>69487D</td>\n",
       "      <td>@NXPI</td>\n",
       "      <td>NXPI.O</td>\n",
       "      <td>NL0009538784</td>\n",
       "      <td>NXP SEMICONDUCTORS</td>\n",
       "      <td>ACT.</td>\n",
       "    </tr>\n",
       "    <tr>\n",
       "      <th>1238</th>\n",
       "      <td>68157P</td>\n",
       "      <td>U:GNRC</td>\n",
       "      <td>GNRC.K</td>\n",
       "      <td>US3687361044</td>\n",
       "      <td>GENERAC HOLDINGS</td>\n",
       "      <td>ACT.</td>\n",
       "    </tr>\n",
       "    <tr>\n",
       "      <th>1239</th>\n",
       "      <td>9110RA</td>\n",
       "      <td>@CZR</td>\n",
       "      <td>CZR.O</td>\n",
       "      <td>US12769G1004</td>\n",
       "      <td>CAESARS ENTERTAINMENT</td>\n",
       "      <td>ACT.</td>\n",
       "    </tr>\n",
       "    <tr>\n",
       "      <th>1240</th>\n",
       "      <td>292703</td>\n",
       "      <td>U:CRL</td>\n",
       "      <td>CRL</td>\n",
       "      <td>US1598641074</td>\n",
       "      <td>CHAS.RVR.LABS.INTL.</td>\n",
       "      <td>ACT.</td>\n",
       "    </tr>\n",
       "  </tbody>\n",
       "</table>\n",
       "<p>632 rows × 6 columns</p>\n",
       "</div>"
      ],
      "text/plain": [
       "     Instrument    MNEM     RIC          ISIN                    NAME ESTAT\n",
       "4        916328   U:ABT     ABT  US0028241000     ABBOTT LABORATORIES  ACT.\n",
       "6        936365    @AMD   AMD.O  US0079031078  ADVANCED MICRO DEVICES  ACT.\n",
       "10       905271   U:APD     APD  US0091581068       AIR PRDS.& CHEMS.  ACT.\n",
       "14       905113   U:HWM     HWM  US4432011082        HOWMET AEROSPACE  ACT.\n",
       "18       905802   U:HES     HES  US42809H1077                    HESS  ACT.\n",
       "...         ...     ...     ...           ...                     ...   ...\n",
       "1236     131745   @PENN  PENN.O  US7075691094         PENN NAT.GAMING  ACT.\n",
       "1237     69487D   @NXPI  NXPI.O  NL0009538784      NXP SEMICONDUCTORS  ACT.\n",
       "1238     68157P  U:GNRC  GNRC.K  US3687361044        GENERAC HOLDINGS  ACT.\n",
       "1239     9110RA    @CZR   CZR.O  US12769G1004   CAESARS ENTERTAINMENT  ACT.\n",
       "1240     292703   U:CRL     CRL  US1598641074     CHAS.RVR.LABS.INTL.  ACT.\n",
       "\n",
       "[632 rows x 6 columns]"
      ]
     },
     "execution_count": 446,
     "metadata": {},
     "output_type": "execute_result"
    }
   ],
   "source": [
    "info[info['ESTAT'] == 'ACT.']"
   ]
  },
  {
   "cell_type": "code",
   "execution_count": 447,
   "metadata": {},
   "outputs": [
    {
     "data": {
      "text/html": [
       "<div>\n",
       "<style scoped>\n",
       "    .dataframe tbody tr th:only-of-type {\n",
       "        vertical-align: middle;\n",
       "    }\n",
       "\n",
       "    .dataframe tbody tr th {\n",
       "        vertical-align: top;\n",
       "    }\n",
       "\n",
       "    .dataframe thead th {\n",
       "        text-align: right;\n",
       "    }\n",
       "</style>\n",
       "<table border=\"1\" class=\"dataframe\">\n",
       "  <thead>\n",
       "    <tr style=\"text-align: right;\">\n",
       "      <th></th>\n",
       "      <th>905270</th>\n",
       "      <th>921795</th>\n",
       "      <th>904261</th>\n",
       "      <th>905261</th>\n",
       "      <th>916328</th>\n",
       "      <th>923024</th>\n",
       "      <th>936365</th>\n",
       "      <th>902355</th>\n",
       "      <th>912215</th>\n",
       "      <th>929813</th>\n",
       "      <th>...</th>\n",
       "      <th>9889RL</th>\n",
       "      <th>69568X</th>\n",
       "      <th>543755</th>\n",
       "      <th>77463M</th>\n",
       "      <th>29235J</th>\n",
       "      <th>131745</th>\n",
       "      <th>69487D</th>\n",
       "      <th>68157P</th>\n",
       "      <th>9110RA</th>\n",
       "      <th>292703</th>\n",
       "    </tr>\n",
       "    <tr>\n",
       "      <th>date</th>\n",
       "      <th></th>\n",
       "      <th></th>\n",
       "      <th></th>\n",
       "      <th></th>\n",
       "      <th></th>\n",
       "      <th></th>\n",
       "      <th></th>\n",
       "      <th></th>\n",
       "      <th></th>\n",
       "      <th></th>\n",
       "      <th></th>\n",
       "      <th></th>\n",
       "      <th></th>\n",
       "      <th></th>\n",
       "      <th></th>\n",
       "      <th></th>\n",
       "      <th></th>\n",
       "      <th></th>\n",
       "      <th></th>\n",
       "      <th></th>\n",
       "      <th></th>\n",
       "    </tr>\n",
       "  </thead>\n",
       "  <tbody>\n",
       "    <tr>\n",
       "      <th>1990-01-02</th>\n",
       "      <td>22.75</td>\n",
       "      <td>12.63</td>\n",
       "      <td>30.00</td>\n",
       "      <td>29.61</td>\n",
       "      <td>3.8736</td>\n",
       "      <td>11.00</td>\n",
       "      <td>4.1250</td>\n",
       "      <td>24.50</td>\n",
       "      <td>58.00</td>\n",
       "      <td>19.00</td>\n",
       "      <td>...</td>\n",
       "      <td>NaN</td>\n",
       "      <td>NaN</td>\n",
       "      <td>NaN</td>\n",
       "      <td>NaN</td>\n",
       "      <td>NaN</td>\n",
       "      <td>NaN</td>\n",
       "      <td>NaN</td>\n",
       "      <td>NaN</td>\n",
       "      <td>NaN</td>\n",
       "      <td>NaN</td>\n",
       "    </tr>\n",
       "    <tr>\n",
       "      <th>1990-01-03</th>\n",
       "      <td>22.56</td>\n",
       "      <td>12.57</td>\n",
       "      <td>31.50</td>\n",
       "      <td>29.37</td>\n",
       "      <td>3.8876</td>\n",
       "      <td>11.00</td>\n",
       "      <td>4.0000</td>\n",
       "      <td>24.50</td>\n",
       "      <td>57.75</td>\n",
       "      <td>18.75</td>\n",
       "      <td>...</td>\n",
       "      <td>NaN</td>\n",
       "      <td>NaN</td>\n",
       "      <td>NaN</td>\n",
       "      <td>NaN</td>\n",
       "      <td>NaN</td>\n",
       "      <td>NaN</td>\n",
       "      <td>NaN</td>\n",
       "      <td>NaN</td>\n",
       "      <td>NaN</td>\n",
       "      <td>NaN</td>\n",
       "    </tr>\n",
       "    <tr>\n",
       "      <th>1990-01-04</th>\n",
       "      <td>22.38</td>\n",
       "      <td>12.41</td>\n",
       "      <td>32.25</td>\n",
       "      <td>28.89</td>\n",
       "      <td>3.8806</td>\n",
       "      <td>11.38</td>\n",
       "      <td>3.9375</td>\n",
       "      <td>24.63</td>\n",
       "      <td>57.88</td>\n",
       "      <td>18.75</td>\n",
       "      <td>...</td>\n",
       "      <td>NaN</td>\n",
       "      <td>NaN</td>\n",
       "      <td>NaN</td>\n",
       "      <td>NaN</td>\n",
       "      <td>NaN</td>\n",
       "      <td>NaN</td>\n",
       "      <td>NaN</td>\n",
       "      <td>NaN</td>\n",
       "      <td>NaN</td>\n",
       "      <td>NaN</td>\n",
       "    </tr>\n",
       "    <tr>\n",
       "      <th>1990-01-05</th>\n",
       "      <td>21.81</td>\n",
       "      <td>12.60</td>\n",
       "      <td>32.13</td>\n",
       "      <td>28.41</td>\n",
       "      <td>3.8387</td>\n",
       "      <td>11.50</td>\n",
       "      <td>3.8125</td>\n",
       "      <td>24.75</td>\n",
       "      <td>57.50</td>\n",
       "      <td>18.50</td>\n",
       "      <td>...</td>\n",
       "      <td>NaN</td>\n",
       "      <td>NaN</td>\n",
       "      <td>NaN</td>\n",
       "      <td>NaN</td>\n",
       "      <td>NaN</td>\n",
       "      <td>NaN</td>\n",
       "      <td>NaN</td>\n",
       "      <td>NaN</td>\n",
       "      <td>NaN</td>\n",
       "      <td>NaN</td>\n",
       "    </tr>\n",
       "    <tr>\n",
       "      <th>1990-01-08</th>\n",
       "      <td>22.25</td>\n",
       "      <td>12.49</td>\n",
       "      <td>32.13</td>\n",
       "      <td>29.13</td>\n",
       "      <td>3.8387</td>\n",
       "      <td>11.50</td>\n",
       "      <td>3.8125</td>\n",
       "      <td>25.00</td>\n",
       "      <td>57.75</td>\n",
       "      <td>19.13</td>\n",
       "      <td>...</td>\n",
       "      <td>NaN</td>\n",
       "      <td>NaN</td>\n",
       "      <td>NaN</td>\n",
       "      <td>NaN</td>\n",
       "      <td>NaN</td>\n",
       "      <td>NaN</td>\n",
       "      <td>NaN</td>\n",
       "      <td>NaN</td>\n",
       "      <td>NaN</td>\n",
       "      <td>NaN</td>\n",
       "    </tr>\n",
       "  </tbody>\n",
       "</table>\n",
       "<p>5 rows × 1241 columns</p>\n",
       "</div>"
      ],
      "text/plain": [
       "            905270  921795  904261  905261  916328  923024  936365  902355  \\\n",
       "date                                                                         \n",
       "1990-01-02   22.75   12.63   30.00   29.61  3.8736   11.00  4.1250   24.50   \n",
       "1990-01-03   22.56   12.57   31.50   29.37  3.8876   11.00  4.0000   24.50   \n",
       "1990-01-04   22.38   12.41   32.25   28.89  3.8806   11.38  3.9375   24.63   \n",
       "1990-01-05   21.81   12.60   32.13   28.41  3.8387   11.50  3.8125   24.75   \n",
       "1990-01-08   22.25   12.49   32.13   29.13  3.8387   11.50  3.8125   25.00   \n",
       "\n",
       "            912215  929813  ...  9889RL  69568X  543755  77463M  29235J  \\\n",
       "date                        ...                                           \n",
       "1990-01-02   58.00   19.00  ...     NaN     NaN     NaN     NaN     NaN   \n",
       "1990-01-03   57.75   18.75  ...     NaN     NaN     NaN     NaN     NaN   \n",
       "1990-01-04   57.88   18.75  ...     NaN     NaN     NaN     NaN     NaN   \n",
       "1990-01-05   57.50   18.50  ...     NaN     NaN     NaN     NaN     NaN   \n",
       "1990-01-08   57.75   19.13  ...     NaN     NaN     NaN     NaN     NaN   \n",
       "\n",
       "            131745  69487D  68157P  9110RA  292703  \n",
       "date                                                \n",
       "1990-01-02     NaN     NaN     NaN     NaN     NaN  \n",
       "1990-01-03     NaN     NaN     NaN     NaN     NaN  \n",
       "1990-01-04     NaN     NaN     NaN     NaN     NaN  \n",
       "1990-01-05     NaN     NaN     NaN     NaN     NaN  \n",
       "1990-01-08     NaN     NaN     NaN     NaN     NaN  \n",
       "\n",
       "[5 rows x 1241 columns]"
      ]
     },
     "execution_count": 447,
     "metadata": {},
     "output_type": "execute_result"
    }
   ],
   "source": [
    "prices.head()"
   ]
  },
  {
   "cell_type": "code",
   "execution_count": 448,
   "metadata": {},
   "outputs": [
    {
     "name": "stderr",
     "output_type": "stream",
     "text": [
      "<ipython-input-448-c1e325f5d8b3>:3: UserWarning: Matplotlib is currently using agg, which is a non-GUI backend, so cannot show the figure.\n",
      "  plt.show()\n"
     ]
    },
    {
     "data": {
      "image/png": "[encoded data removed]",
      "text/plain": [
       "<Figure size 432x288 with 1 Axes>"
      ]
     },
     "metadata": {
      "needs_background": "light"
     },
     "output_type": "display_data"
    }
   ],
   "source": [
    "plt.plot(prices['916328'], color = 'red')\n",
    "plt.title(\"Daily Close Price\")\n",
    "plt.show()"
   ]
  },
  {
   "cell_type": "code",
   "execution_count": 449,
   "metadata": {},
   "outputs": [],
   "source": [
    "#Data frame to hold returns\n",
    "daily_returns = prices.copy(deep = True)\n",
    "\n",
    "#Convert prices into daily returns\n",
    "for col in daily_returns.columns:\n",
    "    daily_returns[col] = daily_returns[col].pct_change()*100"
   ]
  },
  {
   "cell_type": "code",
   "execution_count": 450,
   "metadata": {},
   "outputs": [
    {
     "data": {
      "text/html": [
       "<div>\n",
       "<style scoped>\n",
       "    .dataframe tbody tr th:only-of-type {\n",
       "        vertical-align: middle;\n",
       "    }\n",
       "\n",
       "    .dataframe tbody tr th {\n",
       "        vertical-align: top;\n",
       "    }\n",
       "\n",
       "    .dataframe thead th {\n",
       "        text-align: right;\n",
       "    }\n",
       "</style>\n",
       "<table border=\"1\" class=\"dataframe\">\n",
       "  <thead>\n",
       "    <tr style=\"text-align: right;\">\n",
       "      <th></th>\n",
       "      <th>905270</th>\n",
       "      <th>921795</th>\n",
       "      <th>904261</th>\n",
       "      <th>905261</th>\n",
       "      <th>916328</th>\n",
       "      <th>923024</th>\n",
       "      <th>936365</th>\n",
       "      <th>902355</th>\n",
       "      <th>912215</th>\n",
       "      <th>929813</th>\n",
       "      <th>...</th>\n",
       "      <th>9889RL</th>\n",
       "      <th>69568X</th>\n",
       "      <th>543755</th>\n",
       "      <th>77463M</th>\n",
       "      <th>29235J</th>\n",
       "      <th>131745</th>\n",
       "      <th>69487D</th>\n",
       "      <th>68157P</th>\n",
       "      <th>9110RA</th>\n",
       "      <th>292703</th>\n",
       "    </tr>\n",
       "    <tr>\n",
       "      <th>date</th>\n",
       "      <th></th>\n",
       "      <th></th>\n",
       "      <th></th>\n",
       "      <th></th>\n",
       "      <th></th>\n",
       "      <th></th>\n",
       "      <th></th>\n",
       "      <th></th>\n",
       "      <th></th>\n",
       "      <th></th>\n",
       "      <th></th>\n",
       "      <th></th>\n",
       "      <th></th>\n",
       "      <th></th>\n",
       "      <th></th>\n",
       "      <th></th>\n",
       "      <th></th>\n",
       "      <th></th>\n",
       "      <th></th>\n",
       "      <th></th>\n",
       "      <th></th>\n",
       "    </tr>\n",
       "  </thead>\n",
       "  <tbody>\n",
       "    <tr>\n",
       "      <th>1990-01-02</th>\n",
       "      <td>22.75</td>\n",
       "      <td>12.63</td>\n",
       "      <td>30.00</td>\n",
       "      <td>29.61</td>\n",
       "      <td>3.8736</td>\n",
       "      <td>11.00</td>\n",
       "      <td>4.1250</td>\n",
       "      <td>24.50</td>\n",
       "      <td>58.00</td>\n",
       "      <td>19.00</td>\n",
       "      <td>...</td>\n",
       "      <td>NaN</td>\n",
       "      <td>NaN</td>\n",
       "      <td>NaN</td>\n",
       "      <td>NaN</td>\n",
       "      <td>NaN</td>\n",
       "      <td>NaN</td>\n",
       "      <td>NaN</td>\n",
       "      <td>NaN</td>\n",
       "      <td>NaN</td>\n",
       "      <td>NaN</td>\n",
       "    </tr>\n",
       "    <tr>\n",
       "      <th>1990-01-03</th>\n",
       "      <td>22.56</td>\n",
       "      <td>12.57</td>\n",
       "      <td>31.50</td>\n",
       "      <td>29.37</td>\n",
       "      <td>3.8876</td>\n",
       "      <td>11.00</td>\n",
       "      <td>4.0000</td>\n",
       "      <td>24.50</td>\n",
       "      <td>57.75</td>\n",
       "      <td>18.75</td>\n",
       "      <td>...</td>\n",
       "      <td>NaN</td>\n",
       "      <td>NaN</td>\n",
       "      <td>NaN</td>\n",
       "      <td>NaN</td>\n",
       "      <td>NaN</td>\n",
       "      <td>NaN</td>\n",
       "      <td>NaN</td>\n",
       "      <td>NaN</td>\n",
       "      <td>NaN</td>\n",
       "      <td>NaN</td>\n",
       "    </tr>\n",
       "    <tr>\n",
       "      <th>1990-01-04</th>\n",
       "      <td>22.38</td>\n",
       "      <td>12.41</td>\n",
       "      <td>32.25</td>\n",
       "      <td>28.89</td>\n",
       "      <td>3.8806</td>\n",
       "      <td>11.38</td>\n",
       "      <td>3.9375</td>\n",
       "      <td>24.63</td>\n",
       "      <td>57.88</td>\n",
       "      <td>18.75</td>\n",
       "      <td>...</td>\n",
       "      <td>NaN</td>\n",
       "      <td>NaN</td>\n",
       "      <td>NaN</td>\n",
       "      <td>NaN</td>\n",
       "      <td>NaN</td>\n",
       "      <td>NaN</td>\n",
       "      <td>NaN</td>\n",
       "      <td>NaN</td>\n",
       "      <td>NaN</td>\n",
       "      <td>NaN</td>\n",
       "    </tr>\n",
       "    <tr>\n",
       "      <th>1990-01-05</th>\n",
       "      <td>21.81</td>\n",
       "      <td>12.60</td>\n",
       "      <td>32.13</td>\n",
       "      <td>28.41</td>\n",
       "      <td>3.8387</td>\n",
       "      <td>11.50</td>\n",
       "      <td>3.8125</td>\n",
       "      <td>24.75</td>\n",
       "      <td>57.50</td>\n",
       "      <td>18.50</td>\n",
       "      <td>...</td>\n",
       "      <td>NaN</td>\n",
       "      <td>NaN</td>\n",
       "      <td>NaN</td>\n",
       "      <td>NaN</td>\n",
       "      <td>NaN</td>\n",
       "      <td>NaN</td>\n",
       "      <td>NaN</td>\n",
       "      <td>NaN</td>\n",
       "      <td>NaN</td>\n",
       "      <td>NaN</td>\n",
       "    </tr>\n",
       "    <tr>\n",
       "      <th>1990-01-08</th>\n",
       "      <td>22.25</td>\n",
       "      <td>12.49</td>\n",
       "      <td>32.13</td>\n",
       "      <td>29.13</td>\n",
       "      <td>3.8387</td>\n",
       "      <td>11.50</td>\n",
       "      <td>3.8125</td>\n",
       "      <td>25.00</td>\n",
       "      <td>57.75</td>\n",
       "      <td>19.13</td>\n",
       "      <td>...</td>\n",
       "      <td>NaN</td>\n",
       "      <td>NaN</td>\n",
       "      <td>NaN</td>\n",
       "      <td>NaN</td>\n",
       "      <td>NaN</td>\n",
       "      <td>NaN</td>\n",
       "      <td>NaN</td>\n",
       "      <td>NaN</td>\n",
       "      <td>NaN</td>\n",
       "      <td>NaN</td>\n",
       "    </tr>\n",
       "  </tbody>\n",
       "</table>\n",
       "<p>5 rows × 1241 columns</p>\n",
       "</div>"
      ],
      "text/plain": [
       "            905270  921795  904261  905261  916328  923024  936365  902355  \\\n",
       "date                                                                         \n",
       "1990-01-02   22.75   12.63   30.00   29.61  3.8736   11.00  4.1250   24.50   \n",
       "1990-01-03   22.56   12.57   31.50   29.37  3.8876   11.00  4.0000   24.50   \n",
       "1990-01-04   22.38   12.41   32.25   28.89  3.8806   11.38  3.9375   24.63   \n",
       "1990-01-05   21.81   12.60   32.13   28.41  3.8387   11.50  3.8125   24.75   \n",
       "1990-01-08   22.25   12.49   32.13   29.13  3.8387   11.50  3.8125   25.00   \n",
       "\n",
       "            912215  929813  ...  9889RL  69568X  543755  77463M  29235J  \\\n",
       "date                        ...                                           \n",
       "1990-01-02   58.00   19.00  ...     NaN     NaN     NaN     NaN     NaN   \n",
       "1990-01-03   57.75   18.75  ...     NaN     NaN     NaN     NaN     NaN   \n",
       "1990-01-04   57.88   18.75  ...     NaN     NaN     NaN     NaN     NaN   \n",
       "1990-01-05   57.50   18.50  ...     NaN     NaN     NaN     NaN     NaN   \n",
       "1990-01-08   57.75   19.13  ...     NaN     NaN     NaN     NaN     NaN   \n",
       "\n",
       "            131745  69487D  68157P  9110RA  292703  \n",
       "date                                                \n",
       "1990-01-02     NaN     NaN     NaN     NaN     NaN  \n",
       "1990-01-03     NaN     NaN     NaN     NaN     NaN  \n",
       "1990-01-04     NaN     NaN     NaN     NaN     NaN  \n",
       "1990-01-05     NaN     NaN     NaN     NaN     NaN  \n",
       "1990-01-08     NaN     NaN     NaN     NaN     NaN  \n",
       "\n",
       "[5 rows x 1241 columns]"
      ]
     },
     "execution_count": 450,
     "metadata": {},
     "output_type": "execute_result"
    }
   ],
   "source": [
    "prices.head()"
   ]
  },
  {
   "cell_type": "code",
   "execution_count": 451,
   "metadata": {},
   "outputs": [
    {
     "data": {
      "text/html": [
       "<div>\n",
       "<style scoped>\n",
       "    .dataframe tbody tr th:only-of-type {\n",
       "        vertical-align: middle;\n",
       "    }\n",
       "\n",
       "    .dataframe tbody tr th {\n",
       "        vertical-align: top;\n",
       "    }\n",
       "\n",
       "    .dataframe thead th {\n",
       "        text-align: right;\n",
       "    }\n",
       "</style>\n",
       "<table border=\"1\" class=\"dataframe\">\n",
       "  <thead>\n",
       "    <tr style=\"text-align: right;\">\n",
       "      <th></th>\n",
       "      <th>905270</th>\n",
       "      <th>921795</th>\n",
       "      <th>904261</th>\n",
       "      <th>905261</th>\n",
       "      <th>916328</th>\n",
       "      <th>923024</th>\n",
       "      <th>936365</th>\n",
       "      <th>902355</th>\n",
       "      <th>912215</th>\n",
       "      <th>929813</th>\n",
       "      <th>...</th>\n",
       "      <th>9889RL</th>\n",
       "      <th>69568X</th>\n",
       "      <th>543755</th>\n",
       "      <th>77463M</th>\n",
       "      <th>29235J</th>\n",
       "      <th>131745</th>\n",
       "      <th>69487D</th>\n",
       "      <th>68157P</th>\n",
       "      <th>9110RA</th>\n",
       "      <th>292703</th>\n",
       "    </tr>\n",
       "    <tr>\n",
       "      <th>date</th>\n",
       "      <th></th>\n",
       "      <th></th>\n",
       "      <th></th>\n",
       "      <th></th>\n",
       "      <th></th>\n",
       "      <th></th>\n",
       "      <th></th>\n",
       "      <th></th>\n",
       "      <th></th>\n",
       "      <th></th>\n",
       "      <th></th>\n",
       "      <th></th>\n",
       "      <th></th>\n",
       "      <th></th>\n",
       "      <th></th>\n",
       "      <th></th>\n",
       "      <th></th>\n",
       "      <th></th>\n",
       "      <th></th>\n",
       "      <th></th>\n",
       "      <th></th>\n",
       "    </tr>\n",
       "  </thead>\n",
       "  <tbody>\n",
       "    <tr>\n",
       "      <th>1990-01-02</th>\n",
       "      <td>NaN</td>\n",
       "      <td>NaN</td>\n",
       "      <td>NaN</td>\n",
       "      <td>NaN</td>\n",
       "      <td>NaN</td>\n",
       "      <td>NaN</td>\n",
       "      <td>NaN</td>\n",
       "      <td>NaN</td>\n",
       "      <td>NaN</td>\n",
       "      <td>NaN</td>\n",
       "      <td>...</td>\n",
       "      <td>NaN</td>\n",
       "      <td>NaN</td>\n",
       "      <td>NaN</td>\n",
       "      <td>NaN</td>\n",
       "      <td>NaN</td>\n",
       "      <td>NaN</td>\n",
       "      <td>NaN</td>\n",
       "      <td>NaN</td>\n",
       "      <td>NaN</td>\n",
       "      <td>NaN</td>\n",
       "    </tr>\n",
       "    <tr>\n",
       "      <th>1990-01-03</th>\n",
       "      <td>-0.835165</td>\n",
       "      <td>-0.475059</td>\n",
       "      <td>5.000000</td>\n",
       "      <td>-0.810537</td>\n",
       "      <td>0.361421</td>\n",
       "      <td>0.000000</td>\n",
       "      <td>-3.030303</td>\n",
       "      <td>0.000000</td>\n",
       "      <td>-0.431034</td>\n",
       "      <td>-1.315789</td>\n",
       "      <td>...</td>\n",
       "      <td>NaN</td>\n",
       "      <td>NaN</td>\n",
       "      <td>NaN</td>\n",
       "      <td>NaN</td>\n",
       "      <td>NaN</td>\n",
       "      <td>NaN</td>\n",
       "      <td>NaN</td>\n",
       "      <td>NaN</td>\n",
       "      <td>NaN</td>\n",
       "      <td>NaN</td>\n",
       "    </tr>\n",
       "    <tr>\n",
       "      <th>1990-01-04</th>\n",
       "      <td>-0.797872</td>\n",
       "      <td>-1.272872</td>\n",
       "      <td>2.380952</td>\n",
       "      <td>-1.634321</td>\n",
       "      <td>-0.180060</td>\n",
       "      <td>3.454545</td>\n",
       "      <td>-1.562500</td>\n",
       "      <td>0.530612</td>\n",
       "      <td>0.225108</td>\n",
       "      <td>0.000000</td>\n",
       "      <td>...</td>\n",
       "      <td>NaN</td>\n",
       "      <td>NaN</td>\n",
       "      <td>NaN</td>\n",
       "      <td>NaN</td>\n",
       "      <td>NaN</td>\n",
       "      <td>NaN</td>\n",
       "      <td>NaN</td>\n",
       "      <td>NaN</td>\n",
       "      <td>NaN</td>\n",
       "      <td>NaN</td>\n",
       "    </tr>\n",
       "    <tr>\n",
       "      <th>1990-01-05</th>\n",
       "      <td>-2.546917</td>\n",
       "      <td>1.531023</td>\n",
       "      <td>-0.372093</td>\n",
       "      <td>-1.661475</td>\n",
       "      <td>-1.079730</td>\n",
       "      <td>1.054482</td>\n",
       "      <td>-3.174603</td>\n",
       "      <td>0.487211</td>\n",
       "      <td>-0.656531</td>\n",
       "      <td>-1.333333</td>\n",
       "      <td>...</td>\n",
       "      <td>NaN</td>\n",
       "      <td>NaN</td>\n",
       "      <td>NaN</td>\n",
       "      <td>NaN</td>\n",
       "      <td>NaN</td>\n",
       "      <td>NaN</td>\n",
       "      <td>NaN</td>\n",
       "      <td>NaN</td>\n",
       "      <td>NaN</td>\n",
       "      <td>NaN</td>\n",
       "    </tr>\n",
       "    <tr>\n",
       "      <th>1990-01-08</th>\n",
       "      <td>2.017423</td>\n",
       "      <td>-0.873016</td>\n",
       "      <td>0.000000</td>\n",
       "      <td>2.534319</td>\n",
       "      <td>0.000000</td>\n",
       "      <td>0.000000</td>\n",
       "      <td>0.000000</td>\n",
       "      <td>1.010101</td>\n",
       "      <td>0.434783</td>\n",
       "      <td>3.405405</td>\n",
       "      <td>...</td>\n",
       "      <td>NaN</td>\n",
       "      <td>NaN</td>\n",
       "      <td>NaN</td>\n",
       "      <td>NaN</td>\n",
       "      <td>NaN</td>\n",
       "      <td>NaN</td>\n",
       "      <td>NaN</td>\n",
       "      <td>NaN</td>\n",
       "      <td>NaN</td>\n",
       "      <td>NaN</td>\n",
       "    </tr>\n",
       "  </tbody>\n",
       "</table>\n",
       "<p>5 rows × 1241 columns</p>\n",
       "</div>"
      ],
      "text/plain": [
       "              905270    921795    904261    905261    916328    923024  \\\n",
       "date                                                                     \n",
       "1990-01-02       NaN       NaN       NaN       NaN       NaN       NaN   \n",
       "1990-01-03 -0.835165 -0.475059  5.000000 -0.810537  0.361421  0.000000   \n",
       "1990-01-04 -0.797872 -1.272872  2.380952 -1.634321 -0.180060  3.454545   \n",
       "1990-01-05 -2.546917  1.531023 -0.372093 -1.661475 -1.079730  1.054482   \n",
       "1990-01-08  2.017423 -0.873016  0.000000  2.534319  0.000000  0.000000   \n",
       "\n",
       "              936365    902355    912215    929813  ...  9889RL  69568X  \\\n",
       "date                                                ...                   \n",
       "1990-01-02       NaN       NaN       NaN       NaN  ...     NaN     NaN   \n",
       "1990-01-03 -3.030303  0.000000 -0.431034 -1.315789  ...     NaN     NaN   \n",
       "1990-01-04 -1.562500  0.530612  0.225108  0.000000  ...     NaN     NaN   \n",
       "1990-01-05 -3.174603  0.487211 -0.656531 -1.333333  ...     NaN     NaN   \n",
       "1990-01-08  0.000000  1.010101  0.434783  3.405405  ...     NaN     NaN   \n",
       "\n",
       "            543755  77463M  29235J  131745  69487D  68157P  9110RA  292703  \n",
       "date                                                                        \n",
       "1990-01-02     NaN     NaN     NaN     NaN     NaN     NaN     NaN     NaN  \n",
       "1990-01-03     NaN     NaN     NaN     NaN     NaN     NaN     NaN     NaN  \n",
       "1990-01-04     NaN     NaN     NaN     NaN     NaN     NaN     NaN     NaN  \n",
       "1990-01-05     NaN     NaN     NaN     NaN     NaN     NaN     NaN     NaN  \n",
       "1990-01-08     NaN     NaN     NaN     NaN     NaN     NaN     NaN     NaN  \n",
       "\n",
       "[5 rows x 1241 columns]"
      ]
     },
     "execution_count": 451,
     "metadata": {},
     "output_type": "execute_result"
    }
   ],
   "source": [
    "daily_returns.head()"
   ]
  },
  {
   "cell_type": "code",
   "execution_count": 452,
   "metadata": {},
   "outputs": [],
   "source": [
    "#Resample to weekly\n",
    "weekly_returns = prices.resample('W').mean()\n",
    "\n",
    "#Convert prices into weekly returns\n",
    "for col in weekly_returns.columns:\n",
    "    weekly_returns[col] = weekly_returns[col].pct_change()*100"
   ]
  },
  {
   "cell_type": "code",
   "execution_count": 453,
   "metadata": {},
   "outputs": [
    {
     "data": {
      "text/html": [
       "<div>\n",
       "<style scoped>\n",
       "    .dataframe tbody tr th:only-of-type {\n",
       "        vertical-align: middle;\n",
       "    }\n",
       "\n",
       "    .dataframe tbody tr th {\n",
       "        vertical-align: top;\n",
       "    }\n",
       "\n",
       "    .dataframe thead th {\n",
       "        text-align: right;\n",
       "    }\n",
       "</style>\n",
       "<table border=\"1\" class=\"dataframe\">\n",
       "  <thead>\n",
       "    <tr style=\"text-align: right;\">\n",
       "      <th></th>\n",
       "      <th>905270</th>\n",
       "      <th>921795</th>\n",
       "      <th>904261</th>\n",
       "      <th>905261</th>\n",
       "      <th>916328</th>\n",
       "      <th>923024</th>\n",
       "      <th>936365</th>\n",
       "      <th>902355</th>\n",
       "      <th>912215</th>\n",
       "      <th>929813</th>\n",
       "      <th>...</th>\n",
       "      <th>9889RL</th>\n",
       "      <th>69568X</th>\n",
       "      <th>543755</th>\n",
       "      <th>77463M</th>\n",
       "      <th>29235J</th>\n",
       "      <th>131745</th>\n",
       "      <th>69487D</th>\n",
       "      <th>68157P</th>\n",
       "      <th>9110RA</th>\n",
       "      <th>292703</th>\n",
       "    </tr>\n",
       "    <tr>\n",
       "      <th>date</th>\n",
       "      <th></th>\n",
       "      <th></th>\n",
       "      <th></th>\n",
       "      <th></th>\n",
       "      <th></th>\n",
       "      <th></th>\n",
       "      <th></th>\n",
       "      <th></th>\n",
       "      <th></th>\n",
       "      <th></th>\n",
       "      <th></th>\n",
       "      <th></th>\n",
       "      <th></th>\n",
       "      <th></th>\n",
       "      <th></th>\n",
       "      <th></th>\n",
       "      <th></th>\n",
       "      <th></th>\n",
       "      <th></th>\n",
       "      <th></th>\n",
       "      <th></th>\n",
       "    </tr>\n",
       "  </thead>\n",
       "  <tbody>\n",
       "    <tr>\n",
       "      <th>1990-01-07</th>\n",
       "      <td>NaN</td>\n",
       "      <td>NaN</td>\n",
       "      <td>NaN</td>\n",
       "      <td>NaN</td>\n",
       "      <td>NaN</td>\n",
       "      <td>NaN</td>\n",
       "      <td>NaN</td>\n",
       "      <td>NaN</td>\n",
       "      <td>NaN</td>\n",
       "      <td>NaN</td>\n",
       "      <td>...</td>\n",
       "      <td>NaN</td>\n",
       "      <td>NaN</td>\n",
       "      <td>NaN</td>\n",
       "      <td>NaN</td>\n",
       "      <td>NaN</td>\n",
       "      <td>NaN</td>\n",
       "      <td>NaN</td>\n",
       "      <td>NaN</td>\n",
       "      <td>NaN</td>\n",
       "      <td>NaN</td>\n",
       "    </tr>\n",
       "    <tr>\n",
       "      <th>1990-01-14</th>\n",
       "      <td>-2.176536</td>\n",
       "      <td>-4.592711</td>\n",
       "      <td>2.167143</td>\n",
       "      <td>-2.043344</td>\n",
       "      <td>-1.896709</td>\n",
       "      <td>0.285205</td>\n",
       "      <td>-3.622047</td>\n",
       "      <td>0.841634</td>\n",
       "      <td>-1.828408</td>\n",
       "      <td>-2.378667</td>\n",
       "      <td>...</td>\n",
       "      <td>NaN</td>\n",
       "      <td>NaN</td>\n",
       "      <td>NaN</td>\n",
       "      <td>NaN</td>\n",
       "      <td>NaN</td>\n",
       "      <td>NaN</td>\n",
       "      <td>NaN</td>\n",
       "      <td>NaN</td>\n",
       "      <td>NaN</td>\n",
       "      <td>NaN</td>\n",
       "    </tr>\n",
       "    <tr>\n",
       "      <th>1990-01-21</th>\n",
       "      <td>-0.849781</td>\n",
       "      <td>-1.285905</td>\n",
       "      <td>-2.724558</td>\n",
       "      <td>-4.860233</td>\n",
       "      <td>-1.693567</td>\n",
       "      <td>-5.545681</td>\n",
       "      <td>-0.980392</td>\n",
       "      <td>-1.516007</td>\n",
       "      <td>-5.285054</td>\n",
       "      <td>-4.927885</td>\n",
       "      <td>...</td>\n",
       "      <td>NaN</td>\n",
       "      <td>NaN</td>\n",
       "      <td>NaN</td>\n",
       "      <td>NaN</td>\n",
       "      <td>NaN</td>\n",
       "      <td>NaN</td>\n",
       "      <td>NaN</td>\n",
       "      <td>NaN</td>\n",
       "      <td>NaN</td>\n",
       "      <td>NaN</td>\n",
       "    </tr>\n",
       "    <tr>\n",
       "      <th>1990-01-28</th>\n",
       "      <td>3.160999</td>\n",
       "      <td>1.184233</td>\n",
       "      <td>-11.740632</td>\n",
       "      <td>-4.709877</td>\n",
       "      <td>-1.761860</td>\n",
       "      <td>-4.704554</td>\n",
       "      <td>-0.990099</td>\n",
       "      <td>-4.396954</td>\n",
       "      <td>-7.400238</td>\n",
       "      <td>-0.436731</td>\n",
       "      <td>...</td>\n",
       "      <td>NaN</td>\n",
       "      <td>NaN</td>\n",
       "      <td>NaN</td>\n",
       "      <td>NaN</td>\n",
       "      <td>NaN</td>\n",
       "      <td>NaN</td>\n",
       "      <td>NaN</td>\n",
       "      <td>NaN</td>\n",
       "      <td>NaN</td>\n",
       "      <td>NaN</td>\n",
       "    </tr>\n",
       "    <tr>\n",
       "      <th>1990-02-04</th>\n",
       "      <td>1.170270</td>\n",
       "      <td>-4.698211</td>\n",
       "      <td>0.449210</td>\n",
       "      <td>-4.315153</td>\n",
       "      <td>-0.877093</td>\n",
       "      <td>-1.481043</td>\n",
       "      <td>-3.666667</td>\n",
       "      <td>3.537170</td>\n",
       "      <td>-0.253256</td>\n",
       "      <td>1.743045</td>\n",
       "      <td>...</td>\n",
       "      <td>NaN</td>\n",
       "      <td>NaN</td>\n",
       "      <td>NaN</td>\n",
       "      <td>NaN</td>\n",
       "      <td>NaN</td>\n",
       "      <td>NaN</td>\n",
       "      <td>NaN</td>\n",
       "      <td>NaN</td>\n",
       "      <td>NaN</td>\n",
       "      <td>NaN</td>\n",
       "    </tr>\n",
       "  </tbody>\n",
       "</table>\n",
       "<p>5 rows × 1241 columns</p>\n",
       "</div>"
      ],
      "text/plain": [
       "              905270    921795     904261    905261    916328    923024  \\\n",
       "date                                                                      \n",
       "1990-01-07       NaN       NaN        NaN       NaN       NaN       NaN   \n",
       "1990-01-14 -2.176536 -4.592711   2.167143 -2.043344 -1.896709  0.285205   \n",
       "1990-01-21 -0.849781 -1.285905  -2.724558 -4.860233 -1.693567 -5.545681   \n",
       "1990-01-28  3.160999  1.184233 -11.740632 -4.709877 -1.761860 -4.704554   \n",
       "1990-02-04  1.170270 -4.698211   0.449210 -4.315153 -0.877093 -1.481043   \n",
       "\n",
       "              936365    902355    912215    929813  ...  9889RL  69568X  \\\n",
       "date                                                ...                   \n",
       "1990-01-07       NaN       NaN       NaN       NaN  ...     NaN     NaN   \n",
       "1990-01-14 -3.622047  0.841634 -1.828408 -2.378667  ...     NaN     NaN   \n",
       "1990-01-21 -0.980392 -1.516007 -5.285054 -4.927885  ...     NaN     NaN   \n",
       "1990-01-28 -0.990099 -4.396954 -7.400238 -0.436731  ...     NaN     NaN   \n",
       "1990-02-04 -3.666667  3.537170 -0.253256  1.743045  ...     NaN     NaN   \n",
       "\n",
       "            543755  77463M  29235J  131745  69487D  68157P  9110RA  292703  \n",
       "date                                                                        \n",
       "1990-01-07     NaN     NaN     NaN     NaN     NaN     NaN     NaN     NaN  \n",
       "1990-01-14     NaN     NaN     NaN     NaN     NaN     NaN     NaN     NaN  \n",
       "1990-01-21     NaN     NaN     NaN     NaN     NaN     NaN     NaN     NaN  \n",
       "1990-01-28     NaN     NaN     NaN     NaN     NaN     NaN     NaN     NaN  \n",
       "1990-02-04     NaN     NaN     NaN     NaN     NaN     NaN     NaN     NaN  \n",
       "\n",
       "[5 rows x 1241 columns]"
      ]
     },
     "execution_count": 453,
     "metadata": {},
     "output_type": "execute_result"
    }
   ],
   "source": [
    "weekly_returns.head()"
   ]
  },
  {
   "cell_type": "code",
   "execution_count": 454,
   "metadata": {},
   "outputs": [
    {
     "data": {
      "text/plain": [
       "[<matplotlib.lines.Line2D at 0x7fac9d0c4d60>]"
      ]
     },
     "execution_count": 454,
     "metadata": {},
     "output_type": "execute_result"
    },
    {
     "data": {
      "image/png": "[encoded data removed]",
      "text/plain": [
       "<Figure size 432x288 with 1 Axes>"
      ]
     },
     "metadata": {
      "needs_background": "light"
     },
     "output_type": "display_data"
    }
   ],
   "source": [
    "plt.plot(daily_returns['916328'])"
   ]
  },
  {
   "cell_type": "code",
   "execution_count": 455,
   "metadata": {},
   "outputs": [
    {
     "name": "stderr",
     "output_type": "stream",
     "text": [
      "<ipython-input-455-ef4fe0dce221>:2: UserWarning: Matplotlib is currently using agg, which is a non-GUI backend, so cannot show the figure.\n",
      "  plt.show()\n"
     ]
    },
    {
     "data": {
      "image/png": "[encoded data removed]",
      "text/plain": [
       "<Figure size 432x288 with 1 Axes>"
      ]
     },
     "metadata": {
      "needs_background": "light"
     },
     "output_type": "display_data"
    }
   ],
   "source": [
    "daily_returns['916328'].hist(bins=100)\n",
    "plt.show()"
   ]
  },
  {
   "cell_type": "code",
   "execution_count": 456,
   "metadata": {},
   "outputs": [],
   "source": [
    "# # Define the strategy\n",
    "# bt_strategy = bt.Strategy('Trade_Weekly',    \n",
    "#                           [bt.algos.RunWeekly(), # Run weekly  \n",
    "#                            bt.algos.SelectAll(), # Use all data   \n",
    "#                            bt.algos.WeighEqually(), # Maintain equal weights                \n",
    "#                            bt.algos.Rebalance()]) # Rebalance\n",
    "\n",
    "# # Create a backtest\n",
    "# bt_test = bt.Backtest(bt_strategy, prices.loc[:,['916328','68157P']])\n",
    "\n",
    "# # Run the backtest\n",
    "# bt_res = bt.run(bt_test)\n",
    "\n",
    "# # Plot the result\n",
    "# bt_res.plot(title=\"Backtest result\")\n",
    "\n",
    "# # Get trade details\n",
    "# bt_res.get_transactions()"
   ]
  },
  {
   "cell_type": "code",
   "execution_count": 481,
   "metadata": {},
   "outputs": [
    {
     "data": {
      "text/html": [
       "<div>\n",
       "<style scoped>\n",
       "    .dataframe tbody tr th:only-of-type {\n",
       "        vertical-align: middle;\n",
       "    }\n",
       "\n",
       "    .dataframe tbody tr th {\n",
       "        vertical-align: top;\n",
       "    }\n",
       "\n",
       "    .dataframe thead th {\n",
       "        text-align: right;\n",
       "    }\n",
       "</style>\n",
       "<table border=\"1\" class=\"dataframe\">\n",
       "  <thead>\n",
       "    <tr style=\"text-align: right;\">\n",
       "      <th></th>\n",
       "      <th>Instrument</th>\n",
       "      <th>MNEM</th>\n",
       "      <th>RIC</th>\n",
       "      <th>ISIN</th>\n",
       "      <th>NAME</th>\n",
       "      <th>ESTAT</th>\n",
       "    </tr>\n",
       "  </thead>\n",
       "  <tbody>\n",
       "    <tr>\n",
       "      <th>6</th>\n",
       "      <td>936365</td>\n",
       "      <td>@AMD</td>\n",
       "      <td>AMD.O</td>\n",
       "      <td>US0079031078</td>\n",
       "      <td>ADVANCED MICRO DEVICES</td>\n",
       "      <td>ACT.</td>\n",
       "    </tr>\n",
       "  </tbody>\n",
       "</table>\n",
       "</div>"
      ],
      "text/plain": [
       "  Instrument  MNEM    RIC          ISIN                    NAME ESTAT\n",
       "6     936365  @AMD  AMD.O  US0079031078  ADVANCED MICRO DEVICES  ACT."
      ]
     },
     "execution_count": 481,
     "metadata": {},
     "output_type": "execute_result"
    }
   ],
   "source": [
    "active_stocks = info[info['ESTAT'] == 'ACT.']\n",
    "active_stocks[active_stocks[\"MNEM\"].str.contains(\"AMD\", na = False)]"
   ]
  },
  {
   "cell_type": "code",
   "execution_count": 482,
   "metadata": {},
   "outputs": [
    {
     "data": {
      "text/html": [
       "<div>\n",
       "<style scoped>\n",
       "    .dataframe tbody tr th:only-of-type {\n",
       "        vertical-align: middle;\n",
       "    }\n",
       "\n",
       "    .dataframe tbody tr th {\n",
       "        vertical-align: top;\n",
       "    }\n",
       "\n",
       "    .dataframe thead th {\n",
       "        text-align: right;\n",
       "    }\n",
       "</style>\n",
       "<table border=\"1\" class=\"dataframe\">\n",
       "  <thead>\n",
       "    <tr style=\"text-align: right;\">\n",
       "      <th></th>\n",
       "      <th>close_price</th>\n",
       "    </tr>\n",
       "    <tr>\n",
       "      <th>date</th>\n",
       "      <th></th>\n",
       "    </tr>\n",
       "  </thead>\n",
       "  <tbody>\n",
       "    <tr>\n",
       "      <th>2020-05-01</th>\n",
       "      <td>49.88</td>\n",
       "    </tr>\n",
       "    <tr>\n",
       "      <th>2020-05-04</th>\n",
       "      <td>52.56</td>\n",
       "    </tr>\n",
       "    <tr>\n",
       "      <th>2020-05-05</th>\n",
       "      <td>52.19</td>\n",
       "    </tr>\n",
       "    <tr>\n",
       "      <th>2020-05-06</th>\n",
       "      <td>52.16</td>\n",
       "    </tr>\n",
       "    <tr>\n",
       "      <th>2020-05-07</th>\n",
       "      <td>51.95</td>\n",
       "    </tr>\n",
       "    <tr>\n",
       "      <th>...</th>\n",
       "      <td>...</td>\n",
       "    </tr>\n",
       "    <tr>\n",
       "      <th>2021-05-24</th>\n",
       "      <td>77.44</td>\n",
       "    </tr>\n",
       "    <tr>\n",
       "      <th>2021-05-25</th>\n",
       "      <td>77.86</td>\n",
       "    </tr>\n",
       "    <tr>\n",
       "      <th>2021-05-26</th>\n",
       "      <td>78.34</td>\n",
       "    </tr>\n",
       "    <tr>\n",
       "      <th>2021-05-27</th>\n",
       "      <td>78.42</td>\n",
       "    </tr>\n",
       "    <tr>\n",
       "      <th>2021-05-28</th>\n",
       "      <td>80.08</td>\n",
       "    </tr>\n",
       "  </tbody>\n",
       "</table>\n",
       "<p>272 rows × 1 columns</p>\n",
       "</div>"
      ],
      "text/plain": [
       "            close_price\n",
       "date                   \n",
       "2020-05-01        49.88\n",
       "2020-05-04        52.56\n",
       "2020-05-05        52.19\n",
       "2020-05-06        52.16\n",
       "2020-05-07        51.95\n",
       "...                 ...\n",
       "2021-05-24        77.44\n",
       "2021-05-25        77.86\n",
       "2021-05-26        78.34\n",
       "2021-05-27        78.42\n",
       "2021-05-28        80.08\n",
       "\n",
       "[272 rows x 1 columns]"
      ]
     },
     "execution_count": 482,
     "metadata": {},
     "output_type": "execute_result"
    }
   ],
   "source": [
    "amd = pd.DataFrame(prices['936365']).loc['2020-05-1':'2021-05-31']\n",
    "amd = amd.dropna()\n",
    "amd.columns = ['close_price']\n",
    "amd"
   ]
  },
  {
   "cell_type": "markdown",
   "metadata": {},
   "source": [
    "### SMAs"
   ]
  },
  {
   "cell_type": "code",
   "execution_count": 483,
   "metadata": {},
   "outputs": [
    {
     "data": {
      "text/html": [
       "<div>\n",
       "<style scoped>\n",
       "    .dataframe tbody tr th:only-of-type {\n",
       "        vertical-align: middle;\n",
       "    }\n",
       "\n",
       "    .dataframe tbody tr th {\n",
       "        vertical-align: top;\n",
       "    }\n",
       "\n",
       "    .dataframe thead th {\n",
       "        text-align: right;\n",
       "    }\n",
       "</style>\n",
       "<table border=\"1\" class=\"dataframe\">\n",
       "  <thead>\n",
       "    <tr style=\"text-align: right;\">\n",
       "      <th></th>\n",
       "      <th>close_price</th>\n",
       "      <th>SMA_10</th>\n",
       "      <th>SMA_50</th>\n",
       "    </tr>\n",
       "    <tr>\n",
       "      <th>date</th>\n",
       "      <th></th>\n",
       "      <th></th>\n",
       "      <th></th>\n",
       "    </tr>\n",
       "  </thead>\n",
       "  <tbody>\n",
       "    <tr>\n",
       "      <th>2021-05-24</th>\n",
       "      <td>77.44</td>\n",
       "      <td>75.714</td>\n",
       "      <td>79.3808</td>\n",
       "    </tr>\n",
       "    <tr>\n",
       "      <th>2021-05-25</th>\n",
       "      <td>77.86</td>\n",
       "      <td>75.817</td>\n",
       "      <td>79.2880</td>\n",
       "    </tr>\n",
       "    <tr>\n",
       "      <th>2021-05-26</th>\n",
       "      <td>78.34</td>\n",
       "      <td>76.187</td>\n",
       "      <td>79.1998</td>\n",
       "    </tr>\n",
       "    <tr>\n",
       "      <th>2021-05-27</th>\n",
       "      <td>78.42</td>\n",
       "      <td>76.720</td>\n",
       "      <td>79.1156</td>\n",
       "    </tr>\n",
       "    <tr>\n",
       "      <th>2021-05-28</th>\n",
       "      <td>80.08</td>\n",
       "      <td>77.269</td>\n",
       "      <td>79.1548</td>\n",
       "    </tr>\n",
       "  </tbody>\n",
       "</table>\n",
       "</div>"
      ],
      "text/plain": [
       "            close_price  SMA_10   SMA_50\n",
       "date                                    \n",
       "2021-05-24        77.44  75.714  79.3808\n",
       "2021-05-25        77.86  75.817  79.2880\n",
       "2021-05-26        78.34  76.187  79.1998\n",
       "2021-05-27        78.42  76.720  79.1156\n",
       "2021-05-28        80.08  77.269  79.1548"
      ]
     },
     "execution_count": 483,
     "metadata": {},
     "output_type": "execute_result"
    }
   ],
   "source": [
    "# Calculate two SMAs\n",
    "amd['SMA_10'] = ta.SMA(amd['close_price'], timeperiod=10)\n",
    "amd['SMA_50'] = ta.SMA(amd['close_price'], timeperiod=50)\n",
    "\n",
    "# Print the last five rows\n",
    "amd.tail()"
   ]
  },
  {
   "cell_type": "code",
   "execution_count": 484,
   "metadata": {},
   "outputs": [
    {
     "name": "stderr",
     "output_type": "stream",
     "text": [
      "<ipython-input-484-b6e13b21bbd9>:14: UserWarning: Matplotlib is currently using agg, which is a non-GUI backend, so cannot show the figure.\n",
      "  plt.show()\n"
     ]
    },
    {
     "data": {
      "image/png": "[encoded data removed]",
      "text/plain": [
       "<Figure size 432x288 with 1 Axes>"
      ]
     },
     "metadata": {
      "needs_background": "light"
     },
     "output_type": "display_data"
    }
   ],
   "source": [
    "import matplotlib.pyplot as plt\n",
    "\n",
    "# Plot SMA with the price\n",
    "plt.plot(amd['SMA_10'],  \n",
    "         label='SMA_short')\n",
    "plt.plot(amd['SMA_50'],  \n",
    "         label='SMA_long')\n",
    "plt.plot(amd['close_price'],          \n",
    "         label='Close Price')\n",
    "\n",
    "# Customize and show the plot\n",
    "plt.legend()\n",
    "plt.title('SMAs')\n",
    "plt.show()"
   ]
  },
  {
   "cell_type": "markdown",
   "metadata": {},
   "source": [
    "### EMAs"
   ]
  },
  {
   "cell_type": "code",
   "execution_count": 485,
   "metadata": {},
   "outputs": [
    {
     "data": {
      "text/html": [
       "<div>\n",
       "<style scoped>\n",
       "    .dataframe tbody tr th:only-of-type {\n",
       "        vertical-align: middle;\n",
       "    }\n",
       "\n",
       "    .dataframe tbody tr th {\n",
       "        vertical-align: top;\n",
       "    }\n",
       "\n",
       "    .dataframe thead th {\n",
       "        text-align: right;\n",
       "    }\n",
       "</style>\n",
       "<table border=\"1\" class=\"dataframe\">\n",
       "  <thead>\n",
       "    <tr style=\"text-align: right;\">\n",
       "      <th></th>\n",
       "      <th>close_price</th>\n",
       "      <th>SMA_10</th>\n",
       "      <th>SMA_50</th>\n",
       "      <th>EMA_10</th>\n",
       "      <th>EMA_50</th>\n",
       "    </tr>\n",
       "    <tr>\n",
       "      <th>date</th>\n",
       "      <th></th>\n",
       "      <th></th>\n",
       "      <th></th>\n",
       "      <th></th>\n",
       "      <th></th>\n",
       "    </tr>\n",
       "  </thead>\n",
       "  <tbody>\n",
       "    <tr>\n",
       "      <th>2021-05-24</th>\n",
       "      <td>77.44</td>\n",
       "      <td>75.714</td>\n",
       "      <td>79.3808</td>\n",
       "      <td>76.692233</td>\n",
       "      <td>79.621325</td>\n",
       "    </tr>\n",
       "    <tr>\n",
       "      <th>2021-05-25</th>\n",
       "      <td>77.86</td>\n",
       "      <td>75.817</td>\n",
       "      <td>79.2880</td>\n",
       "      <td>76.904554</td>\n",
       "      <td>79.552254</td>\n",
       "    </tr>\n",
       "    <tr>\n",
       "      <th>2021-05-26</th>\n",
       "      <td>78.34</td>\n",
       "      <td>76.187</td>\n",
       "      <td>79.1998</td>\n",
       "      <td>77.165544</td>\n",
       "      <td>79.504714</td>\n",
       "    </tr>\n",
       "    <tr>\n",
       "      <th>2021-05-27</th>\n",
       "      <td>78.42</td>\n",
       "      <td>76.720</td>\n",
       "      <td>79.1156</td>\n",
       "      <td>77.393627</td>\n",
       "      <td>79.462177</td>\n",
       "    </tr>\n",
       "    <tr>\n",
       "      <th>2021-05-28</th>\n",
       "      <td>80.08</td>\n",
       "      <td>77.269</td>\n",
       "      <td>79.1548</td>\n",
       "      <td>77.882059</td>\n",
       "      <td>79.486405</td>\n",
       "    </tr>\n",
       "  </tbody>\n",
       "</table>\n",
       "</div>"
      ],
      "text/plain": [
       "            close_price  SMA_10   SMA_50     EMA_10     EMA_50\n",
       "date                                                          \n",
       "2021-05-24        77.44  75.714  79.3808  76.692233  79.621325\n",
       "2021-05-25        77.86  75.817  79.2880  76.904554  79.552254\n",
       "2021-05-26        78.34  76.187  79.1998  77.165544  79.504714\n",
       "2021-05-27        78.42  76.720  79.1156  77.393627  79.462177\n",
       "2021-05-28        80.08  77.269  79.1548  77.882059  79.486405"
      ]
     },
     "execution_count": 485,
     "metadata": {},
     "output_type": "execute_result"
    }
   ],
   "source": [
    "# Calculate two EMAs\n",
    "amd['EMA_10'] = ta.EMA(amd['close_price'], timeperiod=10)\n",
    "amd['EMA_50'] = ta.EMA(amd['close_price'], timeperiod=50)\n",
    "\n",
    "# Print the last five rows\n",
    "amd.tail()"
   ]
  },
  {
   "cell_type": "code",
   "execution_count": 486,
   "metadata": {},
   "outputs": [
    {
     "name": "stderr",
     "output_type": "stream",
     "text": [
      "<ipython-input-486-3c2d243a21d0>:14: UserWarning: Matplotlib is currently using agg, which is a non-GUI backend, so cannot show the figure.\n",
      "  plt.show()\n"
     ]
    },
    {
     "data": {
      "image/png": "[encoded data removed]",
      "text/plain": [
       "<Figure size 432x288 with 1 Axes>"
      ]
     },
     "metadata": {
      "needs_background": "light"
     },
     "output_type": "display_data"
    }
   ],
   "source": [
    "import matplotlib.pyplot as plt\n",
    "\n",
    "# Plot SMA with the price\n",
    "plt.plot(amd['EMA_10'],  \n",
    "         label='EMA_short')\n",
    "plt.plot(amd['EMA_50'],  \n",
    "         label='EMA_long')\n",
    "plt.plot(amd['close_price'],          \n",
    "         label='Close Price')\n",
    "\n",
    "# Customize and show the plot\n",
    "plt.legend()\n",
    "plt.title('EMAs')\n",
    "plt.show()"
   ]
  },
  {
   "cell_type": "markdown",
   "metadata": {},
   "source": [
    "### RSI"
   ]
  },
  {
   "cell_type": "code",
   "execution_count": 487,
   "metadata": {},
   "outputs": [
    {
     "data": {
      "text/html": [
       "<div>\n",
       "<style scoped>\n",
       "    .dataframe tbody tr th:only-of-type {\n",
       "        vertical-align: middle;\n",
       "    }\n",
       "\n",
       "    .dataframe tbody tr th {\n",
       "        vertical-align: top;\n",
       "    }\n",
       "\n",
       "    .dataframe thead th {\n",
       "        text-align: right;\n",
       "    }\n",
       "</style>\n",
       "<table border=\"1\" class=\"dataframe\">\n",
       "  <thead>\n",
       "    <tr style=\"text-align: right;\">\n",
       "      <th></th>\n",
       "      <th>close_price</th>\n",
       "      <th>SMA_10</th>\n",
       "      <th>SMA_50</th>\n",
       "      <th>EMA_10</th>\n",
       "      <th>EMA_50</th>\n",
       "      <th>RSI</th>\n",
       "    </tr>\n",
       "    <tr>\n",
       "      <th>date</th>\n",
       "      <th></th>\n",
       "      <th></th>\n",
       "      <th></th>\n",
       "      <th></th>\n",
       "      <th></th>\n",
       "      <th></th>\n",
       "    </tr>\n",
       "  </thead>\n",
       "  <tbody>\n",
       "    <tr>\n",
       "      <th>2021-05-24</th>\n",
       "      <td>77.44</td>\n",
       "      <td>75.714</td>\n",
       "      <td>79.3808</td>\n",
       "      <td>76.692233</td>\n",
       "      <td>79.621325</td>\n",
       "      <td>48.164747</td>\n",
       "    </tr>\n",
       "    <tr>\n",
       "      <th>2021-05-25</th>\n",
       "      <td>77.86</td>\n",
       "      <td>75.817</td>\n",
       "      <td>79.2880</td>\n",
       "      <td>76.904554</td>\n",
       "      <td>79.552254</td>\n",
       "      <td>49.412595</td>\n",
       "    </tr>\n",
       "    <tr>\n",
       "      <th>2021-05-26</th>\n",
       "      <td>78.34</td>\n",
       "      <td>76.187</td>\n",
       "      <td>79.1998</td>\n",
       "      <td>77.165544</td>\n",
       "      <td>79.504714</td>\n",
       "      <td>50.868306</td>\n",
       "    </tr>\n",
       "    <tr>\n",
       "      <th>2021-05-27</th>\n",
       "      <td>78.42</td>\n",
       "      <td>76.720</td>\n",
       "      <td>79.1156</td>\n",
       "      <td>77.393627</td>\n",
       "      <td>79.462177</td>\n",
       "      <td>51.120764</td>\n",
       "    </tr>\n",
       "    <tr>\n",
       "      <th>2021-05-28</th>\n",
       "      <td>80.08</td>\n",
       "      <td>77.269</td>\n",
       "      <td>79.1548</td>\n",
       "      <td>77.882059</td>\n",
       "      <td>79.486405</td>\n",
       "      <td>56.155186</td>\n",
       "    </tr>\n",
       "  </tbody>\n",
       "</table>\n",
       "</div>"
      ],
      "text/plain": [
       "            close_price  SMA_10   SMA_50     EMA_10     EMA_50        RSI\n",
       "date                                                                     \n",
       "2021-05-24        77.44  75.714  79.3808  76.692233  79.621325  48.164747\n",
       "2021-05-25        77.86  75.817  79.2880  76.904554  79.552254  49.412595\n",
       "2021-05-26        78.34  76.187  79.1998  77.165544  79.504714  50.868306\n",
       "2021-05-27        78.42  76.720  79.1156  77.393627  79.462177  51.120764\n",
       "2021-05-28        80.08  77.269  79.1548  77.882059  79.486405  56.155186"
      ]
     },
     "execution_count": 487,
     "metadata": {},
     "output_type": "execute_result"
    }
   ],
   "source": [
    "# Calculate RSI\n",
    "amd['RSI'] = ta.RSI(amd['close_price'], timeperiod=14)\n",
    "\n",
    "# Print the last five rows\n",
    "amd.tail()"
   ]
  },
  {
   "cell_type": "code",
   "execution_count": 488,
   "metadata": {},
   "outputs": [
    {
     "name": "stderr",
     "output_type": "stream",
     "text": [
      "<ipython-input-488-e59da4136c60>:13: UserWarning: Matplotlib is currently using agg, which is a non-GUI backend, so cannot show the figure.\n",
      "  plt.show()\n"
     ]
    },
    {
     "data": {
      "image/png": "[encoded data removed]",
      "text/plain": [
       "<Figure size 432x288 with 2 Axes>"
      ]
     },
     "metadata": {
      "needs_background": "light"
     },
     "output_type": "display_data"
    }
   ],
   "source": [
    "import matplotlib.pyplot as plt\n",
    "\n",
    "# Create subplots\n",
    "fig, (ax1, ax2) = plt.subplots(2)\n",
    "\n",
    "# Plot RSI with the price\n",
    "ax1.set_ylabel('Price')\n",
    "ax1.plot(amd['close_price'])\n",
    "ax2.set_ylabel('RSI')\n",
    "ax2.plot(amd['RSI'])\n",
    "\n",
    "ax1.set_title('Price and RSI')\n",
    "plt.show()"
   ]
  },
  {
   "cell_type": "markdown",
   "metadata": {},
   "source": [
    "### Bollinger Bands"
   ]
  },
  {
   "cell_type": "code",
   "execution_count": 465,
   "metadata": {},
   "outputs": [],
   "source": [
    "# Define the Bollinger Bands\n",
    "upper, mid, lower = ta.BBANDS(amd['close_price'], \n",
    "                                 nbdevup=2,     \n",
    "                                 nbdevdn=2,        \n",
    "                                 timeperiod=20)"
   ]
  },
  {
   "cell_type": "code",
   "execution_count": 466,
   "metadata": {},
   "outputs": [
    {
     "name": "stderr",
     "output_type": "stream",
     "text": [
      "<ipython-input-466-080d262b9d54>:12: UserWarning: Matplotlib is currently using agg, which is a non-GUI backend, so cannot show the figure.\n",
      "  plt.show()\n"
     ]
    },
    {
     "data": {
      "image/png": "[encoded data removed]",
      "text/plain": [
       "<Figure size 432x288 with 1 Axes>"
      ]
     },
     "metadata": {
      "needs_background": "light"
     },
     "output_type": "display_data"
    }
   ],
   "source": [
    "import matplotlib.pyplot as plt\n",
    "\n",
    "# Plot the Bollinger Bands \n",
    "plt.plot(amd['close_price'], label='Price')\n",
    "plt.plot(upper, label=\"Upper band\")\n",
    "plt.plot(mid, label='Middle band')\n",
    "plt.plot(lower, label='Lower band')\n",
    "\n",
    "# Customize and show the plot\n",
    "plt.title('Bollinger Bands')\n",
    "plt.legend()\n",
    "plt.show()"
   ]
  },
  {
   "cell_type": "markdown",
   "metadata": {},
   "source": [
    "### Feature Creation"
   ]
  },
  {
   "cell_type": "code",
   "execution_count": 467,
   "metadata": {},
   "outputs": [],
   "source": [
    "amd_prices = pd.DataFrame(prices['936365']).loc['2020-05-1':'2021-05-31']\n",
    "amd_prices = amd_prices.dropna()\n",
    "amd_volume = pd.DataFrame(volumes['936365']).loc['2020-05-1':'2021-05-31']\n",
    "amd_volume = amd_volume.dropna()\n",
    "amd_prices.columns = ['close_price']\n",
    "amd_volume.columns = ['volume']"
   ]
  },
  {
   "cell_type": "code",
   "execution_count": 468,
   "metadata": {},
   "outputs": [
    {
     "data": {
      "text/html": [
       "<div>\n",
       "<style scoped>\n",
       "    .dataframe tbody tr th:only-of-type {\n",
       "        vertical-align: middle;\n",
       "    }\n",
       "\n",
       "    .dataframe tbody tr th {\n",
       "        vertical-align: top;\n",
       "    }\n",
       "\n",
       "    .dataframe thead th {\n",
       "        text-align: right;\n",
       "    }\n",
       "</style>\n",
       "<table border=\"1\" class=\"dataframe\">\n",
       "  <thead>\n",
       "    <tr style=\"text-align: right;\">\n",
       "      <th></th>\n",
       "      <th>close_price</th>\n",
       "      <th>volume</th>\n",
       "    </tr>\n",
       "    <tr>\n",
       "      <th>date</th>\n",
       "      <th></th>\n",
       "      <th></th>\n",
       "    </tr>\n",
       "  </thead>\n",
       "  <tbody>\n",
       "    <tr>\n",
       "      <th>2020-05-01</th>\n",
       "      <td>49.88</td>\n",
       "      <td>69562.6</td>\n",
       "    </tr>\n",
       "    <tr>\n",
       "      <th>2020-05-04</th>\n",
       "      <td>52.56</td>\n",
       "      <td>62590.6</td>\n",
       "    </tr>\n",
       "    <tr>\n",
       "      <th>2020-05-05</th>\n",
       "      <td>52.19</td>\n",
       "      <td>56560.5</td>\n",
       "    </tr>\n",
       "    <tr>\n",
       "      <th>2020-05-06</th>\n",
       "      <td>52.16</td>\n",
       "      <td>48138.1</td>\n",
       "    </tr>\n",
       "    <tr>\n",
       "      <th>2020-05-07</th>\n",
       "      <td>51.95</td>\n",
       "      <td>48956.6</td>\n",
       "    </tr>\n",
       "    <tr>\n",
       "      <th>...</th>\n",
       "      <td>...</td>\n",
       "      <td>...</td>\n",
       "    </tr>\n",
       "    <tr>\n",
       "      <th>2021-05-24</th>\n",
       "      <td>77.44</td>\n",
       "      <td>33194.3</td>\n",
       "    </tr>\n",
       "    <tr>\n",
       "      <th>2021-05-25</th>\n",
       "      <td>77.86</td>\n",
       "      <td>47353.1</td>\n",
       "    </tr>\n",
       "    <tr>\n",
       "      <th>2021-05-26</th>\n",
       "      <td>78.34</td>\n",
       "      <td>30354.0</td>\n",
       "    </tr>\n",
       "    <tr>\n",
       "      <th>2021-05-27</th>\n",
       "      <td>78.42</td>\n",
       "      <td>35883.2</td>\n",
       "    </tr>\n",
       "    <tr>\n",
       "      <th>2021-05-28</th>\n",
       "      <td>80.08</td>\n",
       "      <td>40952.7</td>\n",
       "    </tr>\n",
       "  </tbody>\n",
       "</table>\n",
       "<p>272 rows × 2 columns</p>\n",
       "</div>"
      ],
      "text/plain": [
       "            close_price   volume\n",
       "date                            \n",
       "2020-05-01        49.88  69562.6\n",
       "2020-05-04        52.56  62590.6\n",
       "2020-05-05        52.19  56560.5\n",
       "2020-05-06        52.16  48138.1\n",
       "2020-05-07        51.95  48956.6\n",
       "...                 ...      ...\n",
       "2021-05-24        77.44  33194.3\n",
       "2021-05-25        77.86  47353.1\n",
       "2021-05-26        78.34  30354.0\n",
       "2021-05-27        78.42  35883.2\n",
       "2021-05-28        80.08  40952.7\n",
       "\n",
       "[272 rows x 2 columns]"
      ]
     },
     "execution_count": 468,
     "metadata": {},
     "output_type": "execute_result"
    }
   ],
   "source": [
    "amd_prices['volume'] = amd_volume['volume']\n",
    "amd_df = amd_prices\n",
    "amd_df"
   ]
  },
  {
   "cell_type": "code",
   "execution_count": 469,
   "metadata": {},
   "outputs": [
    {
     "name": "stderr",
     "output_type": "stream",
     "text": [
      "<ipython-input-469-5f2472339241>:3: UserWarning: Matplotlib is currently using agg, which is a non-GUI backend, so cannot show the figure.\n",
      "  plt.show()\n"
     ]
    },
    {
     "data": {
      "image/png": "[encoded data removed]",
      "text/plain": [
       "<Figure size 432x288 with 1 Axes>"
      ]
     },
     "metadata": {
      "needs_background": "light"
     },
     "output_type": "display_data"
    }
   ],
   "source": [
    "amd_df['10d_close_pct'] = amd_df['close_price'].pct_change(10)\n",
    "amd_df['10d_close_pct'].plot.hist(bins=50)\n",
    "plt.show()"
   ]
  },
  {
   "cell_type": "code",
   "execution_count": 470,
   "metadata": {},
   "outputs": [],
   "source": [
    "amd_df['10d_future_close'] = amd_df['close_price'].shift(-1)\n",
    "amd_df['10d_future_close_pct'] = amd_df['10d_future_close']"
   ]
  },
  {
   "cell_type": "code",
   "execution_count": 471,
   "metadata": {},
   "outputs": [
    {
     "data": {
      "text/html": [
       "<div>\n",
       "<style scoped>\n",
       "    .dataframe tbody tr th:only-of-type {\n",
       "        vertical-align: middle;\n",
       "    }\n",
       "\n",
       "    .dataframe tbody tr th {\n",
       "        vertical-align: top;\n",
       "    }\n",
       "\n",
       "    .dataframe thead th {\n",
       "        text-align: right;\n",
       "    }\n",
       "</style>\n",
       "<table border=\"1\" class=\"dataframe\">\n",
       "  <thead>\n",
       "    <tr style=\"text-align: right;\">\n",
       "      <th></th>\n",
       "      <th>close_price</th>\n",
       "      <th>volume</th>\n",
       "      <th>10d_close_pct</th>\n",
       "      <th>10d_future_close</th>\n",
       "      <th>10d_future_close_pct</th>\n",
       "    </tr>\n",
       "  </thead>\n",
       "  <tbody>\n",
       "    <tr>\n",
       "      <th>close_price</th>\n",
       "      <td>1.000000</td>\n",
       "      <td>-0.176783</td>\n",
       "      <td>0.083302</td>\n",
       "      <td>0.985512</td>\n",
       "      <td>0.985512</td>\n",
       "    </tr>\n",
       "    <tr>\n",
       "      <th>volume</th>\n",
       "      <td>-0.176783</td>\n",
       "      <td>1.000000</td>\n",
       "      <td>0.381450</td>\n",
       "      <td>-0.181822</td>\n",
       "      <td>-0.181822</td>\n",
       "    </tr>\n",
       "    <tr>\n",
       "      <th>10d_close_pct</th>\n",
       "      <td>0.083302</td>\n",
       "      <td>0.381450</td>\n",
       "      <td>1.000000</td>\n",
       "      <td>0.084748</td>\n",
       "      <td>0.084748</td>\n",
       "    </tr>\n",
       "    <tr>\n",
       "      <th>10d_future_close</th>\n",
       "      <td>0.985512</td>\n",
       "      <td>-0.181822</td>\n",
       "      <td>0.084748</td>\n",
       "      <td>1.000000</td>\n",
       "      <td>1.000000</td>\n",
       "    </tr>\n",
       "    <tr>\n",
       "      <th>10d_future_close_pct</th>\n",
       "      <td>0.985512</td>\n",
       "      <td>-0.181822</td>\n",
       "      <td>0.084748</td>\n",
       "      <td>1.000000</td>\n",
       "      <td>1.000000</td>\n",
       "    </tr>\n",
       "  </tbody>\n",
       "</table>\n",
       "</div>"
      ],
      "text/plain": [
       "                      close_price    volume  10d_close_pct  10d_future_close  \\\n",
       "close_price              1.000000 -0.176783       0.083302          0.985512   \n",
       "volume                  -0.176783  1.000000       0.381450         -0.181822   \n",
       "10d_close_pct            0.083302  0.381450       1.000000          0.084748   \n",
       "10d_future_close         0.985512 -0.181822       0.084748          1.000000   \n",
       "10d_future_close_pct     0.985512 -0.181822       0.084748          1.000000   \n",
       "\n",
       "                      10d_future_close_pct  \n",
       "close_price                       0.985512  \n",
       "volume                           -0.181822  \n",
       "10d_close_pct                     0.084748  \n",
       "10d_future_close                  1.000000  \n",
       "10d_future_close_pct              1.000000  "
      ]
     },
     "execution_count": 471,
     "metadata": {},
     "output_type": "execute_result"
    }
   ],
   "source": [
    "corr = amd_df.corr()\n",
    "corr"
   ]
  },
  {
   "cell_type": "code",
   "execution_count": 472,
   "metadata": {},
   "outputs": [
    {
     "data": {
      "text/plain": [
       "<matplotlib.collections.PathCollection at 0x7fac792cd070>"
      ]
     },
     "execution_count": 472,
     "metadata": {},
     "output_type": "execute_result"
    },
    {
     "data": {
      "image/png": "[encoded data removed]",
      "text/plain": [
       "<Figure size 432x288 with 1 Axes>"
      ]
     },
     "metadata": {
      "needs_background": "light"
     },
     "output_type": "display_data"
    }
   ],
   "source": [
    "plt.scatter(amd_df['10d_future_close_pct'], \n",
    "         amd_df['close_price'])"
   ]
  },
  {
   "cell_type": "markdown",
   "metadata": {},
   "source": [
    "### Features & Targets"
   ]
  },
  {
   "cell_type": "code",
   "execution_count": 473,
   "metadata": {},
   "outputs": [
    {
     "data": {
      "text/plain": [
       "pandas.core.frame.DataFrame"
      ]
     },
     "execution_count": 473,
     "metadata": {},
     "output_type": "execute_result"
    }
   ],
   "source": [
    "features = amd_df[['10d_close_pct', 'volume']]\n",
    "targets = amd_df['10d_future_close_pct']\n",
    "type(features)"
   ]
  },
  {
   "cell_type": "code",
   "execution_count": 474,
   "metadata": {},
   "outputs": [
    {
     "data": {
      "text/plain": [
       "pandas.core.series.Series"
      ]
     },
     "execution_count": 474,
     "metadata": {},
     "output_type": "execute_result"
    }
   ],
   "source": [
    "type(targets)"
   ]
  },
  {
   "cell_type": "code",
   "execution_count": 475,
   "metadata": {},
   "outputs": [],
   "source": [
    "amd_df['ma200'] = ta.SMA(amd_df['close_price'].values, timeperiod = 200)\n",
    "amd_df['rsi200'] = ta.RSI(amd_df['close_price'].values, timeperiod = 200)\n",
    "amd_df['rsi14'] = ta.RSI(amd_df['close_price'].values, timeperiod = 200)\n",
    "amd_df['ma14'] = ta.RSI(amd_df['close_price'].values, timeperiod = 200)"
   ]
  },
  {
   "cell_type": "code",
   "execution_count": 476,
   "metadata": {},
   "outputs": [],
   "source": [
    "feature_names = ['10d_close_pct', 'ma200', 'rsi200','rsi14','ma14']\n",
    "features = amd_df[feature_names]\n",
    "targets = amd_df['10d_future_close_pct']\n",
    "feature_target_df = amd_df[feature_names + ['10d_future_close_pct']]"
   ]
  },
  {
   "cell_type": "code",
   "execution_count": 477,
   "metadata": {},
   "outputs": [
    {
     "data": {
      "text/plain": [
       "<matplotlib.axes._subplots.AxesSubplot at 0x7fac793379d0>"
      ]
     },
     "execution_count": 477,
     "metadata": {},
     "output_type": "execute_result"
    },
    {
     "data": {
      "image/png": "[encoded data removed]",
      "text/plain": [
       "<Figure size 432x288 with 2 Axes>"
      ]
     },
     "metadata": {
      "needs_background": "light"
     },
     "output_type": "display_data"
    }
   ],
   "source": [
    "import seaborn as sns\n",
    "corr = feature_target_df.corr()\n",
    "sns.heatmap(corr, annot=True)"
   ]
  },
  {
   "cell_type": "code",
   "execution_count": 478,
   "metadata": {},
   "outputs": [],
   "source": [
    "amd_df['Adj_Volume_1d_change'] = amd_df['volume'].pct_change()\n",
    "one_day_change = amd_df['Adj_Volume_1d_change'].values\n",
    "amd_df['Adj_Volume_1d_change_SMA'] = ta.SMA(one_day_change,    \n",
    "                                               timeperiod=10)"
   ]
  },
  {
   "cell_type": "code",
   "execution_count": 479,
   "metadata": {},
   "outputs": [
    {
     "name": "stdout",
     "output_type": "stream",
     "text": [
      "Int64Index([4, 0, 1, 2, 3, 4, 0, 1, 2, 3,\n",
      "            ...\n",
      "            0, 1, 2, 3, 4, 0, 1, 2, 3, 4],\n",
      "           dtype='int64', name='date', length=272)\n"
     ]
    }
   ],
   "source": [
    "print(amd_df.index.dayofweek)"
   ]
  },
  {
   "cell_type": "code",
   "execution_count": 480,
   "metadata": {},
   "outputs": [
    {
     "name": "stdout",
     "output_type": "stream",
     "text": [
      "   weekday_1  weekday_2  weekday_3  weekday_4\n",
      "0          0          0          0          1\n",
      "1          0          0          0          0\n",
      "2          1          0          0          0\n",
      "3          0          1          0          0\n",
      "4          0          0          1          0\n"
     ]
    }
   ],
   "source": [
    "days_of_week = pd.get_dummies(amd_df.index.dayofweek,  \n",
    "                              prefix='weekday',\n",
    "                              drop_first=True)\n",
    "print(days_of_week.head())"
   ]
  },
  {
   "cell_type": "markdown",
   "metadata": {},
   "source": [
    "## MPT"
   ]
  },
  {
   "cell_type": "code",
   "execution_count": 422,
   "metadata": {},
   "outputs": [
    {
     "data": {
      "text/html": [
       "<div>\n",
       "<style scoped>\n",
       "    .dataframe tbody tr th:only-of-type {\n",
       "        vertical-align: middle;\n",
       "    }\n",
       "\n",
       "    .dataframe tbody tr th {\n",
       "        vertical-align: top;\n",
       "    }\n",
       "\n",
       "    .dataframe thead th {\n",
       "        text-align: right;\n",
       "    }\n",
       "</style>\n",
       "<table border=\"1\" class=\"dataframe\">\n",
       "  <thead>\n",
       "    <tr style=\"text-align: right;\">\n",
       "      <th></th>\n",
       "      <th>Instrument</th>\n",
       "      <th>MNEM</th>\n",
       "      <th>RIC</th>\n",
       "      <th>ISIN</th>\n",
       "      <th>NAME</th>\n",
       "      <th>ESTAT</th>\n",
       "    </tr>\n",
       "  </thead>\n",
       "  <tbody>\n",
       "    <tr>\n",
       "      <th>31</th>\n",
       "      <td>992816</td>\n",
       "      <td>@AAPL</td>\n",
       "      <td>AAPL.O</td>\n",
       "      <td>US0378331005</td>\n",
       "      <td>APPLE</td>\n",
       "      <td>ACT.</td>\n",
       "    </tr>\n",
       "    <tr>\n",
       "      <th>883</th>\n",
       "      <td>891399</td>\n",
       "      <td>@AMZN</td>\n",
       "      <td>AMZN.O</td>\n",
       "      <td>US0231351067</td>\n",
       "      <td>AMAZON.COM</td>\n",
       "      <td>ACT.</td>\n",
       "    </tr>\n",
       "    <tr>\n",
       "      <th>1023</th>\n",
       "      <td>15303X</td>\n",
       "      <td>@NFLX</td>\n",
       "      <td>NFLX.O</td>\n",
       "      <td>US64110L1061</td>\n",
       "      <td>NETFLIX</td>\n",
       "      <td>ACT.</td>\n",
       "    </tr>\n",
       "  </tbody>\n",
       "</table>\n",
       "</div>"
      ],
      "text/plain": [
       "     Instrument   MNEM     RIC          ISIN        NAME ESTAT\n",
       "31       992816  @AAPL  AAPL.O  US0378331005       APPLE  ACT.\n",
       "883      891399  @AMZN  AMZN.O  US0231351067  AMAZON.COM  ACT.\n",
       "1023     15303X  @NFLX  NFLX.O  US64110L1061     NETFLIX  ACT."
      ]
     },
     "execution_count": 422,
     "metadata": {},
     "output_type": "execute_result"
    }
   ],
   "source": [
    "stocks = ['AAPL', 'AMZN', 'NFLX']\n",
    "\n",
    "info[info[\"MNEM\"].str.contains('|'.join(stocks), na= False)]"
   ]
  },
  {
   "cell_type": "code",
   "execution_count": 423,
   "metadata": {},
   "outputs": [],
   "source": [
    "aapl_df = pd.DataFrame(prices['992816']).loc['2012-05-1':'2021-05-31']\n",
    "amzn_df = pd.DataFrame(prices['891399']).loc['2012-05-1':'2021-05-31']\n",
    "nflx_df = pd.DataFrame(prices['15303X']).loc['2012-05-1':'2021-05-31']"
   ]
  },
  {
   "cell_type": "code",
   "execution_count": 424,
   "metadata": {},
   "outputs": [
    {
     "data": {
      "text/html": [
       "<div>\n",
       "<style scoped>\n",
       "    .dataframe tbody tr th:only-of-type {\n",
       "        vertical-align: middle;\n",
       "    }\n",
       "\n",
       "    .dataframe tbody tr th {\n",
       "        vertical-align: top;\n",
       "    }\n",
       "\n",
       "    .dataframe thead th {\n",
       "        text-align: right;\n",
       "    }\n",
       "</style>\n",
       "<table border=\"1\" class=\"dataframe\">\n",
       "  <thead>\n",
       "    <tr style=\"text-align: right;\">\n",
       "      <th></th>\n",
       "      <th>AAPL</th>\n",
       "      <th>AMZN</th>\n",
       "      <th>NFLX</th>\n",
       "    </tr>\n",
       "    <tr>\n",
       "      <th>date</th>\n",
       "      <th></th>\n",
       "      <th></th>\n",
       "      <th></th>\n",
       "    </tr>\n",
       "  </thead>\n",
       "  <tbody>\n",
       "    <tr>\n",
       "      <th>2012-05-01</th>\n",
       "      <td>20.7903</td>\n",
       "      <td>230.04</td>\n",
       "      <td>11.6229</td>\n",
       "    </tr>\n",
       "    <tr>\n",
       "      <th>2012-05-02</th>\n",
       "      <td>20.9278</td>\n",
       "      <td>230.25</td>\n",
       "      <td>11.7471</td>\n",
       "    </tr>\n",
       "    <tr>\n",
       "      <th>2012-05-03</th>\n",
       "      <td>20.7793</td>\n",
       "      <td>229.45</td>\n",
       "      <td>10.8529</td>\n",
       "    </tr>\n",
       "    <tr>\n",
       "      <th>2012-05-04</th>\n",
       "      <td>20.1875</td>\n",
       "      <td>223.99</td>\n",
       "      <td>10.4493</td>\n",
       "    </tr>\n",
       "    <tr>\n",
       "      <th>2012-05-07</th>\n",
       "      <td>20.3385</td>\n",
       "      <td>225.16</td>\n",
       "      <td>10.4929</td>\n",
       "    </tr>\n",
       "    <tr>\n",
       "      <th>...</th>\n",
       "      <td>...</td>\n",
       "      <td>...</td>\n",
       "      <td>...</td>\n",
       "    </tr>\n",
       "    <tr>\n",
       "      <th>2021-05-24</th>\n",
       "      <td>127.1000</td>\n",
       "      <td>3244.99</td>\n",
       "      <td>502.8999</td>\n",
       "    </tr>\n",
       "    <tr>\n",
       "      <th>2021-05-25</th>\n",
       "      <td>126.9000</td>\n",
       "      <td>3259.05</td>\n",
       "      <td>501.3401</td>\n",
       "    </tr>\n",
       "    <tr>\n",
       "      <th>2021-05-26</th>\n",
       "      <td>126.8500</td>\n",
       "      <td>3265.16</td>\n",
       "      <td>502.3601</td>\n",
       "    </tr>\n",
       "    <tr>\n",
       "      <th>2021-05-27</th>\n",
       "      <td>125.2800</td>\n",
       "      <td>3230.11</td>\n",
       "      <td>503.8601</td>\n",
       "    </tr>\n",
       "    <tr>\n",
       "      <th>2021-05-28</th>\n",
       "      <td>124.6100</td>\n",
       "      <td>3223.07</td>\n",
       "      <td>502.8101</td>\n",
       "    </tr>\n",
       "  </tbody>\n",
       "</table>\n",
       "<p>2285 rows × 3 columns</p>\n",
       "</div>"
      ],
      "text/plain": [
       "                AAPL     AMZN      NFLX\n",
       "date                                   \n",
       "2012-05-01   20.7903   230.04   11.6229\n",
       "2012-05-02   20.9278   230.25   11.7471\n",
       "2012-05-03   20.7793   229.45   10.8529\n",
       "2012-05-04   20.1875   223.99   10.4493\n",
       "2012-05-07   20.3385   225.16   10.4929\n",
       "...              ...      ...       ...\n",
       "2021-05-24  127.1000  3244.99  502.8999\n",
       "2021-05-25  126.9000  3259.05  501.3401\n",
       "2021-05-26  126.8500  3265.16  502.3601\n",
       "2021-05-27  125.2800  3230.11  503.8601\n",
       "2021-05-28  124.6100  3223.07  502.8101\n",
       "\n",
       "[2285 rows x 3 columns]"
      ]
     },
     "execution_count": 424,
     "metadata": {},
     "output_type": "execute_result"
    }
   ],
   "source": [
    "aapl_df['AMZN'] = amzn_df\n",
    "aapl_df['NFLX'] = nflx_df\n",
    "full_df = aapl_df.rename(columns={\"992816\": \"AAPL\"})\n",
    "full_df"
   ]
  },
  {
   "cell_type": "code",
   "execution_count": 425,
   "metadata": {},
   "outputs": [
    {
     "name": "stdout",
     "output_type": "stream",
     "text": [
      "                AAPL      AMZN      NFLX\n",
      "date                                    \n",
      "2021-01-01  0.054514 -0.010388  0.036228\n",
      "2021-02-01  0.036550  0.049033  0.030945\n",
      "2021-03-01 -0.047339 -0.058853  0.021520\n",
      "2021-04-01 -0.037483  0.004723 -0.020376\n",
      "2021-05-03  0.077561  0.071335 -0.056190\n"
     ]
    }
   ],
   "source": [
    "# calculate daily returns of stocks\n",
    "returns_daily = full_df.pct_change()\n",
    "\n",
    "# resample the full dataframe to monthly timeframe\n",
    "monthly_df = full_df.resample('BMS').first()\n",
    "\n",
    "# calculate monthly returns of the stocks\n",
    "returns_monthly = monthly_df.pct_change().dropna()\n",
    "print(returns_monthly.tail())"
   ]
  },
  {
   "cell_type": "code",
   "execution_count": 426,
   "metadata": {},
   "outputs": [
    {
     "name": "stdout",
     "output_type": "stream",
     "text": [
      "          AAPL      AMZN      NFLX\n",
      "AAPL  0.000245  0.000149  0.000155\n",
      "AMZN  0.000149  0.000205  0.000149\n",
      "NFLX  0.000155  0.000149  0.000195\n"
     ]
    }
   ],
   "source": [
    "# daily covariance of stocks (for each monthly period)\n",
    "covariances = {}\n",
    "for i in returns_monthly.index:    \n",
    "    rtd_idx = returns_daily.index\n",
    "    # mask daily returns for each month (and year) & calculate covariance    \n",
    "    mask = (rtd_idx.month == i.month) & (rtd_idx.year == i.year)    \n",
    "    covariances[i] = returns_daily[mask].cov()\n",
    "\n",
    "print(covariances[i])\n"
   ]
  },
  {
   "cell_type": "code",
   "execution_count": 427,
   "metadata": {},
   "outputs": [],
   "source": [
    "for date in covariances.keys():\n",
    "    cov = covariances[date]\n",
    "    for single_portfolio in range(5000):    \n",
    "        weights = np.random.random(3)       \n",
    "        weights /= np.sum(weights)"
   ]
  },
  {
   "cell_type": "code",
   "execution_count": 428,
   "metadata": {},
   "outputs": [],
   "source": [
    "portfolio_returns, portfolio_volatility, portfolio_weights = {},{},{}\n",
    "\n",
    "# get portfolio performances at each month\n",
    "for date in covariances.keys():   \n",
    "    cov = covariances[date]\n",
    "    for single_portfolio in range(5000):    \n",
    "        weights = np.random.random(3)       \n",
    "        weights /= np.sum(weights)       \n",
    "        returns = np.dot(weights, returns_monthly.loc[date])   \n",
    "        volatility = np.sqrt(np.dot(weights.T, np.dot(cov, weights))) \n",
    "        portfolio_returns.setdefault(date, []).append(returns)       \n",
    "        portfolio_volatility.setdefault(date, []).append(volatility)  \n",
    "        portfolio_weights.setdefault(date, []).append(weights)"
   ]
  },
  {
   "cell_type": "code",
   "execution_count": 429,
   "metadata": {},
   "outputs": [
    {
     "name": "stderr",
     "output_type": "stream",
     "text": [
      "<ipython-input-429-4f253d07942a>:8: UserWarning: Matplotlib is currently using agg, which is a non-GUI backend, so cannot show the figure.\n",
      "  plt.show()\n"
     ]
    },
    {
     "data": {
      "image/png": "[encoded data removed]",
      "text/plain": [
       "<Figure size 432x288 with 1 Axes>"
      ]
     },
     "metadata": {
      "needs_background": "light"
     },
     "output_type": "display_data"
    }
   ],
   "source": [
    "date = sorted(covariances.keys())[-1]\n",
    "# plot efficient frontier\n",
    "plt.scatter(x=portfolio_volatility[date],           \n",
    "            y=portfolio_returns[date],           \n",
    "            alpha=0.5)\n",
    "plt.xlabel('Volatility')\n",
    "plt.ylabel('Returns')\n",
    "plt.show()"
   ]
  },
  {
   "cell_type": "code",
   "execution_count": 430,
   "metadata": {},
   "outputs": [],
   "source": [
    "# empty dictionaries for sharpe ratios and best sharpe indexes by date\n",
    "sharpe_ratio, max_sharpe_idxs = {}, {}\n",
    "# loop through dates and get sharpe ratio for each portfolio\n",
    "for date in portfolio_returns.keys():\n",
    "    for i, ret in enumerate(portfolio_returns[date]):        \n",
    "        volatility = portfolio_volatility[date][i]        \n",
    "        sharpe_ratio.setdefault(date,[]).append(ret / volatility)\n",
    "        \n",
    "        # get the index of the best sharpe ratio for each date   \n",
    "        max_sharpe_idxs[date] = np.argmax(sharpe_ratio[date])"
   ]
  },
  {
   "cell_type": "code",
   "execution_count": 431,
   "metadata": {},
   "outputs": [],
   "source": [
    "# calculate exponentially-weighted moving average of daily returns\n",
    "ewma_daily = returns_daily.ewm(span=30).mean()\n",
    "\n",
    "# resample daily returns to first business day of the month\n",
    "ewma_monthly = ewma_daily.resample('BMS').first()\n",
    "\n",
    "# shift ewma 1 month forward\n",
    "ewma_monthly = ewma_monthly.shift(1).dropna()"
   ]
  },
  {
   "cell_type": "code",
   "execution_count": 432,
   "metadata": {},
   "outputs": [],
   "source": [
    "targets, features = [], []\n",
    "\n",
    "# create features from price history and targets as ideal portfolio\n",
    "for date, ewma in ewma_monthly.iterrows():\n",
    "    # get the index of the best sharpe ratio   \n",
    "    best_idx = max_sharpe_idxs[date]  \n",
    "    targets.append(portfolio_weights[date][best_idx])  \n",
    "    features.append(ewma)\n",
    "\n",
    "targets = np.array(targets)\n",
    "features = np.array(features)"
   ]
  },
  {
   "cell_type": "code",
   "execution_count": 433,
   "metadata": {},
   "outputs": [
    {
     "name": "stderr",
     "output_type": "stream",
     "text": [
      "<ipython-input-433-14ef83764582>:18: UserWarning: Matplotlib is currently using agg, which is a non-GUI backend, so cannot show the figure.\n",
      "  plt.show()\n"
     ]
    },
    {
     "data": {
      "image/png": "[encoded data removed]",
      "text/plain": [
       "<Figure size 432x288 with 1 Axes>"
      ]
     },
     "metadata": {
      "needs_background": "light"
     },
     "output_type": "display_data"
    }
   ],
   "source": [
    "# latest date\n",
    "date = sorted(covariances.keys())[-1]\n",
    "cur_returns = portfolio_returns[date]\n",
    "cur_volatility = portfolio_volatility[date]\n",
    "plt.scatter(x=cur_volatility,           \n",
    "            y=cur_returns,          \n",
    "            alpha=0.1,          \n",
    "            color='blue')\n",
    "\n",
    "best_idx = max_sharpe_idxs[date]\n",
    "\n",
    "plt.scatter(cur_volatility[best_idx],      \n",
    "            cur_returns[best_idx],        \n",
    "            marker='x',            \n",
    "            color='orange')\n",
    "plt.xlabel('Volatility')\n",
    "plt.ylabel('Returns')\n",
    "plt.show()"
   ]
  },
  {
   "cell_type": "code",
   "execution_count": 434,
   "metadata": {},
   "outputs": [],
   "source": [
    "# make train and test features\n",
    "train_size = int(0.8 * features.shape[0])\n",
    "train_features = features[:train_size]\n",
    "train_targets = targets[:train_size]\n",
    "\n",
    "test_features = features[train_size:]\n",
    "test_targets = targets[train_size:]"
   ]
  },
  {
   "cell_type": "code",
   "execution_count": 435,
   "metadata": {},
   "outputs": [
    {
     "name": "stdout",
     "output_type": "stream",
     "text": [
      "(108, 3)\n"
     ]
    }
   ],
   "source": [
    "print(features.shape)"
   ]
  },
  {
   "cell_type": "code",
   "execution_count": 436,
   "metadata": {},
   "outputs": [
    {
     "name": "stdout",
     "output_type": "stream",
     "text": [
      "0.8229202381916507\n",
      "-0.20707728952879492\n"
     ]
    }
   ],
   "source": [
    "from sklearn.ensemble import RandomForestRegressor\n",
    "\n",
    "# fit the model and check scores on train and test\n",
    "rfr = RandomForestRegressor(n_estimators=300, random_state=42)\n",
    "rfr.fit(train_features, train_targets)\n",
    "print(rfr.score(train_features, train_targets))\n",
    "print(rfr.score(test_features, test_targets))"
   ]
  },
  {
   "cell_type": "code",
   "execution_count": 438,
   "metadata": {},
   "outputs": [
    {
     "name": "stderr",
     "output_type": "stream",
     "text": [
      "<ipython-input-438-d9f65d0af84f>:9: UserWarning: Matplotlib is currently using agg, which is a non-GUI backend, so cannot show the figure.\n",
      "  plt.show()\n"
     ]
    },
    {
     "data": {
      "image/png": "[encoded data removed]",
      "text/plain": [
       "<Figure size 432x288 with 1 Axes>"
      ]
     },
     "metadata": {
      "needs_background": "light"
     },
     "output_type": "display_data"
    }
   ],
   "source": [
    "# get predictions from model on train and test\n",
    "test_predictions = rfr.predict(test_features)\n",
    "# calculate and plot returns from our RF predictions and the QQQ returns\n",
    "test_returns = np.sum(returns_monthly.iloc[train_size:] * test_predictions,             \n",
    "                      axis=1)\n",
    "plt.plot(test_returns, label='algo')\n",
    "plt.plot(returns_monthly['NFLX'].iloc[train_size:], label='NFLX')\n",
    "plt.legend()\n",
    "plt.show()"
   ]
  },
  {
   "cell_type": "code",
   "execution_count": 440,
   "metadata": {},
   "outputs": [
    {
     "name": "stdout",
     "output_type": "stream",
     "text": [
      "algo returns: 0.8321142700879807\n",
      "NFLX returns: 0.3590762522487321\n"
     ]
    }
   ],
   "source": [
    "cash = 1000\n",
    "algo_cash = [cash]\n",
    "for r in test_returns:    \n",
    "    cash *= 1 + r  \n",
    "    algo_cash.append(cash)\n",
    "# calculate performance for QQQ\n",
    "cash = 1000# reset cash amount\n",
    "nflx_cash = [cash]\n",
    "for r in returns_monthly['NFLX'].iloc[train_size:]:   \n",
    "    cash *= 1 + r    \n",
    "    nflx_cash.append(cash)\n",
    "    \n",
    "print('algo returns:', (algo_cash[-1] - algo_cash[0]) / algo_cash[0])\n",
    "print('NFLX returns:', (nflx_cash[-1] - nflx_cash[0]) / nflx_cash[0])"
   ]
  },
  {
   "cell_type": "code",
   "execution_count": 441,
   "metadata": {},
   "outputs": [
    {
     "name": "stderr",
     "output_type": "stream",
     "text": [
      "<ipython-input-441-af7b323ff3b7>:5: UserWarning: Matplotlib is currently using agg, which is a non-GUI backend, so cannot show the figure.\n",
      "  plt.show()\n"
     ]
    },
    {
     "data": {
      "image/png": "[encoded data removed]",
      "text/plain": [
       "<Figure size 432x288 with 1 Axes>"
      ]
     },
     "metadata": {
      "needs_background": "light"
     },
     "output_type": "display_data"
    }
   ],
   "source": [
    "plt.plot(algo_cash, label='algo')\n",
    "plt.plot(nflx_cash, label='NFLX')\n",
    "plt.ylabel('$')\n",
    "plt.legend()  # show the legend\n",
    "plt.show()"
   ]
  },
  {
   "cell_type": "code",
   "execution_count": null,
   "metadata": {},
   "outputs": [],
   "source": []
  }
 ],
 "metadata": {
  "kernelspec": {
   "display_name": "Python 3",
   "language": "python",
   "name": "python3"
  },
  "language_info": {
   "codemirror_mode": {
    "name": "ipython",
    "version": 3
   },
   "file_extension": ".py",
   "mimetype": "text/x-python",
   "name": "python",
   "nbconvert_exporter": "python",
   "pygments_lexer": "ipython3",
   "version": "3.8.3"
  }
 },
 "nbformat": 4,
 "nbformat_minor": 4
}
