{
 "cells": [
  {
   "cell_type": "markdown",
   "id": "57caf666",
   "metadata": {},
   "source": [
    "# Notes on feature engineering\n",
    "\n",
    "Link: http://worldcomp-proceedings.com/proc/p2012/ICA4753.pdf\n",
    "\n",
    "Feature sets with higher prediction rates:\n",
    "- volume, company\n",
    "- sp500, company\n",
    "\n",
    "Types of possible feature extraction:\n",
    "- compare with top 3 companies\n",
    "- compare with similar types of companies\n",
    "    - Ex during meeting: comparing different banks\n",
    "- use previous 3 or 5 days if predicting the next day\n",
    "- opening price, closing price, highest price, lowest price, volume, adjusted closing price\n",
    "\n",
    "For neural networks:\n",
    "- use company as a feature\n",
    "\n",
    "\n",
    "# Feature engineering goals and techniques\n",
    "Link: https://www.analyticsvidhya.com/blog/2020/10/7-feature-engineering-techniques-machine-learning/\n",
    "\n",
    "- prepare the input\n",
    "- improve the ML model performance\n",
    "\n",
    "Techniques:\n",
    "- imputation\n",
    "    - numerical: give a possible default value\n",
    "    - categorical: replace with max\n",
    "    - random sample: replace with NaN\n",
    "- handling outliers\n",
    "- log transform\n",
    "- one-hot encoding\n",
    "    - creating dummy variables\n",
    "- grouping operations\n",
    "- scaling\n",
    "\n",
    "get daily percent change data for each stock\n",
    "    - the goal is to normalize the changes relative to price\n",
    "    - ie: scale price movements to stock value\n",
    "- find average variance for each stock in a month\n",
    "- separate data by quarters\n",
    "- add time lag\n",
    "    - https://www.analyticsvidhya.com/blog/2019/12/6-powerful-feature-engineering-techniques-time-series/"
   ]
  }
 ],
 "metadata": {
  "kernelspec": {
   "display_name": "Python 3",
   "language": "python",
   "name": "python3"
  },
  "language_info": {
   "codemirror_mode": {
    "name": "ipython",
    "version": 3
   },
   "file_extension": ".py",
   "mimetype": "text/x-python",
   "name": "python",
   "nbconvert_exporter": "python",
   "pygments_lexer": "ipython3",
   "version": "3.8.8"
  }
 },
 "nbformat": 4,
 "nbformat_minor": 5
}
