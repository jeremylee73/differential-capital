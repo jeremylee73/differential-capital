{
 "cells": [
  {
   "cell_type": "code",
   "execution_count": null,
   "metadata": {},
   "outputs": [],
   "source": [
    "import pandas as pd\n",
    "import numpy as np\n",
    "import seaborn as sns\n",
    "import matplotlib.pyplot as plt\n",
    "import tensorflow as tf\n",
    "from tensorflow.keras.models import Sequential\n",
    "from tensorflow.keras.layers import Dense, SimpleRNN\n",
    "import warnings\n",
    "warnings.filterwarnings(\"ignore\")"
   ]
  },
  {
   "cell_type": "code",
   "execution_count": null,
   "metadata": {},
   "outputs": [],
   "source": [
    "returns = pd.read_pickle(\"../Data/returns.pkl\")\n",
    "returns"
   ]
  },
  {
   "cell_type": "code",
   "execution_count": null,
   "metadata": {},
   "outputs": [],
   "source": [
    "returns = returns.iloc[1:]"
   ]
  },
  {
   "cell_type": "code",
   "execution_count": null,
   "metadata": {},
   "outputs": [],
   "source": [
    "# dropping columns with all NaN\n",
    "drop_columns = []\n",
    "\n",
    "for col in returns.columns:\n",
    "    if returns[col].isnull().all() == True:\n",
    "        drop_columns.append(col)\n",
    "        \n",
    "returns.drop(columns=drop_columns, inplace=True)"
   ]
  },
  {
   "cell_type": "code",
   "execution_count": null,
   "metadata": {},
   "outputs": [],
   "source": [
    "def get_investable(t, n_rows):\n",
    "    \"Find stocks in investable universe at time t\\\n",
    "    (stocks in the S&P500 that have prices recorded for the last n_rows days)\"\n",
    "    \n",
    "    df_investable = returns.copy(deep = True).sort_index(ascending = False)\n",
    "    \n",
    "    t_index = df_investable.index.get_loc(t)\n",
    "    \n",
    "    #take n_rows worth of data upto time specified\n",
    "    df_investable = df_investable.iloc[t_index + 1:t_index + n_rows + 1]\n",
    "    \n",
    "    #find all stocks that exist in the S&P at this time period\n",
    "    investable_universe = []\n",
    "    for col in df_investable.columns:\n",
    "        if ~df_investable[col].iloc[:n_rows].isna().any():\n",
    "            investable_universe.append(col)\n",
    "        \n",
    "    df_investable = df_investable[investable_universe]\n",
    "    \n",
    "    return df_investable"
   ]
  },
  {
   "cell_type": "code",
   "execution_count": null,
   "metadata": {},
   "outputs": [],
   "source": [
    "t = pd.to_datetime(\"2020-02-25\")\n",
    "\n",
    "get_investable(t, 80)"
   ]
  },
  {
   "cell_type": "code",
   "execution_count": null,
   "metadata": {},
   "outputs": [],
   "source": [
    "# Converts investable dataframe into 3D tensor for input into RNN fitting\n",
    "# Eg. if investable_df has shape (52, 635), it is converted to a numpy array of shape (52, 1, 635)\n",
    "\n",
    "def formatX(investable_df):\n",
    "    train_values = []\n",
    "    # Iterates through each day in investable df and appends feature values to train_values\n",
    "    for i in range(len(investable_df.index)):\n",
    "        train_values.append(investable_df.iloc[i].values)\n",
    "    train_values = np.array(train_values) # converts to numpy array\n",
    "    train_values = np.reshape(train_values, (train_values.shape[0], 1, train_values.shape[1])) # reshapes to 3-dimensional\n",
    "    return train_values"
   ]
  },
  {
   "cell_type": "code",
   "execution_count": null,
   "metadata": {},
   "outputs": [],
   "source": [
    "formatX(get_investable(t, 80))"
   ]
  },
  {
   "cell_type": "code",
   "execution_count": null,
   "metadata": {},
   "outputs": [],
   "source": [
    "# Formats output for a stock as a np array\n",
    "# Takes in a stock, a date, and a number of rows to look back on and formats the output values as a numpy array\n",
    "# Eg. formatY(stockX, Feb.25, 80) outputs the returns for stockX starting from 80 days before Feb.25 up to Feb.25\n",
    "\n",
    "def formatY(stock, t, n_rows):\n",
    "    t_index = returns.index.get_loc(t)\n",
    "    return returns[stock].iloc[t_index - n_rows:t_index + 1].shift(-1).iloc[:-1].values[::-1]"
   ]
  },
  {
   "cell_type": "code",
   "execution_count": null,
   "metadata": {},
   "outputs": [],
   "source": [
    "formatY(\"916328\", t, 80)"
   ]
  },
  {
   "cell_type": "code",
   "execution_count": null,
   "metadata": {},
   "outputs": [],
   "source": [
    "# Creating a Simple RNN for an inputted stock\n",
    "\n",
    "def get_model(stock, investable_df):\n",
    "    # Converts features and output values to a 3D tensor and numpy array respectively\n",
    "    convertedX = formatX(investable_df)\n",
    "    t_index = returns.index.get_loc(investable_df.index[0])\n",
    "    t = returns.index[t_index + 1]\n",
    "    convertedY = formatY(stock, t, len(investable_df.index))\n",
    "    \n",
    "    # Builds model with three layers (SimpleRNN, Dense, Dense)\n",
    "    model = Sequential()\n",
    "    model.add(SimpleRNN(units=32, input_shape=(convertedX.shape[1], convertedX.shape[2]), activation=\"relu\"))\n",
    "    model.add(Dense(8, activation=\"relu\")) \n",
    "    model.add(Dense(1))\n",
    "    model.compile(loss='mean_squared_error', optimizer='rmsprop')\n",
    "    \n",
    "    # Fits model on formatted inputs and outputs\n",
    "    history = model.fit(convertedX, convertedY, validation_split=0.2, epochs=100, batch_size=16, verbose=0)\n",
    "    history\n",
    "    \n",
    "    return model, history"
   ]
  },
  {
   "cell_type": "code",
   "execution_count": null,
   "metadata": {},
   "outputs": [],
   "source": [
    "# Predicts stock price at a given date\n",
    "import datetime\n",
    "\n",
    "# Number of days to look back at when training model\n",
    "look_back = 80\n",
    "\n",
    "def pred_date(stock, date):\n",
    "    investable = get_investable(date, look_back + 1)\n",
    "    \n",
    "    # Checking for invalid inputs\n",
    "    if stock not in investable.columns:\n",
    "        print(stock + \" is not in the investable universe\")\n",
    "        return\n",
    "    if investable.shape[0] == 0:\n",
    "        print(\"Investable universe is empty\")\n",
    "        return\n",
    "    \n",
    "    ''' investable.iloc[0:1] is the first row of the investable df \n",
    "    (i.e. the row we're using to predict the stock's return at time date) '''\n",
    "    convertedX = formatX(investable.iloc[0:1])\n",
    "    \n",
    "    ''' We train the model on the day before date (the parameter) so that the date we're predicting\n",
    "    for is not included in the training set'''\n",
    "    model = get_model(stock, investable.iloc[1:])[0]\n",
    "    \n",
    "    return model.predict(convertedX)[0, 0]"
   ]
  },
  {
   "cell_type": "code",
   "execution_count": null,
   "metadata": {},
   "outputs": [],
   "source": [
    "pred_date(\"916328\", t)"
   ]
  },
  {
   "cell_type": "code",
   "execution_count": null,
   "metadata": {},
   "outputs": [],
   "source": [
    "# Predicts returns for all stocks in the investable universe at a given date\n",
    "def pred_date_all(date):\n",
    "    investable = get_investable(date, look_back)\n",
    "    df = pd.DataFrame()\n",
    "    stocks = []\n",
    "    predictions = []\n",
    "    count = 0 # used to keep track of progress when running function\n",
    "    for stock in investable.columns:\n",
    "        stocks.append(stock)\n",
    "        predictions.append(pred_date(stock, date))\n",
    "        count += 1\n",
    "        percent = count / len(investable.columns)\n",
    "        print(str(percent * 100) + \"% \")\n",
    "    df[\"stock\"] = stocks\n",
    "    df[\"pred_\" + date.strftime(\"%Y-%m-%d\")] = predictions\n",
    "    return df"
   ]
  },
  {
   "cell_type": "code",
   "execution_count": null,
   "metadata": {},
   "outputs": [],
   "source": [
    "pred_t = pred_date_all(t)"
   ]
  },
  {
   "cell_type": "code",
   "execution_count": null,
   "metadata": {},
   "outputs": [],
   "source": [
    "pred_t"
   ]
  },
  {
   "cell_type": "code",
   "execution_count": null,
   "metadata": {},
   "outputs": [],
   "source": [
    "# Takes in output of pred_date_all and returns a portfolio and expected returns\n",
    "def get_portfolio(predictions_df, num_stocks):\n",
    "    pred_col = predictions_df.columns[-1]\n",
    "    sorted_df = predictions_df.sort_values(by=pred_col, ascending=False)\n",
    "    top = sorted_df.head(num_stocks)\n",
    "    bot = sorted_df.tail(num_stocks)\n",
    "    returns = top[pred_col].mean() - bot[pred_col].mean()\n",
    "    return top, bot, returns"
   ]
  },
  {
   "cell_type": "code",
   "execution_count": null,
   "metadata": {},
   "outputs": [],
   "source": [
    "t = pd.to_datetime(\"2021-05-28\")\n",
    "test_size = 40\n",
    "look_back = 240\n",
    "investable = get_investable(t, look_back + test_size)\n",
    "\n",
    "tts = investable.index[test_size]\n",
    "delta = datetime.timedelta(days=1)\n",
    "\n",
    "model = get_model(\"916328\", investable.loc[tts:])[0]"
   ]
  },
  {
   "cell_type": "code",
   "execution_count": null,
   "metadata": {},
   "outputs": [],
   "source": [
    "df = pd.DataFrame()\n",
    "predictions = []\n",
    "actuals = []\n",
    "dates = []\n",
    "for date in investable.index[:test_size]:\n",
    "    convertedX = formatX(investable.loc[[date]])\n",
    "    prediction = model.predict(convertedX)[0, 0]\n",
    "    actual = investable.loc[date, \"916328\"].item()\n",
    "    predictions.append(prediction)\n",
    "    actuals = np.append(actuals, actual)\n",
    "    dates.append(date)\n",
    "df[\"predictions\"] = np.array(predictions)\n",
    "df[\"actuals\"] = actuals\n",
    "df[\"date\"] = dates\n",
    "df.set_index(\"date\", inplace=True)\n",
    "df"
   ]
  },
  {
   "cell_type": "code",
   "execution_count": null,
   "metadata": {},
   "outputs": [],
   "source": [
    "sns.lineplot(data=df, x=\"date\", y=\"actuals\")\n",
    "sns.lineplot(data=df, x=\"date\", y=\"predictions\")\n",
    "plt.xticks(rotation=45)"
   ]
  },
  {
   "cell_type": "code",
   "execution_count": null,
   "metadata": {},
   "outputs": [],
   "source": [
    "# metrics for sample stock\n",
    "from sklearn.metrics import mean_squared_error, mean_absolute_error, r2_score\n",
    "\n",
    "print(\"MSE: \" + str(mean_squared_error(y_true=df.actuals, y_pred=df.predictions)))\n",
    "print(\"MAE: \" + str(mean_absolute_error(y_true=df.actuals, y_pred=df.predictions)))\n",
    "print(\"R2: \" + str(r2_score(y_true=df.actuals, y_pred=df.predictions)))"
   ]
  },
  {
   "cell_type": "code",
   "execution_count": null,
   "metadata": {},
   "outputs": [],
   "source": [
    "from sklearn.metrics import mean_squared_error, mean_absolute_error, r2_score\n",
    "\n",
    "def get_metrics(look_back):\n",
    "    t = pd.to_datetime(\"2021-05-28\")\n",
    "    test_size = int(0.1 * look_back)\n",
    "    investable = get_investable(t, test_size + look_back)\n",
    "    actuals = investable.head(test_size)\n",
    "    \n",
    "    df_dict = {}\n",
    "    \n",
    "    count = 1\n",
    "    for stock in investable.columns:\n",
    "        predictions = []\n",
    "        model = get_model(stock, investable.iloc[test_size:])[0]\n",
    "        for day in range(test_size - 1, -1, -1):\n",
    "            formattedX = formatX(investable.iloc[[day]])\n",
    "            predictions.append(model.predict(formattedX)[0, 0])\n",
    "        df_dict[stock] = predictions\n",
    "        if count % 10 == 0:\n",
    "            print(count, end=\" \")\n",
    "        count += 1\n",
    "        \n",
    "    dates = []\n",
    "    for day in investable.index[:test_size][::-1]:\n",
    "        dates.append(day)\n",
    "    df_dict[\"date\"] = dates\n",
    "    \n",
    "    df = pd.DataFrame(df_dict)\n",
    "    df.set_index(\"date\", inplace=True)\n",
    "    df.sort_index(ascending=False, inplace=True)\n",
    "    \n",
    "    # Metrics\n",
    "    MSE = mean_squared_error(y_true=actuals, y_pred=df)\n",
    "    MAE = mean_absolute_error(y_true=actuals, y_pred=df)\n",
    "    R2 = r2_score(y_true=actuals, y_pred=df)\n",
    "    \n",
    "    return df, actuals, {\"MSE\": MSE, \"MAE\": MAE, \"R2\": R2}"
   ]
  },
  {
   "cell_type": "code",
   "execution_count": null,
   "metadata": {},
   "outputs": [],
   "source": [
    "metrics_240 = get_metrics(240)"
   ]
  },
  {
   "cell_type": "code",
   "execution_count": null,
   "metadata": {},
   "outputs": [],
   "source": [
    "print(\"MSE: \" + str(metrics_240[2][\"MSE\"]))\n",
    "print(\"MAE: \" + str(metrics_240[2][\"MAE\"]))\n",
    "print(\"R2: \" + str(metrics_240[2][\"R2\"]))"
   ]
  },
  {
   "cell_type": "code",
   "execution_count": null,
   "metadata": {},
   "outputs": [],
   "source": [
    "def get_returns(df):\n",
    "    new_df = pd.DataFrame()\n",
    "    new_df[\"date\"] = df.index\n",
    "    new_df.set_index(\"date\", inplace=True)\n",
    "    pred_returns = []\n",
    "    actual_returns = []\n",
    "    dates = []\n",
    "    long_returns = []\n",
    "    short_returns = []\n",
    "    for date in df.index:\n",
    "        portfolio = get_portfolio(df.loc[[date]].T.reset_index(), 5)\n",
    "        top = portfolio[0]\n",
    "        bot = portfolio[1]\n",
    "        pred_return = portfolio[2]\n",
    "        top_stocks = top[\"index\"].values\n",
    "        bot_stocks = bot[\"index\"].values\n",
    "        \n",
    "        long_return = returns.loc[date, top_stocks].mean()\n",
    "        short_return = -returns.loc[date, bot_stocks].mean()\n",
    "        actual_return = long_return + short_return \n",
    "        \n",
    "        pred_returns.append(pred_return)\n",
    "        actual_returns.append(actual_return)\n",
    "        long_returns.append(long_return)\n",
    "        short_returns.append(short_return)\n",
    "        dates.append(date)\n",
    "        \n",
    "    df = pd.DataFrame({\"date\": dates, \n",
    "                       \"actual_returns\": actual_returns,\n",
    "                       \"pred_returns\": pred_returns,\n",
    "                       \"long_returns\": long_returns,\n",
    "                       \"short_returns\": short_returns})\n",
    "    \n",
    "    df.set_index(\"date\", inplace=True)\n",
    "    \n",
    "    return df"
   ]
  },
  {
   "cell_type": "code",
   "execution_count": null,
   "metadata": {},
   "outputs": [],
   "source": [
    "get_returns(metrics_240[0])"
   ]
  },
  {
   "cell_type": "code",
   "execution_count": null,
   "metadata": {},
   "outputs": [],
   "source": [
    "returns_240 = get_returns(metrics_240[0])\n",
    "\n",
    "new_df = pd.DataFrame()\n",
    "for col in returns_240.columns:\n",
    "    df = pd.DataFrame()\n",
    "    df[\"date\"] = returns_240.index\n",
    "    df[\"return_val\"] = returns_240[col].values\n",
    "    df[\"return_type\"] = col.replace(\"_returns\", \"\")\n",
    "    new_df = pd.concat([new_df, df])\n",
    "    \n",
    "new_df.set_index(\"date\", inplace=True)\n",
    "new_df"
   ]
  },
  {
   "cell_type": "code",
   "execution_count": null,
   "metadata": {},
   "outputs": [],
   "source": [
    "sns.set(rc={'figure.figsize':(11.7,8.27)})\n",
    "sns.lineplot(data=new_df, x=\"date\", y=\"return_val\", hue=\"return_type\")\n",
    "plt.xticks(rotation=45)\n",
    "plt.axhline(0, ls=\"--\")"
   ]
  },
  {
   "cell_type": "code",
   "execution_count": null,
   "metadata": {},
   "outputs": [],
   "source": [
    "def get_all_models(t, look_back):\n",
    "    models = {}\n",
    "    investable = get_investable(t, look_back)\n",
    "    for stock in investable.columns:\n",
    "        model = get_model(stock, investable)[0]\n",
    "        models[stock] = model\n",
    "    return models"
   ]
  },
  {
   "cell_type": "code",
   "execution_count": null,
   "metadata": {},
   "outputs": [],
   "source": [
    "t = pd.to_datetime(\"2021-05-28\")\n",
    "look_back = 160\n",
    "\n",
    "models = get_all_models(t, look_back)\n",
    "models"
   ]
  },
  {
   "cell_type": "code",
   "execution_count": null,
   "metadata": {},
   "outputs": [],
   "source": [
    "def pred_future(models, days):\n",
    "    investable = get_investable(t, 1)\n",
    "    stocks = investable.columns\n",
    "    df = returns.loc[[t], stocks]\n",
    "    next_day = t\n",
    "    for day in range(1, days + 1):\n",
    "        features = df.iloc[[-1]]\n",
    "        formatted = formatX(features)\n",
    "        next_day += datetime.timedelta(days=1)\n",
    "        if next_day.weekday() == 5: # if saturday, skip to monday\n",
    "            next_day += datetime.timedelta(days=2)\n",
    "        predictions = {\"date\": [next_day]}\n",
    "        for stock in stocks:\n",
    "            model = models[stock]\n",
    "            predictions[stock] = [model.predict(formatted)[0, 0]]\n",
    "        predictions = pd.DataFrame(predictions).set_index(\"date\")\n",
    "        df = pd.concat([df, predictions])\n",
    "    return df"
   ]
  },
  {
   "cell_type": "code",
   "execution_count": null,
   "metadata": {},
   "outputs": [],
   "source": [
    "pred_future(models, 30)"
   ]
  },
  {
   "cell_type": "code",
   "execution_count": null,
   "metadata": {},
   "outputs": [],
   "source": []
  },
  {
   "cell_type": "code",
   "execution_count": 117,
   "metadata": {},
   "outputs": [],
   "source": [
    "# Recall: get_model function\n",
    "\n",
    "# Creating a Simple RNN for an inputted stock\n",
    "def get_model(stock, investable_df):\n",
    "    # Converts features and output values to a 3D tensor and numpy array respectively\n",
    "    convertedX = formatX(investable_df)\n",
    "    t_index = returns.index.get_loc(investable_df.index[0])\n",
    "    t = returns.index[t_index + 1]\n",
    "    convertedY = formatY(stock, t, len(investable_df.index))\n",
    "    \n",
    "    # Builds model with three layers (SimpleRNN, Dense, Dense)\n",
    "    model = Sequential()\n",
    "    model.add(SimpleRNN(units=32, input_shape=(convertedX.shape[1], convertedX.shape[2]), activation=\"relu\"))\n",
    "    model.add(Dense(8, activation=\"relu\")) \n",
    "    model.add(Dense(1))\n",
    "    model.compile(loss='mean_squared_error', optimizer='rmsprop', metrics=['mean_squared_error'])\n",
    "    \n",
    "    # Fits model on formatted inputs and outputs\n",
    "    history = model.fit(convertedX, convertedY, validation_split=0.2, epochs=100, batch_size=16, verbose=0)\n",
    "    history\n",
    "    \n",
    "    return model, history"
   ]
  },
  {
   "cell_type": "code",
   "execution_count": 110,
   "metadata": {},
   "outputs": [
    {
     "name": "stdout",
     "output_type": "stream",
     "text": [
      "dict_keys(['loss', 'mean_absolute_error', 'val_loss', 'val_mean_absolute_error'])\n"
     ]
    }
   ],
   "source": [
    "# increase test_size and look_back\n",
    "t = pd.to_datetime(\"2021-05-28\")\n",
    "test_size = 40\n",
    "look_back = 240\n",
    "investable = get_investable(t, look_back + test_size)\n",
    "\n",
    "# get data to plot\n",
    "history = get_model(\"916328\", investable.loc[tts:])[1]\n",
    "print(history.history.keys())"
   ]
  },
  {
   "cell_type": "code",
   "execution_count": 101,
   "metadata": {},
   "outputs": [
    {
     "data": {
      "image/png": "[encoded data removed]",
      "text/plain": [
       "<Figure size 432x288 with 1 Axes>"
      ]
     },
     "metadata": {
      "needs_background": "light"
     },
     "output_type": "display_data"
    }
   ],
   "source": [
    "# plot the loss history\n",
    "plt.plot(history.history['loss'])\n",
    "plt.plot(history.history['val_loss'])\n",
    "plt.title('model loss')\n",
    "plt.ylabel('loss')\n",
    "plt.xlabel('epoch')\n",
    "plt.legend(['train', 'test'], loc='upper right')\n",
    "plt.show()"
   ]
  },
  {
   "cell_type": "code",
   "execution_count": 108,
   "metadata": {},
   "outputs": [
    {
     "data": {
      "image/png": "[encoded data removed]",
      "text/plain": [
       "<Figure size 432x288 with 1 Axes>"
      ]
     },
     "metadata": {
      "needs_background": "light"
     },
     "output_type": "display_data"
    }
   ],
   "source": [
    "# plot the mean_squared_error history\n",
    "plt.plot(history.history['mean_squared_error'])\n",
    "plt.plot(history.history['val_mean_squared_error'])\n",
    "plt.title('model mean_squared_error')\n",
    "plt.ylabel('mean_squared_error')\n",
    "plt.xlabel('epoch')\n",
    "plt.legend(['train', 'test'], loc='upper right')\n",
    "plt.show()"
   ]
  },
  {
   "cell_type": "code",
   "execution_count": 111,
   "metadata": {},
   "outputs": [
    {
     "data": {
      "image/png": "[encoded data removed]",
      "text/plain": [
       "<Figure size 432x288 with 1 Axes>"
      ]
     },
     "metadata": {
      "needs_background": "light"
     },
     "output_type": "display_data"
    }
   ],
   "source": [
    "# plot the mean_absolute_error history\n",
    "plt.plot(history.history['mean_absolute_error'])\n",
    "plt.plot(history.history['val_mean_absolute_error'])\n",
    "plt.title('model mean_absolute_error')\n",
    "plt.ylabel('mean_absolute_error')\n",
    "plt.xlabel('epoch')\n",
    "plt.legend(['train', 'test'], loc='upper right')\n",
    "plt.show()"
   ]
  },
  {
   "cell_type": "code",
   "execution_count": null,
   "metadata": {},
   "outputs": [],
   "source": []
  },
  {
   "cell_type": "code",
   "execution_count": null,
   "metadata": {},
   "outputs": [],
   "source": [
    "# Try to improve test loss\n",
    "'''\n",
    "- Increase test_size and look_back\n",
    "- Increase the number of units in the first/second layer\n",
    "    - Only if data set is large enough\n",
    "'''"
   ]
  },
  {
   "cell_type": "code",
   "execution_count": 120,
   "metadata": {},
   "outputs": [
    {
     "name": "stdout",
     "output_type": "stream",
     "text": [
      "dict_keys(['loss', 'mean_squared_error', 'val_loss', 'val_mean_squared_error'])\n"
     ]
    }
   ],
   "source": [
    "# increase test_size and look_back\n",
    "t = pd.to_datetime(\"2021-05-28\")\n",
    "test_size = 40 #was 40\n",
    "look_back = 365 #was 240\n",
    "investable = get_investable(t, look_back + test_size)\n",
    "\n",
    "# get data to plot\n",
    "history = get_model(\"916328\", investable.loc[tts:])[1]\n",
    "print(history.history.keys())"
   ]
  },
  {
   "cell_type": "code",
   "execution_count": 121,
   "metadata": {},
   "outputs": [
    {
     "data": {
      "image/png": "[encoded data removed]",
      "text/plain": [
       "<Figure size 432x288 with 1 Axes>"
      ]
     },
     "metadata": {
      "needs_background": "light"
     },
     "output_type": "display_data"
    }
   ],
   "source": [
    "# plot the loss history\n",
    "plt.plot(history.history['loss'])\n",
    "plt.plot(history.history['val_loss'])\n",
    "plt.title('model loss')\n",
    "plt.ylabel('loss')\n",
    "plt.xlabel('epoch')\n",
    "plt.legend(['train', 'test'], loc='upper left')\n",
    "plt.show()"
   ]
  },
  {
   "cell_type": "code",
   "execution_count": 118,
   "metadata": {},
   "outputs": [
    {
     "name": "stdout",
     "output_type": "stream",
     "text": [
      "dict_keys(['loss', 'mean_squared_error', 'val_loss', 'val_mean_squared_error'])\n"
     ]
    }
   ],
   "source": [
    "# increase test_size and look_back\n",
    "t = pd.to_datetime(\"2021-05-28\")\n",
    "test_size = 40 #was 40\n",
    "look_back = 730 #was 240\n",
    "investable = get_investable(t, look_back + test_size)\n",
    "\n",
    "# get data to plot\n",
    "history = get_model(\"916328\", investable.loc[tts:])[1]\n",
    "print(history.history.keys())"
   ]
  },
  {
   "cell_type": "code",
   "execution_count": 119,
   "metadata": {},
   "outputs": [
    {
     "data": {
      "image/png": "[encoded data removed]",
      "text/plain": [
       "<Figure size 432x288 with 1 Axes>"
      ]
     },
     "metadata": {
      "needs_background": "light"
     },
     "output_type": "display_data"
    }
   ],
   "source": [
    "# plot the loss history\n",
    "plt.plot(history.history['loss'])\n",
    "plt.plot(history.history['val_loss'])\n",
    "plt.title('model loss')\n",
    "plt.ylabel('loss')\n",
    "plt.xlabel('epoch')\n",
    "plt.legend(['train', 'test'], loc='upper left')\n",
    "plt.show()"
   ]
  },
  {
   "cell_type": "code",
   "execution_count": null,
   "metadata": {},
   "outputs": [],
   "source": []
  }
 ],
 "metadata": {
  "kernelspec": {
   "display_name": "Python 3",
   "language": "python",
   "name": "python3"
  },
  "language_info": {
   "codemirror_mode": {
    "name": "ipython",
    "version": 3
   },
   "file_extension": ".py",
   "mimetype": "text/x-python",
   "name": "python",
   "nbconvert_exporter": "python",
   "pygments_lexer": "ipython3",
   "version": "3.8.8"
  }
 },
 "nbformat": 4,
 "nbformat_minor": 4
}
